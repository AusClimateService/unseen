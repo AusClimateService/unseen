{
 "cells": [
  {
   "cell_type": "markdown",
   "id": "b276b0f3",
   "metadata": {},
   "source": [
    "## Correlation between regions"
   ]
  },
  {
   "cell_type": "markdown",
   "id": "126be1c0",
   "metadata": {},
   "source": [
    "Rankings (driest year in 120 year observational record)\n",
    "\n",
    "|      | all | south-west | south-east | north-east |\n",
    "| ---  | --- | ---        | ---        | ---        |\n",
    "| 2019 | 1   | 1          | 6          | 1          | \n",
    "| 2002 | 2   | 8          | 8          | 6          |\n",
    "| 1994 | 4   | 4          | 10         | 9          |\n",
    "| 2006 | 7   | 46         | 3          | 7          |\n",
    "\n",
    "Return period in model ensemble\n",
    "\n",
    "|      | all  | south-west | south-east | north-east |\n",
    "| ---  | ---  | ---        | ---        | ---        |\n",
    "| 2019 | 2142 | 40         | 18         | 685        | \n",
    "| 2002 | 51   | 14         | 16         | 13         |\n",
    "| 1994 | 31   | 27         | 10         | 8          |\n",
    "| 2006 | 16   | 2          | 22         | 11         |\n",
    "\n",
    "Observational record correlations:\n",
    "- south-east and north-east annual rainfall: 0.67\n",
    "- south-east and south-west annual rainfall: 0.45\n",
    "- north-east and south-west annual rainfall: 0.15\n",
    "\n",
    "So the special features of 2019 was the exceptionally low rainfall in the north-east coupled with record-low rainfall in the south-west also (rainfall in these two regions isn't correlated)."
   ]
  },
  {
   "cell_type": "code",
   "execution_count": 8,
   "id": "fe31e00d",
   "metadata": {},
   "outputs": [],
   "source": [
    "import os\n",
    "import sys\n",
    "sys.path.append('/home/599/dbi599/unseen/unseen')\n",
    "\n",
    "import itertools\n",
    "import matplotlib.pyplot as plt\n",
    "import pandas as pd\n",
    "import seaborn as sns\n",
    "import xarray as xr\n",
    "import numpy as np\n",
    "\n",
    "import fileio"
   ]
  },
  {
   "cell_type": "code",
   "execution_count": 3,
   "id": "537f1098",
   "metadata": {},
   "outputs": [],
   "source": [
    "agcd_file = \"/g/data/xv83/dbi599/ag/pr_agcd_1900-2019_A-DEC-mean_wheat-sheep-mean.zarr.zip\"\n",
    "agcd_ds = fileio.open_file(agcd_file)\n",
    "agcd_ds['pr'] = agcd_ds['pr'] * 365\n",
    "agcd_ds['pr'].attrs['units'] = 'mm yr-1'"
   ]
  },
  {
   "cell_type": "code",
   "execution_count": 18,
   "id": "bdeb859e",
   "metadata": {},
   "outputs": [
    {
     "data": {
      "text/plain": [
       "array(1.)"
      ]
     },
     "execution_count": 18,
     "metadata": {},
     "output_type": "execute_result"
    }
   ],
   "source": [
    "xr.corr(agcd_ds['pr'].sel(region='all'), agcd_ds['pr'].sel(region='all'), dim='time').values"
   ]
  },
  {
   "cell_type": "code",
   "execution_count": 19,
   "id": "05cdd9eb",
   "metadata": {},
   "outputs": [
    {
     "name": "stdout",
     "output_type": "stream",
     "text": [
      "all all 0.9999999999999999\n",
      "all south-west 0.4706094253635904\n",
      "all south-east 0.8626583938896787\n",
      "all north-east 0.9211354461063724\n",
      "south-west all 0.4706094253635904\n",
      "south-west south-west 0.9999999999999998\n",
      "south-west south-east 0.4490696208442514\n",
      "south-west north-east 0.14754799348884057\n",
      "south-east all 0.8626583938896787\n",
      "south-east south-west 0.4490696208442514\n",
      "south-east south-east 1.0\n",
      "south-east north-east 0.6702589616396489\n",
      "north-east all 0.9211354461063724\n",
      "north-east south-west 0.14754799348884057\n",
      "north-east south-east 0.6702589616396489\n",
      "north-east north-east 1.0000000000000004\n"
     ]
    }
   ],
   "source": [
    "regions = ['all', 'south-west', 'south-east', 'north-east']\n",
    "for region1, region2 in itertools.product(regions, regions):\n",
    "    corr = xr.corr(agcd_ds['pr'].sel(region=region1), agcd_ds['pr'].sel(region=region2), dim='time').values\n",
    "    print(region1, region2, corr)"
   ]
  },
  {
   "cell_type": "code",
   "execution_count": 22,
   "id": "f8562ef5",
   "metadata": {},
   "outputs": [],
   "source": [
    "regions = ['all', 'south-west', 'south-east', 'north-east']\n",
    "indexes = [0, 1, 2, 3]\n",
    "correlations = np.zeros([4, 4])\n",
    "for index1, index2 in itertools.product(indexes, indexes):\n",
    "    corr = xr.corr(agcd_ds['pr'].sel(region=regions[index1]), agcd_ds['pr'].sel(region=regions[index2]), dim='time').values\n",
    "    correlations[index1, index2] = corr"
   ]
  },
  {
   "cell_type": "code",
   "execution_count": 23,
   "id": "b24be372",
   "metadata": {},
   "outputs": [
    {
     "data": {
      "text/plain": [
       "array([[1.        , 0.47060943, 0.86265839, 0.92113545],\n",
       "       [0.47060943, 1.        , 0.44906962, 0.14754799],\n",
       "       [0.86265839, 0.44906962, 1.        , 0.67025896],\n",
       "       [0.92113545, 0.14754799, 0.67025896, 1.        ]])"
      ]
     },
     "execution_count": 23,
     "metadata": {},
     "output_type": "execute_result"
    }
   ],
   "source": [
    "correlations"
   ]
  },
  {
   "cell_type": "code",
   "execution_count": 27,
   "id": "f097ffcc",
   "metadata": {},
   "outputs": [
    {
     "data": {
      "text/plain": [
       "<matplotlib.image.AxesImage at 0x7fca8de3bb80>"
      ]
     },
     "execution_count": 27,
     "metadata": {},
     "output_type": "execute_result"
    },
    {
     "data": {
      "image/png": "[encoded data removed]",
      "text/plain": [
       "<Figure size 432x288 with 1 Axes>"
      ]
     },
     "metadata": {
      "needs_background": "light"
     },
     "output_type": "display_data"
    }
   ],
   "source": [
    "plt.imshow(correlations, cmap='hot_r', vmin=0, vmax=1)"
   ]
  },
  {
   "cell_type": "code",
   "execution_count": null,
   "id": "a236b78f",
   "metadata": {},
   "outputs": [],
   "source": []
  }
 ],
 "metadata": {
  "kernelspec": {
   "display_name": "Python 3",
   "language": "python",
   "name": "python3"
  },
  "language_info": {
   "codemirror_mode": {
    "name": "ipython",
    "version": 3
   },
   "file_extension": ".py",
   "mimetype": "text/x-python",
   "name": "python",
   "nbconvert_exporter": "python",
   "pygments_lexer": "ipython3",
   "version": "3.9.4"
  }
 },
 "nbformat": 4,
 "nbformat_minor": 5
}
