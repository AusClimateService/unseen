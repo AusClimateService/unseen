{
 "cells": [
  {
   "cell_type": "code",
   "execution_count": 1,
   "id": "0c3148cd",
   "metadata": {},
   "outputs": [],
   "source": [
    "import sys\n",
    "sys.path.append('/home/599/dbi599/unseen/unseen')\n",
    "import glob\n",
    "\n",
    "import xarray as xr\n",
    "import dask\n",
    "from dask.distributed import Client, LocalCluster\n",
    "import cartopy.crs as ccrs\n",
    "import matplotlib.pyplot as plt\n",
    "import numpy as np\n",
    "\n",
    "import fileio\n",
    "import spatial_selection\n",
    "import general_utils"
   ]
  },
  {
   "cell_type": "code",
   "execution_count": 2,
   "id": "873f0b9f",
   "metadata": {},
   "outputs": [
    {
     "data": {
      "text/html": [
       "<table style=\"border: 2px solid white;\">\n",
       "<tr>\n",
       "<td style=\"vertical-align: top; border: 0px solid white\">\n",
       "<h3 style=\"text-align: left;\">Client</h3>\n",
       "<ul style=\"text-align: left; list-style: none; margin: 0; padding: 0;\">\n",
       "  <li><b>Scheduler: </b>tcp://127.0.0.1:34887</li>\n",
       "  <li><b>Dashboard: </b><a href='http://127.0.0.1:8787/status' target='_blank'>http://127.0.0.1:8787/status</a></li>\n",
       "</ul>\n",
       "</td>\n",
       "<td style=\"vertical-align: top; border: 0px solid white\">\n",
       "<h3 style=\"text-align: left;\">Cluster</h3>\n",
       "<ul style=\"text-align: left; list-style:none; margin: 0; padding: 0;\">\n",
       "  <li><b>Workers: </b>4</li>\n",
       "  <li><b>Cores: </b>16</li>\n",
       "  <li><b>Memory: </b>44.92 GiB</li>\n",
       "</ul>\n",
       "</td>\n",
       "</tr>\n",
       "</table>"
      ],
      "text/plain": [
       "<Client: 'tcp://127.0.0.1:34887' processes=4 threads=16, memory=44.92 GiB>"
      ]
     },
     "execution_count": 2,
     "metadata": {},
     "output_type": "execute_result"
    }
   ],
   "source": [
    "dask.config.set(temporary_directory='/g/data/xv83/dbi599')\n",
    "cluster = LocalCluster()#n_workers=1, threads_per_worker=1)\n",
    "client = Client(cluster)\n",
    "client"
   ]
  },
  {
   "cell_type": "code",
   "execution_count": 3,
   "id": "9ccf2e79",
   "metadata": {},
   "outputs": [],
   "source": [
    "def plot_usa(ds, outfile=None):\n",
    "    \"\"\"USA plot\"\"\"\n",
    "    \n",
    "    fig = plt.figure(figsize=[12,5])\n",
    "    map_proj = ccrs.LambertConformal(central_longitude=262.5, central_latitude=38.5, standard_parallels=[38.5, 38.5])\n",
    "    h500_levels = np.arange(5200, 6150, 50)\n",
    "    \n",
    "    ax = fig.add_subplot(111, projection=map_proj)\n",
    "    \n",
    "    ds['tasmax'].plot(ax=ax, transform=ccrs.PlateCarree(), cmap=plt.cm.hot_r, vmin=10, vmax=50)\n",
    "    \n",
    "    lines = ds['h500'].plot.contour(ax=ax,\n",
    "                                    transform=ccrs.PlateCarree(),\n",
    "                                    levels=h500_levels,\n",
    "                                    colors=['brown'])\n",
    "    ax.clabel(lines, colors=['brown'], manual=False, inline=True)\n",
    "        \n",
    "    ax.plot(-122.31 + 360, 47.45, 'bo', transform=ccrs.PlateCarree())\n",
    "    ax.coastlines()\n",
    "    ax.set_extent([-140, -60, 20, 70])\n",
    "    ax.gridlines(linestyle='--')\n",
    "    if outfile:\n",
    "        plt.savefig(outfile, bbox_inches='tight', facecolor='white')\n",
    "    plt.show()"
   ]
  },
  {
   "cell_type": "code",
   "execution_count": 4,
   "id": "db44a71b",
   "metadata": {},
   "outputs": [],
   "source": [
    "cafe_files = glob.glob('/g/data/xv83/dcfp/CAFE-f6/c5-d60-pX-f6-??[9,0,1,2]*/atmos_isobaric_daily.zarr.zip')\n",
    "cafe_files.sort()"
   ]
  },
  {
   "cell_type": "markdown",
   "id": "d7bd9de4",
   "metadata": {},
   "source": [
    "I think the unit conversion of tasmax needs to come after spatial subsetting..."
   ]
  },
  {
   "cell_type": "code",
   "execution_count": 5,
   "id": "b61c727b",
   "metadata": {},
   "outputs": [],
   "source": [
    "ds_tasmax = fileio.open_mfzarr(cafe_files,\n",
    "                               variables=['tasmax'],\n",
    "                               metadata_file='../config/dataset_cafe_daily.yml',\n",
    "                               spatial_coords=[47.45, -122.31 + 360])\n",
    "# units={'tasmax': 'C'},"
   ]
  },
  {
   "cell_type": "code",
   "execution_count": 6,
   "id": "fa9ccd54",
   "metadata": {},
   "outputs": [],
   "source": [
    "#ds_tasmax = ds_tasmax.compute()"
   ]
  },
  {
   "cell_type": "code",
   "execution_count": 7,
   "id": "fe963e37",
   "metadata": {},
   "outputs": [],
   "source": [
    "argmax = ds_tasmax['tasmax'].argmax(dim=['ensemble', 'time'])"
   ]
  },
  {
   "cell_type": "code",
   "execution_count": null,
   "id": "f9a8157d",
   "metadata": {},
   "outputs": [],
   "source": [
    "time_idx = int(argmax['time'].values)\n",
    "print(f'Time index: {time_idx}')"
   ]
  },
  {
   "cell_type": "code",
   "execution_count": null,
   "id": "0339cc3f",
   "metadata": {},
   "outputs": [],
   "source": [
    "ens_idx = int(argmax['ensemble'].values)\n",
    "print(f'Ensemble index: {ens_idx}')"
   ]
  },
  {
   "cell_type": "code",
   "execution_count": null,
   "id": "ea0200d5",
   "metadata": {},
   "outputs": [],
   "source": [
    "max_temp = float(ds_tasmax['tasmax'].isel({'ensemble': ens_idx , 'time': time_idx}).values)\n",
    "print(f'Maximum temperature: {max_temp}C')"
   ]
  },
  {
   "cell_type": "code",
   "execution_count": null,
   "id": "e927305d",
   "metadata": {},
   "outputs": [],
   "source": [
    "ds = fileio.open_mfzarr(cafe_files,\n",
    "                        variables=['h500', 'tasmax'],\n",
    "                        metadata_file='../config/dataset_cafe_daily.yml')\n",
    "# units={'tasmax': 'C'},"
   ]
  },
  {
   "cell_type": "code",
   "execution_count": null,
   "id": "af2f2e02",
   "metadata": {},
   "outputs": [],
   "source": [
    "ds_max = ds.isel({'ensemble': ens_idx, 'time': time_idx})"
   ]
  },
  {
   "cell_type": "code",
   "execution_count": null,
   "id": "95e49059",
   "metadata": {},
   "outputs": [],
   "source": [
    "ds_max['tasmax'] = general_utils.convert_units(ds_max['tasmax'], 'C')"
   ]
  },
  {
   "cell_type": "code",
   "execution_count": null,
   "id": "9bf3d67b",
   "metadata": {},
   "outputs": [],
   "source": [
    "plot_usa(ds_max, '/g/data/xv83/dbi599/seatac/seatac_hottest_day.pdf')"
   ]
  },
  {
   "cell_type": "markdown",
   "id": "92903866",
   "metadata": {},
   "source": [
    "TODO: Same plot for JRA-55"
   ]
  },
  {
   "cell_type": "code",
   "execution_count": null,
   "id": "f639f3f6",
   "metadata": {},
   "outputs": [],
   "source": []
  }
 ],
 "metadata": {
  "kernelspec": {
   "display_name": "Python 3",
   "language": "python",
   "name": "python3"
  },
  "language_info": {
   "codemirror_mode": {
    "name": "ipython",
    "version": 3
   },
   "file_extension": ".py",
   "mimetype": "text/x-python",
   "name": "python",
   "nbconvert_exporter": "python",
   "pygments_lexer": "ipython3",
   "version": "3.9.4"
  }
 },
 "nbformat": 4,
 "nbformat_minor": 5
}
