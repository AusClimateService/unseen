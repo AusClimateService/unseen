{
 "cells": [
  {
   "cell_type": "markdown",
   "id": "4d047299",
   "metadata": {
    "papermill": {
     "duration": 0.061712,
     "end_time": "2021-11-10T06:40:02.977280",
     "exception": false,
     "start_time": "2021-11-10T06:40:02.915568",
     "status": "completed"
    },
    "tags": []
   },
   "source": [
    "# Rainfall across the Australian wheatbelt\n",
    "\n",
    "The Australian Bureau of Agricultural and Resource Economics and Sciences (ABARES)\n",
    "defines a set of Australian broadacre zones and regions.\n",
    "\n",
    "The last four very dry years across the \"wheat-sheep\" region\n",
    "line up really well with the last four times Australia had to import grain\n",
    "(1994-95, 2002-03, 2006-07, 2019-20; see\n",
    "[ABC](https://www.abc.net.au/news/rural/2019-05-15/australia-approves-grain-imports/11113320),\n",
    "[Guardian](https://www.theguardian.com/australia-news/2019/may/15/australia-to-import-wheat-for-first-time-in-12-years-as-drought-eats-into-grain-production))."
   ]
  },
  {
   "cell_type": "code",
   "execution_count": null,
   "id": "99691939",
   "metadata": {
    "execution": {
     "iopub.execute_input": "2021-11-10T06:57:17.217267Z",
     "iopub.status.busy": "2021-11-10T06:57:17.216591Z",
     "iopub.status.idle": "2021-11-10T06:57:17.219226Z",
     "shell.execute_reply": "2021-11-10T06:57:17.219840Z"
    },
    "papermill": {
     "duration": 0.066242,
     "end_time": "2021-11-10T06:57:17.220014",
     "exception": false,
     "start_time": "2021-11-10T06:57:17.153772",
     "status": "completed"
    },
    "tags": []
   },
   "outputs": [],
   "source": [
    "wheat_import_years = [1994, 2002, 2006, 2019]"
   ]
  },
  {
   "cell_type": "code",
   "execution_count": null,
   "id": "95569a41",
   "metadata": {
    "execution": {
     "iopub.execute_input": "2021-11-10T06:40:03.706966Z",
     "iopub.status.busy": "2021-11-10T06:40:03.705872Z",
     "iopub.status.idle": "2021-11-10T06:40:36.076523Z",
     "shell.execute_reply": "2021-11-10T06:40:36.074300Z"
    },
    "papermill": {
     "duration": 32.699851,
     "end_time": "2021-11-10T06:40:36.076995",
     "exception": false,
     "start_time": "2021-11-10T06:40:03.377144",
     "status": "completed"
    },
    "tags": []
   },
   "outputs": [],
   "source": [
    "import os\n",
    "import sys\n",
    "sys.path.append('/home/599/dbi599/unseen/unseen')\n",
    "\n",
    "import matplotlib.pyplot as plt\n",
    "import pandas as pd\n",
    "import seaborn as sns\n",
    "import xarray as xr\n",
    "import numpy as np\n",
    "from dask.distributed import Client, LocalCluster\n",
    "from IPython.display import Image\n",
    "import cftime\n",
    "\n",
    "import fileio\n",
    "import time_utils"
   ]
  },
  {
   "cell_type": "code",
   "execution_count": null,
   "id": "d80b0c20",
   "metadata": {},
   "outputs": [],
   "source": [
    "Image(filename='/g/data/xv83/dbi599/ag/figures/ag_regions.png')"
   ]
  },
  {
   "cell_type": "code",
   "execution_count": null,
   "id": "56e9e0ab",
   "metadata": {
    "execution": {
     "iopub.execute_input": "2021-11-10T06:40:36.460334Z",
     "iopub.status.busy": "2021-11-10T06:40:36.458618Z",
     "iopub.status.idle": "2021-11-10T06:40:36.462647Z",
     "shell.execute_reply": "2021-11-10T06:40:36.464049Z"
    },
    "papermill": {
     "duration": 0.334745,
     "end_time": "2021-11-10T06:40:36.464563",
     "exception": false,
     "start_time": "2021-11-10T06:40:36.129818",
     "status": "completed"
    },
    "tags": [
     "parameters"
    ]
   },
   "outputs": [],
   "source": [
    "# Optional parameters \n",
    "# (This cell is tagged \"parameters\")\n",
    "dpi = 300"
   ]
  },
  {
   "cell_type": "code",
   "execution_count": null,
   "id": "b9787631",
   "metadata": {
    "execution": {
     "iopub.execute_input": "2021-11-10T06:40:37.166645Z",
     "iopub.status.busy": "2021-11-10T06:40:37.165655Z",
     "iopub.status.idle": "2021-11-10T06:40:37.174073Z",
     "shell.execute_reply": "2021-11-10T06:40:37.172749Z"
    },
    "papermill": {
     "duration": 0.065256,
     "end_time": "2021-11-10T06:40:37.174390",
     "exception": false,
     "start_time": "2021-11-10T06:40:37.109134",
     "status": "completed"
    },
    "tags": []
   },
   "outputs": [],
   "source": [
    "# Required parameters\n",
    "assert 'region' in locals(), \"Must provide an AGCD data file (papermill option -p region [all south-west south-east or north-east])\"\n",
    "assert os.path.isfile(agcd_file), \"Must provide an AGCD data file (papermill option -p agcd_file [filepath])\"\n",
    "assert os.path.isfile(cafe_file), \"Must provide an CAFE data file (papermill option -p cafe_file [filepath])\"\n",
    "assert os.path.isfile(cafe_bc_file), \"Must provide an CAFE bias corrected data file (papermill option -p cafe_bc_file [filepath])\"\n",
    "assert os.path.isfile(fidelity_file), \"Must provide an fidelity test file (papermill option -p fidelity_file [filepath])\"\n",
    "assert os.path.isfile(independence_plot), \"Must provide an independence test plot (papermill option -p independence_plot [filepath])\""
   ]
  },
  {
   "cell_type": "markdown",
   "id": "5c8da4f2",
   "metadata": {
    "papermill": {
     "duration": 0.054808,
     "end_time": "2021-11-10T06:40:37.514985",
     "exception": false,
     "start_time": "2021-11-10T06:40:37.460177",
     "status": "completed"
    },
    "tags": []
   },
   "source": [
    "## Observations"
   ]
  },
  {
   "cell_type": "code",
   "execution_count": null,
   "id": "f40952f6",
   "metadata": {
    "execution": {
     "iopub.execute_input": "2021-11-10T06:40:38.622937Z",
     "iopub.status.busy": "2021-11-10T06:40:38.622107Z",
     "iopub.status.idle": "2021-11-10T06:40:39.058833Z",
     "shell.execute_reply": "2021-11-10T06:40:39.057963Z"
    },
    "papermill": {
     "duration": 1.495912,
     "end_time": "2021-11-10T06:40:39.059034",
     "exception": false,
     "start_time": "2021-11-10T06:40:37.563122",
     "status": "completed"
    },
    "tags": []
   },
   "outputs": [],
   "source": [
    "agcd_ds = fileio.open_file(agcd_file)"
   ]
  },
  {
   "cell_type": "code",
   "execution_count": null,
   "id": "1493ff0f",
   "metadata": {
    "execution": {
     "iopub.execute_input": "2021-11-10T06:40:39.638278Z",
     "iopub.status.busy": "2021-11-10T06:40:39.637469Z",
     "iopub.status.idle": "2021-11-10T06:40:39.752699Z",
     "shell.execute_reply": "2021-11-10T06:40:39.751546Z"
    },
    "papermill": {
     "duration": 0.184444,
     "end_time": "2021-11-10T06:40:39.752991",
     "exception": false,
     "start_time": "2021-11-10T06:40:39.568547",
     "status": "completed"
    },
    "tags": []
   },
   "outputs": [],
   "source": [
    "agcd_ds"
   ]
  },
  {
   "cell_type": "code",
   "execution_count": null,
   "id": "1b8ea59f",
   "metadata": {
    "execution": {
     "iopub.execute_input": "2021-11-10T06:40:39.871085Z",
     "iopub.status.busy": "2021-11-10T06:40:39.870212Z",
     "iopub.status.idle": "2021-11-10T06:40:39.875582Z",
     "shell.execute_reply": "2021-11-10T06:40:39.874172Z"
    },
    "papermill": {
     "duration": 0.069952,
     "end_time": "2021-11-10T06:40:39.875854",
     "exception": false,
     "start_time": "2021-11-10T06:40:39.805902",
     "status": "completed"
    },
    "tags": []
   },
   "outputs": [],
   "source": [
    "agcd_ds['pr'] = agcd_ds['pr'] * 365\n",
    "agcd_ds['pr'].attrs['units'] = 'mm yr-1'"
   ]
  },
  {
   "cell_type": "code",
   "execution_count": null,
   "id": "9c701895",
   "metadata": {
    "execution": {
     "iopub.execute_input": "2021-11-10T06:40:40.012403Z",
     "iopub.status.busy": "2021-11-10T06:40:40.007864Z",
     "iopub.status.idle": "2021-11-10T06:40:40.310342Z",
     "shell.execute_reply": "2021-11-10T06:40:40.309443Z"
    },
    "papermill": {
     "duration": 0.385858,
     "end_time": "2021-11-10T06:40:40.310618",
     "exception": false,
     "start_time": "2021-11-10T06:40:39.924760",
     "status": "completed"
    },
    "tags": []
   },
   "outputs": [],
   "source": [
    "years = agcd_ds['time'].dt.year.values\n",
    "agcd_df = pd.DataFrame(index=years)\n",
    "agcd_df[region] = agcd_ds['pr'].sel(region=region).values"
   ]
  },
  {
   "cell_type": "code",
   "execution_count": null,
   "id": "6c1bcdcc",
   "metadata": {},
   "outputs": [],
   "source": [
    "mean_rainfall = agcd_df[region].mean()\n",
    "print(mean_rainfall)"
   ]
  },
  {
   "cell_type": "code",
   "execution_count": null,
   "id": "be139ba3",
   "metadata": {},
   "outputs": [],
   "source": [
    "years_list = list(years)\n",
    "nyears = len(years_list)\n",
    "colors = ['tab:blue'] * nyears\n",
    "for year in wheat_import_years:\n",
    "    index = years_list.index(year)\n",
    "    colors[index] = 'tab:red'"
   ]
  },
  {
   "cell_type": "code",
   "execution_count": null,
   "id": "1251fa67",
   "metadata": {
    "execution": {
     "iopub.execute_input": "2021-11-10T06:40:40.577006Z",
     "iopub.status.busy": "2021-11-10T06:40:40.575530Z",
     "iopub.status.idle": "2021-11-10T06:40:44.846454Z",
     "shell.execute_reply": "2021-11-10T06:40:44.845152Z"
    },
    "papermill": {
     "duration": 4.484433,
     "end_time": "2021-11-10T06:40:44.846776",
     "exception": false,
     "start_time": "2021-11-10T06:40:40.362343",
     "status": "completed"
    },
    "tags": []
   },
   "outputs": [],
   "source": [
    "agcd_df[region].plot.bar(figsize=[20, 9], width=0.8, color=colors)\n",
    "plt.axhline(mean_rainfall, color='0.5', linestyle='--')\n",
    "plt.ylabel('annual precipitation (mm)')\n",
    "plt.title(f'wheat-sheep ({region}) region')\n",
    "plt.grid(axis='y')\n",
    "plt.savefig(f'/g/data/xv83/dbi599/ag/figures/wheat_sheep_precip_{region}.png',\n",
    "            bbox_inches='tight', facecolor='white', dpi=dpi)\n",
    "plt.show()"
   ]
  },
  {
   "cell_type": "code",
   "execution_count": null,
   "id": "527ce770",
   "metadata": {
    "execution": {
     "iopub.execute_input": "2021-11-10T06:40:45.044260Z",
     "iopub.status.busy": "2021-11-10T06:40:45.043279Z",
     "iopub.status.idle": "2021-11-10T06:40:45.050025Z",
     "shell.execute_reply": "2021-11-10T06:40:45.048875Z"
    },
    "papermill": {
     "duration": 0.149163,
     "end_time": "2021-11-10T06:40:45.050387",
     "exception": false,
     "start_time": "2021-11-10T06:40:44.901224",
     "status": "completed"
    },
    "tags": []
   },
   "outputs": [],
   "source": [
    "ranked_years = agcd_df[region].sort_values()\n",
    "ranked_years.head(n=10)"
   ]
  },
  {
   "cell_type": "code",
   "execution_count": null,
   "id": "784c60e9",
   "metadata": {
    "execution": {
     "iopub.execute_input": "2021-11-10T06:40:45.534916Z",
     "iopub.status.busy": "2021-11-10T06:40:45.533989Z",
     "iopub.status.idle": "2021-11-10T06:40:45.538700Z",
     "shell.execute_reply": "2021-11-10T06:40:45.537722Z"
    },
    "papermill": {
     "duration": 0.068924,
     "end_time": "2021-11-10T06:40:45.538940",
     "exception": false,
     "start_time": "2021-11-10T06:40:45.470016",
     "status": "completed"
    },
    "tags": []
   },
   "outputs": [],
   "source": [
    "def year_in_context(ranked_years_df, year):\n",
    "    \"\"\"Put a given year in context\"\"\"\n",
    "    \n",
    "    nyears = len(ranked_years_df)\n",
    "    rank = ranked_years_df.index.get_loc(year) + 1\n",
    "    percentile = (rank / nyears) * 100\n",
    "    return_period = nyears / rank\n",
    "    \n",
    "    print(f'# {year} statistics:')\n",
    "    print(f'{rank} in {nyears} year event')\n",
    "    print(f'{percentile:.1f}% percentile')\n",
    "    print(f'{return_period:.0f} year return period')\n",
    "    print(' ')"
   ]
  },
  {
   "cell_type": "code",
   "execution_count": null,
   "id": "f8a2f497",
   "metadata": {},
   "outputs": [],
   "source": [
    "for year in wheat_import_years:\n",
    "    year_in_context(ranked_years, year)"
   ]
  },
  {
   "cell_type": "code",
   "execution_count": null,
   "id": "edde00e7",
   "metadata": {},
   "outputs": [],
   "source": [
    "all_regions = ['all', 'south-west', 'south-east', 'north-east']\n",
    "for comparison_region in all_regions:\n",
    "    if not region == comparison_region:\n",
    "        corr = xr.corr(agcd_ds['pr'].sel(region=region),\n",
    "                       agcd_ds['pr'].sel(region=comparison_region),\n",
    "                       dim='time').values\n",
    "        print(f'{region} vs {comparison_region}: {corr}')"
   ]
  },
  {
   "cell_type": "markdown",
   "id": "d082e6af",
   "metadata": {
    "papermill": {
     "duration": 0.36814,
     "end_time": "2021-11-10T06:40:47.189976",
     "exception": false,
     "start_time": "2021-11-10T06:40:46.821836",
     "status": "completed"
    },
    "tags": []
   },
   "source": [
    "## Model ensemble"
   ]
  },
  {
   "cell_type": "code",
   "execution_count": null,
   "id": "1620b927",
   "metadata": {
    "execution": {
     "iopub.execute_input": "2021-11-10T06:40:48.051656Z",
     "iopub.status.busy": "2021-11-10T06:40:48.050465Z",
     "iopub.status.idle": "2021-11-10T06:40:48.092690Z",
     "shell.execute_reply": "2021-11-10T06:40:48.091443Z"
    },
    "papermill": {
     "duration": 0.382828,
     "end_time": "2021-11-10T06:40:48.092963",
     "exception": false,
     "start_time": "2021-11-10T06:40:47.710135",
     "status": "completed"
    },
    "tags": []
   },
   "outputs": [],
   "source": [
    "cafe_ds = fileio.open_file(cafe_file)\n",
    "cafe_bc_ds = fileio.open_file(cafe_bc_file)"
   ]
  },
  {
   "cell_type": "code",
   "execution_count": null,
   "id": "807292f7",
   "metadata": {
    "execution": {
     "iopub.execute_input": "2021-11-10T06:40:48.206876Z",
     "iopub.status.busy": "2021-11-10T06:40:48.206060Z",
     "iopub.status.idle": "2021-11-10T06:40:48.213155Z",
     "shell.execute_reply": "2021-11-10T06:40:48.212273Z"
    },
    "papermill": {
     "duration": 0.066792,
     "end_time": "2021-11-10T06:40:48.213423",
     "exception": false,
     "start_time": "2021-11-10T06:40:48.146631",
     "status": "completed"
    },
    "tags": []
   },
   "outputs": [],
   "source": [
    "cafe_bc_ds['pr'].attrs['units']"
   ]
  },
  {
   "cell_type": "code",
   "execution_count": null,
   "id": "7cda3ac9",
   "metadata": {
    "execution": {
     "iopub.execute_input": "2021-11-10T06:40:48.759695Z",
     "iopub.status.busy": "2021-11-10T06:40:48.756787Z",
     "iopub.status.idle": "2021-11-10T06:40:48.764608Z",
     "shell.execute_reply": "2021-11-10T06:40:48.763400Z"
    },
    "papermill": {
     "duration": 0.225075,
     "end_time": "2021-11-10T06:40:48.764878",
     "exception": false,
     "start_time": "2021-11-10T06:40:48.539803",
     "status": "completed"
    },
    "tags": []
   },
   "outputs": [],
   "source": [
    "cafe_ds['pr'] = cafe_ds['pr'] * 365\n",
    "cafe_ds['pr'].attrs['units'] = 'mm yr-1'\n",
    "\n",
    "cafe_bc_ds['pr'] = cafe_bc_ds['pr'] * 365\n",
    "cafe_bc_ds['pr'].attrs['units'] = 'mm yr-1'"
   ]
  },
  {
   "cell_type": "markdown",
   "id": "1e039e61",
   "metadata": {
    "papermill": {
     "duration": 0.11603,
     "end_time": "2021-11-10T06:40:50.728532",
     "exception": false,
     "start_time": "2021-11-10T06:40:50.612502",
     "status": "completed"
    },
    "tags": []
   },
   "source": [
    "### Bias correction and fidelity testing"
   ]
  },
  {
   "cell_type": "code",
   "execution_count": null,
   "id": "110c554e",
   "metadata": {
    "execution": {
     "iopub.execute_input": "2021-11-10T06:40:51.903800Z",
     "iopub.status.busy": "2021-11-10T06:40:51.898570Z",
     "iopub.status.idle": "2021-11-10T06:40:54.401195Z",
     "shell.execute_reply": "2021-11-10T06:40:54.402171Z"
    },
    "papermill": {
     "duration": 3.617364,
     "end_time": "2021-11-10T06:40:54.402607",
     "exception": false,
     "start_time": "2021-11-10T06:40:50.785243",
     "status": "completed"
    },
    "tags": []
   },
   "outputs": [],
   "source": [
    "fig = plt.figure(figsize=[10, 6])\n",
    "cafe_ds.sel(region=region)['pr'].plot.hist(bins=50, density=True, label='CAFE', alpha=0.7)\n",
    "cafe_bc_ds.sel(region=region)['pr'].plot.hist(bins=50, density=True, label='CAFE BIAS CORRECTED', facecolor='darkblue', alpha=0.7)\n",
    "agcd_ds.sel(region=region)['pr'].plot.hist(bins=50, density=True, label='AGCD', facecolor='green', alpha=0.7)\n",
    "plt.xlabel('annual precipitation (mm)')\n",
    "plt.ylabel('probability')\n",
    "plt.title(f'Average precipitation across the wheat-sheep ({region}) region')\n",
    "plt.legend()\n",
    "plt.savefig(f'/g/data/xv83/dbi599/ag/figures/wheat_sheep_precip_histogram_{region}.png',\n",
    "            bbox_inches='tight', facecolor='white', dpi=dpi)\n",
    "plt.show()"
   ]
  },
  {
   "cell_type": "code",
   "execution_count": null,
   "id": "8b3f7de0",
   "metadata": {
    "execution": {
     "iopub.execute_input": "2021-11-10T06:40:54.723569Z",
     "iopub.status.busy": "2021-11-10T06:40:54.722018Z",
     "iopub.status.idle": "2021-11-10T06:40:54.742438Z",
     "shell.execute_reply": "2021-11-10T06:40:54.741130Z"
    },
    "papermill": {
     "duration": 0.283108,
     "end_time": "2021-11-10T06:40:54.742819",
     "exception": false,
     "start_time": "2021-11-10T06:40:54.459711",
     "status": "completed"
    },
    "tags": []
   },
   "outputs": [],
   "source": [
    "fidelity_ds = xr.open_zarr(fidelity_file)"
   ]
  },
  {
   "cell_type": "code",
   "execution_count": null,
   "id": "a21af1f7",
   "metadata": {
    "execution": {
     "iopub.execute_input": "2021-11-10T06:40:54.948914Z",
     "iopub.status.busy": "2021-11-10T06:40:54.946406Z",
     "iopub.status.idle": "2021-11-10T06:40:54.984775Z",
     "shell.execute_reply": "2021-11-10T06:40:54.985886Z"
    },
    "papermill": {
     "duration": 0.109454,
     "end_time": "2021-11-10T06:40:54.986360",
     "exception": false,
     "start_time": "2021-11-10T06:40:54.876906",
     "status": "completed"
    },
    "tags": []
   },
   "outputs": [],
   "source": [
    "fidelity_ds.sel(region=region)['pval'].values"
   ]
  },
  {
   "cell_type": "markdown",
   "id": "1a8210c0",
   "metadata": {
    "papermill": {
     "duration": 0.190392,
     "end_time": "2021-11-10T06:40:55.244791",
     "exception": false,
     "start_time": "2021-11-10T06:40:55.054399",
     "status": "completed"
    },
    "tags": []
   },
   "source": [
    "These are the p-values for each lead time.\n",
    "\n",
    "p > 0.05 means the null hypothesis (that the two samples are from the same population) can't be rejected."
   ]
  },
  {
   "cell_type": "markdown",
   "id": "b25bd815",
   "metadata": {
    "papermill": {
     "duration": 0.14207,
     "end_time": "2021-11-10T06:40:56.717385",
     "exception": false,
     "start_time": "2021-11-10T06:40:56.575315",
     "status": "completed"
    },
    "tags": []
   },
   "source": [
    "### Independence testing"
   ]
  },
  {
   "cell_type": "code",
   "execution_count": null,
   "id": "b819d698",
   "metadata": {
    "execution": {
     "iopub.execute_input": "2021-11-10T06:40:57.962691Z",
     "iopub.status.busy": "2021-11-10T06:40:57.961006Z",
     "iopub.status.idle": "2021-11-10T06:40:57.973323Z",
     "shell.execute_reply": "2021-11-10T06:40:57.972190Z"
    },
    "papermill": {
     "duration": 0.887387,
     "end_time": "2021-11-10T06:40:57.973567",
     "exception": false,
     "start_time": "2021-11-10T06:40:57.086180",
     "status": "completed"
    },
    "tags": []
   },
   "outputs": [],
   "source": [
    "Image(filename=independence_plot)"
   ]
  },
  {
   "cell_type": "markdown",
   "id": "692c7b58",
   "metadata": {
    "papermill": {
     "duration": 0.147691,
     "end_time": "2021-11-10T06:40:58.851129",
     "exception": false,
     "start_time": "2021-11-10T06:40:58.703438",
     "status": "completed"
    },
    "tags": []
   },
   "source": [
    "### Exceedance curves"
   ]
  },
  {
   "cell_type": "code",
   "execution_count": null,
   "id": "f0b0019b",
   "metadata": {
    "execution": {
     "iopub.execute_input": "2021-11-10T06:40:58.986604Z",
     "iopub.status.busy": "2021-11-10T06:40:58.985634Z",
     "iopub.status.idle": "2021-11-10T06:40:59.001520Z",
     "shell.execute_reply": "2021-11-10T06:40:59.002580Z"
    },
    "papermill": {
     "duration": 0.090495,
     "end_time": "2021-11-10T06:40:59.002934",
     "exception": false,
     "start_time": "2021-11-10T06:40:58.912439",
     "status": "completed"
    },
    "tags": []
   },
   "outputs": [],
   "source": [
    "cafe_bc_ds_stacked = cafe_bc_ds.sel(region=region, lead_time=slice(3, None))['pr'].stack({'sample': ['ensemble', 'init_date', 'lead_time']})"
   ]
  },
  {
   "cell_type": "code",
   "execution_count": null,
   "id": "7d4fdc9e",
   "metadata": {
    "execution": {
     "iopub.execute_input": "2021-11-10T06:40:59.785084Z",
     "iopub.status.busy": "2021-11-10T06:40:59.783731Z",
     "iopub.status.idle": "2021-11-10T06:40:59.791105Z",
     "shell.execute_reply": "2021-11-10T06:40:59.789758Z"
    },
    "papermill": {
     "duration": 0.416649,
     "end_time": "2021-11-10T06:40:59.791362",
     "exception": false,
     "start_time": "2021-11-10T06:40:59.374713",
     "status": "completed"
    },
    "tags": []
   },
   "outputs": [],
   "source": [
    "cafe_bc_ds_stacked.shape"
   ]
  },
  {
   "cell_type": "code",
   "execution_count": null,
   "id": "101073b6",
   "metadata": {
    "execution": {
     "iopub.execute_input": "2021-11-10T06:40:59.970173Z",
     "iopub.status.busy": "2021-11-10T06:40:59.965798Z",
     "iopub.status.idle": "2021-11-10T06:45:48.611366Z",
     "shell.execute_reply": "2021-11-10T06:45:48.609960Z"
    },
    "papermill": {
     "duration": 288.738139,
     "end_time": "2021-11-10T06:45:48.611783",
     "exception": false,
     "start_time": "2021-11-10T06:40:59.873644",
     "status": "completed"
    },
    "tags": []
   },
   "outputs": [],
   "source": [
    "cafe_bc_ds_stacked = time_utils.select_time_period(cafe_bc_ds_stacked, ['1990-01-01', '2019-12-31'])"
   ]
  },
  {
   "cell_type": "code",
   "execution_count": null,
   "id": "433023f0",
   "metadata": {
    "execution": {
     "iopub.execute_input": "2021-11-10T06:45:48.743073Z",
     "iopub.status.busy": "2021-11-10T06:45:48.736473Z",
     "iopub.status.idle": "2021-11-10T06:45:49.285913Z",
     "shell.execute_reply": "2021-11-10T06:45:49.284251Z"
    },
    "papermill": {
     "duration": 0.616942,
     "end_time": "2021-11-10T06:45:49.286397",
     "exception": false,
     "start_time": "2021-11-10T06:45:48.669455",
     "status": "completed"
    },
    "tags": []
   },
   "outputs": [],
   "source": [
    "cafe_bc_ds_stacked = cafe_bc_ds_stacked.dropna(dim='sample')"
   ]
  },
  {
   "cell_type": "code",
   "execution_count": null,
   "id": "71f0bbf9",
   "metadata": {
    "execution": {
     "iopub.execute_input": "2021-11-10T06:45:49.420129Z",
     "iopub.status.busy": "2021-11-10T06:45:49.418904Z",
     "iopub.status.idle": "2021-11-10T06:45:49.426340Z",
     "shell.execute_reply": "2021-11-10T06:45:49.425090Z"
    },
    "papermill": {
     "duration": 0.07575,
     "end_time": "2021-11-10T06:45:49.426638",
     "exception": false,
     "start_time": "2021-11-10T06:45:49.350888",
     "status": "completed"
    },
    "tags": []
   },
   "outputs": [],
   "source": [
    "cafe_bc_ds_stacked.shape"
   ]
  },
  {
   "cell_type": "code",
   "execution_count": null,
   "id": "2bfeb478",
   "metadata": {
    "execution": {
     "iopub.execute_input": "2021-11-10T06:45:50.080125Z",
     "iopub.status.busy": "2021-11-10T06:45:50.078981Z",
     "iopub.status.idle": "2021-11-10T06:45:50.084748Z",
     "shell.execute_reply": "2021-11-10T06:45:50.083341Z"
    },
    "papermill": {
     "duration": 0.388224,
     "end_time": "2021-11-10T06:45:50.085054",
     "exception": false,
     "start_time": "2021-11-10T06:45:49.696830",
     "status": "completed"
    },
    "tags": []
   },
   "outputs": [],
   "source": [
    "def calc_exceedance(ds_stacked):\n",
    "    \"\"\"Calculate exceedance\"\"\"\n",
    "    \n",
    "    data = ds_stacked.compute()\n",
    "    sorted_data = np.sort(data, axis=None)\n",
    "    exceedance = 1.-np.arange(1.,len(data) + 1.)/len(data)\n",
    "    \n",
    "    return sorted_data, exceedance"
   ]
  },
  {
   "cell_type": "code",
   "execution_count": null,
   "id": "ad23cea6",
   "metadata": {
    "execution": {
     "iopub.execute_input": "2021-11-10T06:45:51.584613Z",
     "iopub.status.busy": "2021-11-10T06:45:51.579167Z",
     "iopub.status.idle": "2021-11-10T06:45:52.134345Z",
     "shell.execute_reply": "2021-11-10T06:45:52.132942Z"
    },
    "papermill": {
     "duration": 1.482582,
     "end_time": "2021-11-10T06:45:52.134682",
     "exception": false,
     "start_time": "2021-11-10T06:45:50.652100",
     "status": "completed"
    },
    "tags": []
   },
   "outputs": [],
   "source": [
    "sorted_data, exceedance = calc_exceedance(cafe_bc_ds_stacked)\n",
    "\n",
    "fig = plt.figure(figsize=[8, 6])\n",
    "ax = fig.add_subplot()\n",
    "ax.plot(sorted_data, exceedance * 100)\n",
    "ax.set_title(f'Average precipitation across the wheat-sheep ({region}) region')\n",
    "ax.set_ylabel('likelihood of exceedance (%)')\n",
    "ax.set_xlabel('annual precipitation (mm)')\n",
    "plt.show()"
   ]
  },
  {
   "cell_type": "code",
   "execution_count": null,
   "id": "b4978634",
   "metadata": {
    "execution": {
     "iopub.execute_input": "2021-11-10T06:45:52.407401Z",
     "iopub.status.busy": "2021-11-10T06:45:52.406024Z",
     "iopub.status.idle": "2021-11-10T06:45:52.411389Z",
     "shell.execute_reply": "2021-11-10T06:45:52.409859Z"
    },
    "papermill": {
     "duration": 0.083872,
     "end_time": "2021-11-10T06:45:52.411694",
     "exception": false,
     "start_time": "2021-11-10T06:45:52.327822",
     "status": "completed"
    },
    "tags": []
   },
   "outputs": [],
   "source": [
    "def event_in_context(data, threshold, year, direction):\n",
    "    \"\"\"Put an event in context\n",
    "    \n",
    "    Args:\n",
    "      data (np.ndarray)\n",
    "      threshold (float) : event threshold\n",
    "      year (int) : year that the event occured in the observations\n",
    "      direction (str) : 'less' or 'greater' than\n",
    "    \"\"\"\n",
    "\n",
    "    n_population = len(data)\n",
    "    if direction == 'less':\n",
    "        n_events = np.sum(data < threshold)\n",
    "    elif direction == 'greater':\n",
    "        n_events = np.sum(data > threshold)\n",
    "    else:\n",
    "        raise ValueError(\"\"\"direction must be 'less' or 'greater'\"\"\")\n",
    "    percentile = (n_events / n_population) * 100\n",
    "    return_period = 1 / (percentile / 100)\n",
    "    \n",
    "    print(f'# {year} ({threshold:.1f}mm) statistics:')\n",
    "    print(f'{n_events} in {n_population} year event')\n",
    "    print(f'{percentile:.2f}% percentile')\n",
    "    print(f'{return_period:.0f} year return period')\n",
    "    print(' ')"
   ]
  },
  {
   "cell_type": "markdown",
   "id": "76a3aeca",
   "metadata": {},
   "source": [
    "#### Full 1990-2019 time period"
   ]
  },
  {
   "cell_type": "code",
   "execution_count": null,
   "id": "90d9d50a",
   "metadata": {
    "execution": {
     "iopub.execute_input": "2021-11-10T06:45:52.659826Z",
     "iopub.status.busy": "2021-11-10T06:45:52.659034Z",
     "iopub.status.idle": "2021-11-10T06:45:52.901631Z",
     "shell.execute_reply": "2021-11-10T06:45:52.902494Z"
    },
    "papermill": {
     "duration": 0.430536,
     "end_time": "2021-11-10T06:45:52.902813",
     "exception": false,
     "start_time": "2021-11-10T06:45:52.472277",
     "status": "completed"
    },
    "tags": []
   },
   "outputs": [],
   "source": [
    "for year in wheat_import_years:\n",
    "    event_in_context(sorted_data, ranked_years[year], year, 'less')\n",
    "\n",
    "fig = plt.figure(figsize=[8, 6])\n",
    "ax = fig.add_subplot()\n",
    "ax.plot(sorted_data, 100 - (exceedance * 100))\n",
    "ax.invert_xaxis()\n",
    "ax.set_title(f'Average precipitation across the wheat-sheep ({region}) region')\n",
    "ax.set_ylabel('likelihood of deceedance (%)')\n",
    "ax.set_xlabel('annual precipitation (mm)')\n",
    "\n",
    "for year in wheat_import_years:\n",
    "    ax.axvline(ranked_years[year], color='0.5', linestyle='--')\n",
    "\n",
    "plt.savefig(f'/g/data/xv83/dbi599/ag/figures/wheat_sheep_precip_deceedence_{region}.png',\n",
    "            bbox_inches='tight', facecolor='white', dpi=dpi)"
   ]
  },
  {
   "cell_type": "markdown",
   "id": "74e2732e",
   "metadata": {},
   "source": [
    "#### By decade"
   ]
  },
  {
   "cell_type": "code",
   "execution_count": null,
   "id": "af3878f5",
   "metadata": {
    "execution": {
     "iopub.execute_input": "2021-11-10T06:45:53.041274Z",
     "iopub.status.busy": "2021-11-10T06:45:53.040161Z",
     "iopub.status.idle": "2021-11-10T06:57:16.967672Z",
     "shell.execute_reply": "2021-11-10T06:57:16.968254Z"
    },
    "papermill": {
     "duration": 684.000222,
     "end_time": "2021-11-10T06:57:16.968642",
     "exception": false,
     "start_time": "2021-11-10T06:45:52.968420",
     "status": "completed"
    },
    "tags": []
   },
   "outputs": [],
   "source": [
    "fig = plt.figure(figsize=[8, 6])\n",
    "ax = fig.add_subplot()\n",
    "\n",
    "for start_year in [1990, 1995, 2000, 2005, 2010, 2015]:\n",
    "    end_year = start_year + 4\n",
    "    start_date = f'{start_year}-01-01'\n",
    "    end_date = f'{end_year}-12-31'\n",
    "    ds_selection = time_utils.select_time_period(cafe_bc_ds_stacked, [start_date, end_date])\n",
    "    ds_selection = ds_selection.dropna('sample')\n",
    "    sorted_data, exceedance = calc_exceedance(ds_selection)\n",
    "    n_years = len(sorted_data)\n",
    "    label = f'{start_year}-{end_year} ({n_years} samples)'\n",
    "    ax.plot(sorted_data, 100 - (exceedance * 100), label=label)\n",
    "    \n",
    "    print(f'{start_year}-{end_year}')\n",
    "    for year in wheat_import_years:\n",
    "        event_in_context(ds_selection.values, ranked_years[year], year, 'less')\n",
    "\n",
    "ax.invert_xaxis()\n",
    "ax.set_title(f'Average precipitation across the wheat-sheep ({region}) region')\n",
    "ax.set_ylabel('likelihood of deceedance (%)')\n",
    "ax.set_xlabel('annual precipitation (mm)')\n",
    "ax.legend()\n",
    "for year in wheat_import_years:\n",
    "    ax.axvline(ranked_years[year], color='0.5', linestyle='--')\n",
    "\n",
    "plt.savefig(f'/g/data/xv83/dbi599/ag/figures/wheat_sheep_precip_deceedence-by-pentad_{region}.png',\n",
    "            bbox_inches='tight', facecolor='white', dpi=dpi)"
   ]
  },
  {
   "cell_type": "code",
   "execution_count": null,
   "id": "39e4acf0",
   "metadata": {
    "papermill": {
     "duration": 0.850899,
     "end_time": "2021-11-10T06:57:22.233717",
     "exception": false,
     "start_time": "2021-11-10T06:57:21.382818",
     "status": "completed"
    },
    "tags": []
   },
   "outputs": [],
   "source": []
  }
 ],
 "metadata": {
  "kernelspec": {
   "display_name": "Python 3",
   "language": "python",
   "name": "python3"
  },
  "language_info": {
   "codemirror_mode": {
    "name": "ipython",
    "version": 3
   },
   "file_extension": ".py",
   "mimetype": "text/x-python",
   "name": "python",
   "nbconvert_exporter": "python",
   "pygments_lexer": "ipython3",
   "version": "3.9.4"
  },
  "papermill": {
   "default_parameters": {},
   "duration": 1050.737063,
   "end_time": "2021-11-10T06:57:24.018858",
   "environment_variables": {},
   "exception": null,
   "input_path": "ag_analysis.ipynb",
   "output_path": "ag_analysis.ipynb",
   "parameters": {
    "agcd_file": "/g/data/xv83/dbi599/ag/pr_agcd_1900-2019_A-DEC-mean_wheat-sheep-mean.zarr.zip",
    "cafe_bc_file": "/g/data/xv83/dbi599/ag/pr_cafe-c5-d60-pX-f6_19900501-20191101_A-DEC-mean_wheat-sheep-mean_bias-corrected-agcd-additive.zarr.zip",
    "cafe_file": "/g/data/xv83/dbi599/ag/pr_cafe-c5-d60-pX-f6_19811101-20201101_A-DEC-mean_wheat-sheep-mean.zarr.zip",
    "fidelity_file": "/g/data/xv83/dbi599/ag/ks-test_pr_cafe-c5-d60-pX-f6_19900501-20191101_A-DEC-mean_wheat-sheep-mean_bias-corrected-agcd-additive.zarr.zip",
    "independence_plot": "/g/data/xv83/dbi599/ag/independence-test_pr_cafe-c5-d60-pX-f6_19900501-20191101_A-DEC-mean_wheat-sheep-mean_bias-corrected-agcd-additive_region-all.png",
    "region": "all"
   },
   "start_time": "2021-11-10T06:39:53.281795",
   "version": "2.3.3"
  }
 },
 "nbformat": 4,
 "nbformat_minor": 5
}
