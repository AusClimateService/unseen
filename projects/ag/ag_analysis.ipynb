{
 "cells": [
  {
   "cell_type": "markdown",
   "id": "4d047299",
   "metadata": {
    "papermill": {
     "duration": 0.061712,
     "end_time": "2021-11-10T06:40:02.977280",
     "exception": false,
     "start_time": "2021-11-10T06:40:02.915568",
     "status": "completed"
    },
    "tags": []
   },
   "source": [
    "# Rainfall across the Australian wheatbelt\n",
    "\n",
    "The Australian Bureau of Agricultural and Resource Economics and Sciences (ABARES)\n",
    "defines a set of Australian broadacre zones and regions.\n",
    "\n",
    "The last four very dry years across the \"wheat-sheep\" region\n",
    "line up really well with the last four times Australia had to import grain\n",
    "(1994-95, 2002-03, 2006-07, 2019-20; see\n",
    "[ABC](https://www.abc.net.au/news/rural/2019-05-15/australia-approves-grain-imports/11113320),\n",
    "[Guardian](https://www.theguardian.com/australia-news/2019/may/15/australia-to-import-wheat-for-first-time-in-12-years-as-drought-eats-into-grain-production))."
   ]
  },
  {
   "cell_type": "code",
   "execution_count": 1,
   "id": "95569a41",
   "metadata": {
    "execution": {
     "iopub.execute_input": "2021-11-10T06:40:03.706966Z",
     "iopub.status.busy": "2021-11-10T06:40:03.705872Z",
     "iopub.status.idle": "2021-11-10T06:40:36.076523Z",
     "shell.execute_reply": "2021-11-10T06:40:36.074300Z"
    },
    "papermill": {
     "duration": 32.699851,
     "end_time": "2021-11-10T06:40:36.076995",
     "exception": false,
     "start_time": "2021-11-10T06:40:03.377144",
     "status": "completed"
    },
    "tags": []
   },
   "outputs": [],
   "source": [
    "import os\n",
    "import sys\n",
    "sys.path.append('/home/599/dbi599/unseen/unseen')\n",
    "\n",
    "import matplotlib.pyplot as plt\n",
    "import pandas as pd\n",
    "import seaborn as sns\n",
    "import xarray as xr\n",
    "import numpy as np\n",
    "from dask.distributed import Client, LocalCluster\n",
    "from IPython.display import Image\n",
    "import cftime\n",
    "\n",
    "import fileio\n",
    "import time_utils"
   ]
  },
  {
   "cell_type": "code",
   "execution_count": 2,
   "id": "56e9e0ab",
   "metadata": {
    "execution": {
     "iopub.execute_input": "2021-11-10T06:40:36.460334Z",
     "iopub.status.busy": "2021-11-10T06:40:36.458618Z",
     "iopub.status.idle": "2021-11-10T06:40:36.462647Z",
     "shell.execute_reply": "2021-11-10T06:40:36.464049Z"
    },
    "papermill": {
     "duration": 0.334745,
     "end_time": "2021-11-10T06:40:36.464563",
     "exception": false,
     "start_time": "2021-11-10T06:40:36.129818",
     "status": "completed"
    },
    "tags": [
     "parameters"
    ]
   },
   "outputs": [],
   "source": [
    "# Optional parameters \n",
    "# (This cell is tagged \"parameters\")\n",
    "\n",
    "region = 'all'  # 'south-west', 'south-east', 'north-east'"
   ]
  },
  {
   "cell_type": "code",
   "execution_count": 3,
   "id": "acb1c148",
   "metadata": {
    "execution": {
     "iopub.execute_input": "2021-11-10T06:40:37.056770Z",
     "iopub.status.busy": "2021-11-10T06:40:37.055072Z",
     "iopub.status.idle": "2021-11-10T06:40:37.061929Z",
     "shell.execute_reply": "2021-11-10T06:40:37.060091Z"
    },
    "papermill": {
     "duration": 0.389078,
     "end_time": "2021-11-10T06:40:37.062371",
     "exception": false,
     "start_time": "2021-11-10T06:40:36.673293",
     "status": "completed"
    },
    "tags": [
     "injected-parameters"
    ]
   },
   "outputs": [],
   "source": [
    "# Parameters\n",
    "agcd_file = (\n",
    "    \"/g/data/xv83/dbi599/ag/pr_agcd_1900-2019_A-DEC-mean_wheat-sheep-mean.zarr.zip\"\n",
    ")\n",
    "cafe_file = \"/g/data/xv83/dbi599/ag/pr_cafe-c5-d60-pX-f6_19811101-20201101_A-DEC-mean_wheat-sheep-mean.zarr.zip\"\n",
    "cafe_bc_file = \"/g/data/xv83/dbi599/ag/pr_cafe-c5-d60-pX-f6_19900501-20191101_A-DEC-mean_wheat-sheep-mean_bias-corrected-agcd-additive.zarr.zip\"\n",
    "fidelity_file = \"/g/data/xv83/dbi599/ag/ks-test_pr_cafe-c5-d60-pX-f6_19900501-20191101_A-DEC-mean_wheat-sheep-mean_bias-corrected-agcd-additive.zarr.zip\"\n",
    "independence_plot = \"/g/data/xv83/dbi599/ag/independence-test_pr_cafe-c5-d60-pX-f6_19900501-20191101_A-DEC-mean_wheat-sheep-mean_bias-corrected-agcd-additive_region-all.png\"\n",
    "region = \"all\"\n"
   ]
  },
  {
   "cell_type": "code",
   "execution_count": 4,
   "id": "b9787631",
   "metadata": {
    "execution": {
     "iopub.execute_input": "2021-11-10T06:40:37.166645Z",
     "iopub.status.busy": "2021-11-10T06:40:37.165655Z",
     "iopub.status.idle": "2021-11-10T06:40:37.174073Z",
     "shell.execute_reply": "2021-11-10T06:40:37.172749Z"
    },
    "papermill": {
     "duration": 0.065256,
     "end_time": "2021-11-10T06:40:37.174390",
     "exception": false,
     "start_time": "2021-11-10T06:40:37.109134",
     "status": "completed"
    },
    "tags": []
   },
   "outputs": [],
   "source": [
    "# Required parameters\n",
    "assert os.path.isfile(agcd_file), \"Must provide an AGCD data file (papermill option -p agcd_file [filepath])\"\n",
    "assert os.path.isfile(cafe_file), \"Must provide an CAFE data file (papermill option -p cafe_file [filepath])\"\n",
    "assert os.path.isfile(cafe_bc_file), \"Must provide an CAFE bias corrected data file (papermill option -p cafe_bc_file [filepath])\"\n",
    "assert os.path.isfile(fidelity_file), \"Must provide an fidelity test file (papermill option -p fidelity_file [filepath])\"\n",
    "assert os.path.isfile(independence_plot), \"Must provide an independence test plot (papermill option -p independence_plot [filepath])\""
   ]
  },
  {
   "cell_type": "markdown",
   "id": "5c8da4f2",
   "metadata": {
    "papermill": {
     "duration": 0.054808,
     "end_time": "2021-11-10T06:40:37.514985",
     "exception": false,
     "start_time": "2021-11-10T06:40:37.460177",
     "status": "completed"
    },
    "tags": []
   },
   "source": [
    "## Observations"
   ]
  },
  {
   "cell_type": "code",
   "execution_count": 5,
   "id": "f40952f6",
   "metadata": {
    "execution": {
     "iopub.execute_input": "2021-11-10T06:40:38.622937Z",
     "iopub.status.busy": "2021-11-10T06:40:38.622107Z",
     "iopub.status.idle": "2021-11-10T06:40:39.058833Z",
     "shell.execute_reply": "2021-11-10T06:40:39.057963Z"
    },
    "papermill": {
     "duration": 1.495912,
     "end_time": "2021-11-10T06:40:39.059034",
     "exception": false,
     "start_time": "2021-11-10T06:40:37.563122",
     "status": "completed"
    },
    "tags": []
   },
   "outputs": [],
   "source": [
    "agcd_ds = fileio.open_file(agcd_file)"
   ]
  },
  {
   "cell_type": "code",
   "execution_count": 6,
   "id": "1493ff0f",
   "metadata": {
    "execution": {
     "iopub.execute_input": "2021-11-10T06:40:39.638278Z",
     "iopub.status.busy": "2021-11-10T06:40:39.637469Z",
     "iopub.status.idle": "2021-11-10T06:40:39.752699Z",
     "shell.execute_reply": "2021-11-10T06:40:39.751546Z"
    },
    "papermill": {
     "duration": 0.184444,
     "end_time": "2021-11-10T06:40:39.752991",
     "exception": false,
     "start_time": "2021-11-10T06:40:39.568547",
     "status": "completed"
    },
    "tags": []
   },
   "outputs": [
    {
     "data": {
      "text/html": [
       "<div><svg style=\"position: absolute; width: 0; height: 0; overflow: hidden\">\n",
       "<defs>\n",
       "<symbol id=\"icon-database\" viewBox=\"0 0 32 32\">\n",
       "<path d=\"M16 0c-8.837 0-16 2.239-16 5v4c0 2.761 7.163 5 16 5s16-2.239 16-5v-4c0-2.761-7.163-5-16-5z\"></path>\n",
       "<path d=\"M16 17c-8.837 0-16-2.239-16-5v6c0 2.761 7.163 5 16 5s16-2.239 16-5v-6c0 2.761-7.163 5-16 5z\"></path>\n",
       "<path d=\"M16 26c-8.837 0-16-2.239-16-5v6c0 2.761 7.163 5 16 5s16-2.239 16-5v-6c0 2.761-7.163 5-16 5z\"></path>\n",
       "</symbol>\n",
       "<symbol id=\"icon-file-text2\" viewBox=\"0 0 32 32\">\n",
       "<path d=\"M28.681 7.159c-0.694-0.947-1.662-2.053-2.724-3.116s-2.169-2.030-3.116-2.724c-1.612-1.182-2.393-1.319-2.841-1.319h-15.5c-1.378 0-2.5 1.121-2.5 2.5v27c0 1.378 1.122 2.5 2.5 2.5h23c1.378 0 2.5-1.122 2.5-2.5v-19.5c0-0.448-0.137-1.23-1.319-2.841zM24.543 5.457c0.959 0.959 1.712 1.825 2.268 2.543h-4.811v-4.811c0.718 0.556 1.584 1.309 2.543 2.268zM28 29.5c0 0.271-0.229 0.5-0.5 0.5h-23c-0.271 0-0.5-0.229-0.5-0.5v-27c0-0.271 0.229-0.5 0.5-0.5 0 0 15.499-0 15.5 0v7c0 0.552 0.448 1 1 1h7v19.5z\"></path>\n",
       "<path d=\"M23 26h-14c-0.552 0-1-0.448-1-1s0.448-1 1-1h14c0.552 0 1 0.448 1 1s-0.448 1-1 1z\"></path>\n",
       "<path d=\"M23 22h-14c-0.552 0-1-0.448-1-1s0.448-1 1-1h14c0.552 0 1 0.448 1 1s-0.448 1-1 1z\"></path>\n",
       "<path d=\"M23 18h-14c-0.552 0-1-0.448-1-1s0.448-1 1-1h14c0.552 0 1 0.448 1 1s-0.448 1-1 1z\"></path>\n",
       "</symbol>\n",
       "</defs>\n",
       "</svg>\n",
       "<style>/* CSS stylesheet for displaying xarray objects in jupyterlab.\n",
       " *\n",
       " */\n",
       "\n",
       ":root {\n",
       "  --xr-font-color0: var(--jp-content-font-color0, rgba(0, 0, 0, 1));\n",
       "  --xr-font-color2: var(--jp-content-font-color2, rgba(0, 0, 0, 0.54));\n",
       "  --xr-font-color3: var(--jp-content-font-color3, rgba(0, 0, 0, 0.38));\n",
       "  --xr-border-color: var(--jp-border-color2, #e0e0e0);\n",
       "  --xr-disabled-color: var(--jp-layout-color3, #bdbdbd);\n",
       "  --xr-background-color: var(--jp-layout-color0, white);\n",
       "  --xr-background-color-row-even: var(--jp-layout-color1, white);\n",
       "  --xr-background-color-row-odd: var(--jp-layout-color2, #eeeeee);\n",
       "}\n",
       "\n",
       "html[theme=dark],\n",
       "body.vscode-dark {\n",
       "  --xr-font-color0: rgba(255, 255, 255, 1);\n",
       "  --xr-font-color2: rgba(255, 255, 255, 0.54);\n",
       "  --xr-font-color3: rgba(255, 255, 255, 0.38);\n",
       "  --xr-border-color: #1F1F1F;\n",
       "  --xr-disabled-color: #515151;\n",
       "  --xr-background-color: #111111;\n",
       "  --xr-background-color-row-even: #111111;\n",
       "  --xr-background-color-row-odd: #313131;\n",
       "}\n",
       "\n",
       ".xr-wrap {\n",
       "  display: block;\n",
       "  min-width: 300px;\n",
       "  max-width: 700px;\n",
       "}\n",
       "\n",
       ".xr-text-repr-fallback {\n",
       "  /* fallback to plain text repr when CSS is not injected (untrusted notebook) */\n",
       "  display: none;\n",
       "}\n",
       "\n",
       ".xr-header {\n",
       "  padding-top: 6px;\n",
       "  padding-bottom: 6px;\n",
       "  margin-bottom: 4px;\n",
       "  border-bottom: solid 1px var(--xr-border-color);\n",
       "}\n",
       "\n",
       ".xr-header > div,\n",
       ".xr-header > ul {\n",
       "  display: inline;\n",
       "  margin-top: 0;\n",
       "  margin-bottom: 0;\n",
       "}\n",
       "\n",
       ".xr-obj-type,\n",
       ".xr-array-name {\n",
       "  margin-left: 2px;\n",
       "  margin-right: 10px;\n",
       "}\n",
       "\n",
       ".xr-obj-type {\n",
       "  color: var(--xr-font-color2);\n",
       "}\n",
       "\n",
       ".xr-sections {\n",
       "  padding-left: 0 !important;\n",
       "  display: grid;\n",
       "  grid-template-columns: 150px auto auto 1fr 20px 20px;\n",
       "}\n",
       "\n",
       ".xr-section-item {\n",
       "  display: contents;\n",
       "}\n",
       "\n",
       ".xr-section-item input {\n",
       "  display: none;\n",
       "}\n",
       "\n",
       ".xr-section-item input + label {\n",
       "  color: var(--xr-disabled-color);\n",
       "}\n",
       "\n",
       ".xr-section-item input:enabled + label {\n",
       "  cursor: pointer;\n",
       "  color: var(--xr-font-color2);\n",
       "}\n",
       "\n",
       ".xr-section-item input:enabled + label:hover {\n",
       "  color: var(--xr-font-color0);\n",
       "}\n",
       "\n",
       ".xr-section-summary {\n",
       "  grid-column: 1;\n",
       "  color: var(--xr-font-color2);\n",
       "  font-weight: 500;\n",
       "}\n",
       "\n",
       ".xr-section-summary > span {\n",
       "  display: inline-block;\n",
       "  padding-left: 0.5em;\n",
       "}\n",
       "\n",
       ".xr-section-summary-in:disabled + label {\n",
       "  color: var(--xr-font-color2);\n",
       "}\n",
       "\n",
       ".xr-section-summary-in + label:before {\n",
       "  display: inline-block;\n",
       "  content: '►';\n",
       "  font-size: 11px;\n",
       "  width: 15px;\n",
       "  text-align: center;\n",
       "}\n",
       "\n",
       ".xr-section-summary-in:disabled + label:before {\n",
       "  color: var(--xr-disabled-color);\n",
       "}\n",
       "\n",
       ".xr-section-summary-in:checked + label:before {\n",
       "  content: '▼';\n",
       "}\n",
       "\n",
       ".xr-section-summary-in:checked + label > span {\n",
       "  display: none;\n",
       "}\n",
       "\n",
       ".xr-section-summary,\n",
       ".xr-section-inline-details {\n",
       "  padding-top: 4px;\n",
       "  padding-bottom: 4px;\n",
       "}\n",
       "\n",
       ".xr-section-inline-details {\n",
       "  grid-column: 2 / -1;\n",
       "}\n",
       "\n",
       ".xr-section-details {\n",
       "  display: none;\n",
       "  grid-column: 1 / -1;\n",
       "  margin-bottom: 5px;\n",
       "}\n",
       "\n",
       ".xr-section-summary-in:checked ~ .xr-section-details {\n",
       "  display: contents;\n",
       "}\n",
       "\n",
       ".xr-array-wrap {\n",
       "  grid-column: 1 / -1;\n",
       "  display: grid;\n",
       "  grid-template-columns: 20px auto;\n",
       "}\n",
       "\n",
       ".xr-array-wrap > label {\n",
       "  grid-column: 1;\n",
       "  vertical-align: top;\n",
       "}\n",
       "\n",
       ".xr-preview {\n",
       "  color: var(--xr-font-color3);\n",
       "}\n",
       "\n",
       ".xr-array-preview,\n",
       ".xr-array-data {\n",
       "  padding: 0 5px !important;\n",
       "  grid-column: 2;\n",
       "}\n",
       "\n",
       ".xr-array-data,\n",
       ".xr-array-in:checked ~ .xr-array-preview {\n",
       "  display: none;\n",
       "}\n",
       "\n",
       ".xr-array-in:checked ~ .xr-array-data,\n",
       ".xr-array-preview {\n",
       "  display: inline-block;\n",
       "}\n",
       "\n",
       ".xr-dim-list {\n",
       "  display: inline-block !important;\n",
       "  list-style: none;\n",
       "  padding: 0 !important;\n",
       "  margin: 0;\n",
       "}\n",
       "\n",
       ".xr-dim-list li {\n",
       "  display: inline-block;\n",
       "  padding: 0;\n",
       "  margin: 0;\n",
       "}\n",
       "\n",
       ".xr-dim-list:before {\n",
       "  content: '(';\n",
       "}\n",
       "\n",
       ".xr-dim-list:after {\n",
       "  content: ')';\n",
       "}\n",
       "\n",
       ".xr-dim-list li:not(:last-child):after {\n",
       "  content: ',';\n",
       "  padding-right: 5px;\n",
       "}\n",
       "\n",
       ".xr-has-index {\n",
       "  font-weight: bold;\n",
       "}\n",
       "\n",
       ".xr-var-list,\n",
       ".xr-var-item {\n",
       "  display: contents;\n",
       "}\n",
       "\n",
       ".xr-var-item > div,\n",
       ".xr-var-item label,\n",
       ".xr-var-item > .xr-var-name span {\n",
       "  background-color: var(--xr-background-color-row-even);\n",
       "  margin-bottom: 0;\n",
       "}\n",
       "\n",
       ".xr-var-item > .xr-var-name:hover span {\n",
       "  padding-right: 5px;\n",
       "}\n",
       "\n",
       ".xr-var-list > li:nth-child(odd) > div,\n",
       ".xr-var-list > li:nth-child(odd) > label,\n",
       ".xr-var-list > li:nth-child(odd) > .xr-var-name span {\n",
       "  background-color: var(--xr-background-color-row-odd);\n",
       "}\n",
       "\n",
       ".xr-var-name {\n",
       "  grid-column: 1;\n",
       "}\n",
       "\n",
       ".xr-var-dims {\n",
       "  grid-column: 2;\n",
       "}\n",
       "\n",
       ".xr-var-dtype {\n",
       "  grid-column: 3;\n",
       "  text-align: right;\n",
       "  color: var(--xr-font-color2);\n",
       "}\n",
       "\n",
       ".xr-var-preview {\n",
       "  grid-column: 4;\n",
       "}\n",
       "\n",
       ".xr-var-name,\n",
       ".xr-var-dims,\n",
       ".xr-var-dtype,\n",
       ".xr-preview,\n",
       ".xr-attrs dt {\n",
       "  white-space: nowrap;\n",
       "  overflow: hidden;\n",
       "  text-overflow: ellipsis;\n",
       "  padding-right: 10px;\n",
       "}\n",
       "\n",
       ".xr-var-name:hover,\n",
       ".xr-var-dims:hover,\n",
       ".xr-var-dtype:hover,\n",
       ".xr-attrs dt:hover {\n",
       "  overflow: visible;\n",
       "  width: auto;\n",
       "  z-index: 1;\n",
       "}\n",
       "\n",
       ".xr-var-attrs,\n",
       ".xr-var-data {\n",
       "  display: none;\n",
       "  background-color: var(--xr-background-color) !important;\n",
       "  padding-bottom: 5px !important;\n",
       "}\n",
       "\n",
       ".xr-var-attrs-in:checked ~ .xr-var-attrs,\n",
       ".xr-var-data-in:checked ~ .xr-var-data {\n",
       "  display: block;\n",
       "}\n",
       "\n",
       ".xr-var-data > table {\n",
       "  float: right;\n",
       "}\n",
       "\n",
       ".xr-var-name span,\n",
       ".xr-var-data,\n",
       ".xr-attrs {\n",
       "  padding-left: 25px !important;\n",
       "}\n",
       "\n",
       ".xr-attrs,\n",
       ".xr-var-attrs,\n",
       ".xr-var-data {\n",
       "  grid-column: 1 / -1;\n",
       "}\n",
       "\n",
       "dl.xr-attrs {\n",
       "  padding: 0;\n",
       "  margin: 0;\n",
       "  display: grid;\n",
       "  grid-template-columns: 125px auto;\n",
       "}\n",
       "\n",
       ".xr-attrs dt,\n",
       ".xr-attrs dd {\n",
       "  padding: 0;\n",
       "  margin: 0;\n",
       "  float: left;\n",
       "  padding-right: 10px;\n",
       "  width: auto;\n",
       "}\n",
       "\n",
       ".xr-attrs dt {\n",
       "  font-weight: normal;\n",
       "  grid-column: 1;\n",
       "}\n",
       "\n",
       ".xr-attrs dt:hover span {\n",
       "  display: inline-block;\n",
       "  background: var(--xr-background-color);\n",
       "  padding-right: 10px;\n",
       "}\n",
       "\n",
       ".xr-attrs dd {\n",
       "  grid-column: 2;\n",
       "  white-space: pre-wrap;\n",
       "  word-break: break-all;\n",
       "}\n",
       "\n",
       ".xr-icon-database,\n",
       ".xr-icon-file-text2 {\n",
       "  display: inline-block;\n",
       "  vertical-align: middle;\n",
       "  width: 1em;\n",
       "  height: 1.5em !important;\n",
       "  stroke-width: 0;\n",
       "  stroke: currentColor;\n",
       "  fill: currentColor;\n",
       "}\n",
       "</style><pre class='xr-text-repr-fallback'>&lt;xarray.Dataset&gt;\n",
       "Dimensions:  (region: 4, time: 120)\n",
       "Coordinates:\n",
       "  * region   (region) &lt;U10 &#x27;south-west&#x27; &#x27;south-east&#x27; &#x27;north-east&#x27; &#x27;all&#x27;\n",
       "  * time     (time) object 1900-12-31 00:00:00 ... 2019-12-31 00:00:00\n",
       "Data variables:\n",
       "    pr       (time, region) float64 dask.array&lt;chunksize=(1, 4), meta=np.ndarray&gt;\n",
       "Attributes: (12/29)\n",
       "    Conventions:               CF-1.6, ACDD-1.3\n",
       "    acknowledgment:            The Australian Government, Bureau of Meteorolo...\n",
       "    agcd_version:              AGCD v2.0.0 Snapshot (1900-01-01 to 2020-05-31)\n",
       "    analysis_components:       total: the gridded accumulation of rainfall.\n",
       "    attribution:               Data should be cited as : Australian Bureau of...\n",
       "    cdm_data_type:             Grid\n",
       "    ...                        ...\n",
       "    summary:                   The monthly rainfall data represents the amoun...\n",
       "    time_coverage_end:         1900-12-31T00:00:00\n",
       "    time_coverage_start:       1900-01-01T00:00:00\n",
       "    title:                     Interpolated Rain Gauge Precipitation\n",
       "    url:                       http://www.bom.gov.au/climate/\n",
       "    uuid:                      43596dc1-c56e-42a2-ba87-4e3b726a6e60</pre><div class='xr-wrap' hidden><div class='xr-header'><div class='xr-obj-type'>xarray.Dataset</div></div><ul class='xr-sections'><li class='xr-section-item'><input id='section-a34b7d71-fc82-47f4-a909-3b398e2a5921' class='xr-section-summary-in' type='checkbox' disabled ><label for='section-a34b7d71-fc82-47f4-a909-3b398e2a5921' class='xr-section-summary'  title='Expand/collapse section'>Dimensions:</label><div class='xr-section-inline-details'><ul class='xr-dim-list'><li><span class='xr-has-index'>region</span>: 4</li><li><span class='xr-has-index'>time</span>: 120</li></ul></div><div class='xr-section-details'></div></li><li class='xr-section-item'><input id='section-9dbd5c64-3ba6-422b-b358-e454d562a8f0' class='xr-section-summary-in' type='checkbox'  checked><label for='section-9dbd5c64-3ba6-422b-b358-e454d562a8f0' class='xr-section-summary' >Coordinates: <span>(2)</span></label><div class='xr-section-inline-details'></div><div class='xr-section-details'><ul class='xr-var-list'><li class='xr-var-item'><div class='xr-var-name'><span class='xr-has-index'>region</span></div><div class='xr-var-dims'>(region)</div><div class='xr-var-dtype'>&lt;U10</div><div class='xr-var-preview xr-preview'>&#x27;south-west&#x27; &#x27;south-east&#x27; ... &#x27;all&#x27;</div><input id='attrs-39141f0e-6436-42ac-8d11-22001ba45d49' class='xr-var-attrs-in' type='checkbox' disabled><label for='attrs-39141f0e-6436-42ac-8d11-22001ba45d49' title='Show/Hide attributes'><svg class='icon xr-icon-file-text2'><use xlink:href='#icon-file-text2'></use></svg></label><input id='data-2eac7244-ce0f-4aab-adfb-9790e1f6aea5' class='xr-var-data-in' type='checkbox'><label for='data-2eac7244-ce0f-4aab-adfb-9790e1f6aea5' title='Show/Hide data repr'><svg class='icon xr-icon-database'><use xlink:href='#icon-database'></use></svg></label><div class='xr-var-attrs'><dl class='xr-attrs'></dl></div><div class='xr-var-data'><pre>array([&#x27;south-west&#x27;, &#x27;south-east&#x27;, &#x27;north-east&#x27;, &#x27;all&#x27;], dtype=&#x27;&lt;U10&#x27;)</pre></div></li><li class='xr-var-item'><div class='xr-var-name'><span class='xr-has-index'>time</span></div><div class='xr-var-dims'>(time)</div><div class='xr-var-dtype'>object</div><div class='xr-var-preview xr-preview'>1900-12-31 00:00:00 ... 2019-12-...</div><input id='attrs-8db220fc-ad3c-4836-a80c-c9d1f3ddfff5' class='xr-var-attrs-in' type='checkbox' ><label for='attrs-8db220fc-ad3c-4836-a80c-c9d1f3ddfff5' title='Show/Hide attributes'><svg class='icon xr-icon-file-text2'><use xlink:href='#icon-file-text2'></use></svg></label><input id='data-609fc0cd-52cb-4195-964a-0f17f88632c2' class='xr-var-data-in' type='checkbox'><label for='data-609fc0cd-52cb-4195-964a-0f17f88632c2' title='Show/Hide data repr'><svg class='icon xr-icon-database'><use xlink:href='#icon-database'></use></svg></label><div class='xr-var-attrs'><dl class='xr-attrs'><dt><span>frequency :</span></dt><dd>A</dd></dl></div><div class='xr-var-data'><pre>array([cftime.DatetimeProlepticGregorian(1900, 12, 31, 0, 0, 0, 0, has_year_zero=False),\n",
       "       cftime.DatetimeProlepticGregorian(1901, 12, 31, 0, 0, 0, 0, has_year_zero=False),\n",
       "       cftime.DatetimeProlepticGregorian(1902, 12, 31, 0, 0, 0, 0, has_year_zero=False),\n",
       "       cftime.DatetimeProlepticGregorian(1903, 12, 31, 0, 0, 0, 0, has_year_zero=False),\n",
       "       cftime.DatetimeProlepticGregorian(1904, 12, 31, 0, 0, 0, 0, has_year_zero=False),\n",
       "       cftime.DatetimeProlepticGregorian(1905, 12, 31, 0, 0, 0, 0, has_year_zero=False),\n",
       "       cftime.DatetimeProlepticGregorian(1906, 12, 31, 0, 0, 0, 0, has_year_zero=False),\n",
       "       cftime.DatetimeProlepticGregorian(1907, 12, 31, 0, 0, 0, 0, has_year_zero=False),\n",
       "       cftime.DatetimeProlepticGregorian(1908, 12, 31, 0, 0, 0, 0, has_year_zero=False),\n",
       "       cftime.DatetimeProlepticGregorian(1909, 12, 31, 0, 0, 0, 0, has_year_zero=False),\n",
       "       cftime.DatetimeProlepticGregorian(1910, 12, 31, 0, 0, 0, 0, has_year_zero=False),\n",
       "       cftime.DatetimeProlepticGregorian(1911, 12, 31, 0, 0, 0, 0, has_year_zero=False),\n",
       "       cftime.DatetimeProlepticGregorian(1912, 12, 31, 0, 0, 0, 0, has_year_zero=False),\n",
       "       cftime.DatetimeProlepticGregorian(1913, 12, 31, 0, 0, 0, 0, has_year_zero=False),\n",
       "       cftime.DatetimeProlepticGregorian(1914, 12, 31, 0, 0, 0, 0, has_year_zero=False),\n",
       "       cftime.DatetimeProlepticGregorian(1915, 12, 31, 0, 0, 0, 0, has_year_zero=False),\n",
       "       cftime.DatetimeProlepticGregorian(1916, 12, 31, 0, 0, 0, 0, has_year_zero=False),\n",
       "       cftime.DatetimeProlepticGregorian(1917, 12, 31, 0, 0, 0, 0, has_year_zero=False),\n",
       "       cftime.DatetimeProlepticGregorian(1918, 12, 31, 0, 0, 0, 0, has_year_zero=False),\n",
       "       cftime.DatetimeProlepticGregorian(1919, 12, 31, 0, 0, 0, 0, has_year_zero=False),\n",
       "       cftime.DatetimeProlepticGregorian(1920, 12, 31, 0, 0, 0, 0, has_year_zero=False),\n",
       "       cftime.DatetimeProlepticGregorian(1921, 12, 31, 0, 0, 0, 0, has_year_zero=False),\n",
       "       cftime.DatetimeProlepticGregorian(1922, 12, 31, 0, 0, 0, 0, has_year_zero=False),\n",
       "       cftime.DatetimeProlepticGregorian(1923, 12, 31, 0, 0, 0, 0, has_year_zero=False),\n",
       "       cftime.DatetimeProlepticGregorian(1924, 12, 31, 0, 0, 0, 0, has_year_zero=False),\n",
       "       cftime.DatetimeProlepticGregorian(1925, 12, 31, 0, 0, 0, 0, has_year_zero=False),\n",
       "       cftime.DatetimeProlepticGregorian(1926, 12, 31, 0, 0, 0, 0, has_year_zero=False),\n",
       "       cftime.DatetimeProlepticGregorian(1927, 12, 31, 0, 0, 0, 0, has_year_zero=False),\n",
       "       cftime.DatetimeProlepticGregorian(1928, 12, 31, 0, 0, 0, 0, has_year_zero=False),\n",
       "       cftime.DatetimeProlepticGregorian(1929, 12, 31, 0, 0, 0, 0, has_year_zero=False),\n",
       "       cftime.DatetimeProlepticGregorian(1930, 12, 31, 0, 0, 0, 0, has_year_zero=False),\n",
       "       cftime.DatetimeProlepticGregorian(1931, 12, 31, 0, 0, 0, 0, has_year_zero=False),\n",
       "       cftime.DatetimeProlepticGregorian(1932, 12, 31, 0, 0, 0, 0, has_year_zero=False),\n",
       "       cftime.DatetimeProlepticGregorian(1933, 12, 31, 0, 0, 0, 0, has_year_zero=False),\n",
       "       cftime.DatetimeProlepticGregorian(1934, 12, 31, 0, 0, 0, 0, has_year_zero=False),\n",
       "       cftime.DatetimeProlepticGregorian(1935, 12, 31, 0, 0, 0, 0, has_year_zero=False),\n",
       "       cftime.DatetimeProlepticGregorian(1936, 12, 31, 0, 0, 0, 0, has_year_zero=False),\n",
       "       cftime.DatetimeProlepticGregorian(1937, 12, 31, 0, 0, 0, 0, has_year_zero=False),\n",
       "       cftime.DatetimeProlepticGregorian(1938, 12, 31, 0, 0, 0, 0, has_year_zero=False),\n",
       "       cftime.DatetimeProlepticGregorian(1939, 12, 31, 0, 0, 0, 0, has_year_zero=False),\n",
       "       cftime.DatetimeProlepticGregorian(1940, 12, 31, 0, 0, 0, 0, has_year_zero=False),\n",
       "       cftime.DatetimeProlepticGregorian(1941, 12, 31, 0, 0, 0, 0, has_year_zero=False),\n",
       "       cftime.DatetimeProlepticGregorian(1942, 12, 31, 0, 0, 0, 0, has_year_zero=False),\n",
       "       cftime.DatetimeProlepticGregorian(1943, 12, 31, 0, 0, 0, 0, has_year_zero=False),\n",
       "       cftime.DatetimeProlepticGregorian(1944, 12, 31, 0, 0, 0, 0, has_year_zero=False),\n",
       "       cftime.DatetimeProlepticGregorian(1945, 12, 31, 0, 0, 0, 0, has_year_zero=False),\n",
       "       cftime.DatetimeProlepticGregorian(1946, 12, 31, 0, 0, 0, 0, has_year_zero=False),\n",
       "       cftime.DatetimeProlepticGregorian(1947, 12, 31, 0, 0, 0, 0, has_year_zero=False),\n",
       "       cftime.DatetimeProlepticGregorian(1948, 12, 31, 0, 0, 0, 0, has_year_zero=False),\n",
       "       cftime.DatetimeProlepticGregorian(1949, 12, 31, 0, 0, 0, 0, has_year_zero=False),\n",
       "       cftime.DatetimeProlepticGregorian(1950, 12, 31, 0, 0, 0, 0, has_year_zero=False),\n",
       "       cftime.DatetimeProlepticGregorian(1951, 12, 31, 0, 0, 0, 0, has_year_zero=False),\n",
       "       cftime.DatetimeProlepticGregorian(1952, 12, 31, 0, 0, 0, 0, has_year_zero=False),\n",
       "       cftime.DatetimeProlepticGregorian(1953, 12, 31, 0, 0, 0, 0, has_year_zero=False),\n",
       "       cftime.DatetimeProlepticGregorian(1954, 12, 31, 0, 0, 0, 0, has_year_zero=False),\n",
       "       cftime.DatetimeProlepticGregorian(1955, 12, 31, 0, 0, 0, 0, has_year_zero=False),\n",
       "       cftime.DatetimeProlepticGregorian(1956, 12, 31, 0, 0, 0, 0, has_year_zero=False),\n",
       "       cftime.DatetimeProlepticGregorian(1957, 12, 31, 0, 0, 0, 0, has_year_zero=False),\n",
       "       cftime.DatetimeProlepticGregorian(1958, 12, 31, 0, 0, 0, 0, has_year_zero=False),\n",
       "       cftime.DatetimeProlepticGregorian(1959, 12, 31, 0, 0, 0, 0, has_year_zero=False),\n",
       "       cftime.DatetimeProlepticGregorian(1960, 12, 31, 0, 0, 0, 0, has_year_zero=False),\n",
       "       cftime.DatetimeProlepticGregorian(1961, 12, 31, 0, 0, 0, 0, has_year_zero=False),\n",
       "       cftime.DatetimeProlepticGregorian(1962, 12, 31, 0, 0, 0, 0, has_year_zero=False),\n",
       "       cftime.DatetimeProlepticGregorian(1963, 12, 31, 0, 0, 0, 0, has_year_zero=False),\n",
       "       cftime.DatetimeProlepticGregorian(1964, 12, 31, 0, 0, 0, 0, has_year_zero=False),\n",
       "       cftime.DatetimeProlepticGregorian(1965, 12, 31, 0, 0, 0, 0, has_year_zero=False),\n",
       "       cftime.DatetimeProlepticGregorian(1966, 12, 31, 0, 0, 0, 0, has_year_zero=False),\n",
       "       cftime.DatetimeProlepticGregorian(1967, 12, 31, 0, 0, 0, 0, has_year_zero=False),\n",
       "       cftime.DatetimeProlepticGregorian(1968, 12, 31, 0, 0, 0, 0, has_year_zero=False),\n",
       "       cftime.DatetimeProlepticGregorian(1969, 12, 31, 0, 0, 0, 0, has_year_zero=False),\n",
       "       cftime.DatetimeProlepticGregorian(1970, 12, 31, 0, 0, 0, 0, has_year_zero=False),\n",
       "       cftime.DatetimeProlepticGregorian(1971, 12, 31, 0, 0, 0, 0, has_year_zero=False),\n",
       "       cftime.DatetimeProlepticGregorian(1972, 12, 31, 0, 0, 0, 0, has_year_zero=False),\n",
       "       cftime.DatetimeProlepticGregorian(1973, 12, 31, 0, 0, 0, 0, has_year_zero=False),\n",
       "       cftime.DatetimeProlepticGregorian(1974, 12, 31, 0, 0, 0, 0, has_year_zero=False),\n",
       "       cftime.DatetimeProlepticGregorian(1975, 12, 31, 0, 0, 0, 0, has_year_zero=False),\n",
       "       cftime.DatetimeProlepticGregorian(1976, 12, 31, 0, 0, 0, 0, has_year_zero=False),\n",
       "       cftime.DatetimeProlepticGregorian(1977, 12, 31, 0, 0, 0, 0, has_year_zero=False),\n",
       "       cftime.DatetimeProlepticGregorian(1978, 12, 31, 0, 0, 0, 0, has_year_zero=False),\n",
       "       cftime.DatetimeProlepticGregorian(1979, 12, 31, 0, 0, 0, 0, has_year_zero=False),\n",
       "       cftime.DatetimeProlepticGregorian(1980, 12, 31, 0, 0, 0, 0, has_year_zero=False),\n",
       "       cftime.DatetimeProlepticGregorian(1981, 12, 31, 0, 0, 0, 0, has_year_zero=False),\n",
       "       cftime.DatetimeProlepticGregorian(1982, 12, 31, 0, 0, 0, 0, has_year_zero=False),\n",
       "       cftime.DatetimeProlepticGregorian(1983, 12, 31, 0, 0, 0, 0, has_year_zero=False),\n",
       "       cftime.DatetimeProlepticGregorian(1984, 12, 31, 0, 0, 0, 0, has_year_zero=False),\n",
       "       cftime.DatetimeProlepticGregorian(1985, 12, 31, 0, 0, 0, 0, has_year_zero=False),\n",
       "       cftime.DatetimeProlepticGregorian(1986, 12, 31, 0, 0, 0, 0, has_year_zero=False),\n",
       "       cftime.DatetimeProlepticGregorian(1987, 12, 31, 0, 0, 0, 0, has_year_zero=False),\n",
       "       cftime.DatetimeProlepticGregorian(1988, 12, 31, 0, 0, 0, 0, has_year_zero=False),\n",
       "       cftime.DatetimeProlepticGregorian(1989, 12, 31, 0, 0, 0, 0, has_year_zero=False),\n",
       "       cftime.DatetimeProlepticGregorian(1990, 12, 31, 0, 0, 0, 0, has_year_zero=False),\n",
       "       cftime.DatetimeProlepticGregorian(1991, 12, 31, 0, 0, 0, 0, has_year_zero=False),\n",
       "       cftime.DatetimeProlepticGregorian(1992, 12, 31, 0, 0, 0, 0, has_year_zero=False),\n",
       "       cftime.DatetimeProlepticGregorian(1993, 12, 31, 0, 0, 0, 0, has_year_zero=False),\n",
       "       cftime.DatetimeProlepticGregorian(1994, 12, 31, 0, 0, 0, 0, has_year_zero=False),\n",
       "       cftime.DatetimeProlepticGregorian(1995, 12, 31, 0, 0, 0, 0, has_year_zero=False),\n",
       "       cftime.DatetimeProlepticGregorian(1996, 12, 31, 0, 0, 0, 0, has_year_zero=False),\n",
       "       cftime.DatetimeProlepticGregorian(1997, 12, 31, 0, 0, 0, 0, has_year_zero=False),\n",
       "       cftime.DatetimeProlepticGregorian(1998, 12, 31, 0, 0, 0, 0, has_year_zero=False),\n",
       "       cftime.DatetimeProlepticGregorian(1999, 12, 31, 0, 0, 0, 0, has_year_zero=False),\n",
       "       cftime.DatetimeProlepticGregorian(2000, 12, 31, 0, 0, 0, 0, has_year_zero=False),\n",
       "       cftime.DatetimeProlepticGregorian(2001, 12, 31, 0, 0, 0, 0, has_year_zero=False),\n",
       "       cftime.DatetimeProlepticGregorian(2002, 12, 31, 0, 0, 0, 0, has_year_zero=False),\n",
       "       cftime.DatetimeProlepticGregorian(2003, 12, 31, 0, 0, 0, 0, has_year_zero=False),\n",
       "       cftime.DatetimeProlepticGregorian(2004, 12, 31, 0, 0, 0, 0, has_year_zero=False),\n",
       "       cftime.DatetimeProlepticGregorian(2005, 12, 31, 0, 0, 0, 0, has_year_zero=False),\n",
       "       cftime.DatetimeProlepticGregorian(2006, 12, 31, 0, 0, 0, 0, has_year_zero=False),\n",
       "       cftime.DatetimeProlepticGregorian(2007, 12, 31, 0, 0, 0, 0, has_year_zero=False),\n",
       "       cftime.DatetimeProlepticGregorian(2008, 12, 31, 0, 0, 0, 0, has_year_zero=False),\n",
       "       cftime.DatetimeProlepticGregorian(2009, 12, 31, 0, 0, 0, 0, has_year_zero=False),\n",
       "       cftime.DatetimeProlepticGregorian(2010, 12, 31, 0, 0, 0, 0, has_year_zero=False),\n",
       "       cftime.DatetimeProlepticGregorian(2011, 12, 31, 0, 0, 0, 0, has_year_zero=False),\n",
       "       cftime.DatetimeProlepticGregorian(2012, 12, 31, 0, 0, 0, 0, has_year_zero=False),\n",
       "       cftime.DatetimeProlepticGregorian(2013, 12, 31, 0, 0, 0, 0, has_year_zero=False),\n",
       "       cftime.DatetimeProlepticGregorian(2014, 12, 31, 0, 0, 0, 0, has_year_zero=False),\n",
       "       cftime.DatetimeProlepticGregorian(2015, 12, 31, 0, 0, 0, 0, has_year_zero=False),\n",
       "       cftime.DatetimeProlepticGregorian(2016, 12, 31, 0, 0, 0, 0, has_year_zero=False),\n",
       "       cftime.DatetimeProlepticGregorian(2017, 12, 31, 0, 0, 0, 0, has_year_zero=False),\n",
       "       cftime.DatetimeProlepticGregorian(2018, 12, 31, 0, 0, 0, 0, has_year_zero=False),\n",
       "       cftime.DatetimeProlepticGregorian(2019, 12, 31, 0, 0, 0, 0, has_year_zero=False)],\n",
       "      dtype=object)</pre></div></li></ul></div></li><li class='xr-section-item'><input id='section-14c2b9f3-8f81-4740-9f9d-ea4092234b46' class='xr-section-summary-in' type='checkbox'  checked><label for='section-14c2b9f3-8f81-4740-9f9d-ea4092234b46' class='xr-section-summary' >Data variables: <span>(1)</span></label><div class='xr-section-inline-details'></div><div class='xr-section-details'><ul class='xr-var-list'><li class='xr-var-item'><div class='xr-var-name'><span>pr</span></div><div class='xr-var-dims'>(time, region)</div><div class='xr-var-dtype'>float64</div><div class='xr-var-preview xr-preview'>dask.array&lt;chunksize=(1, 4), meta=np.ndarray&gt;</div><input id='attrs-3ea69f51-b8f8-4a8c-9cd7-903ae6839929' class='xr-var-attrs-in' type='checkbox' ><label for='attrs-3ea69f51-b8f8-4a8c-9cd7-903ae6839929' title='Show/Hide attributes'><svg class='icon xr-icon-file-text2'><use xlink:href='#icon-file-text2'></use></svg></label><input id='data-264cdc99-d7b6-4112-8df1-0a850ba6fdaf' class='xr-var-data-in' type='checkbox'><label for='data-264cdc99-d7b6-4112-8df1-0a850ba6fdaf' title='Show/Hide data repr'><svg class='icon xr-icon-database'><use xlink:href='#icon-database'></use></svg></label><div class='xr-var-attrs'><dl class='xr-attrs'><dt><span>units :</span></dt><dd>mm d-1</dd></dl></div><div class='xr-var-data'><table>\n",
       "<tr>\n",
       "<td>\n",
       "<table>\n",
       "  <thead>\n",
       "    <tr><td> </td><th> Array </th><th> Chunk </th></tr>\n",
       "  </thead>\n",
       "  <tbody>\n",
       "    <tr><th> Bytes </th><td> 3.75 kiB </td> <td> 32 B </td></tr>\n",
       "    <tr><th> Shape </th><td> (120, 4) </td> <td> (1, 4) </td></tr>\n",
       "    <tr><th> Count </th><td> 121 Tasks </td><td> 120 Chunks </td></tr>\n",
       "    <tr><th> Type </th><td> float64 </td><td> numpy.ndarray </td></tr>\n",
       "  </tbody>\n",
       "</table>\n",
       "</td>\n",
       "<td>\n",
       "<svg width=\"82\" height=\"170\" style=\"stroke:rgb(0,0,0);stroke-width:1\" >\n",
       "\n",
       "  <!-- Horizontal lines -->\n",
       "  <line x1=\"0\" y1=\"0\" x2=\"32\" y2=\"0\" style=\"stroke-width:2\" />\n",
       "  <line x1=\"0\" y1=\"6\" x2=\"32\" y2=\"6\" />\n",
       "  <line x1=\"0\" y1=\"12\" x2=\"32\" y2=\"12\" />\n",
       "  <line x1=\"0\" y1=\"18\" x2=\"32\" y2=\"18\" />\n",
       "  <line x1=\"0\" y1=\"25\" x2=\"32\" y2=\"25\" />\n",
       "  <line x1=\"0\" y1=\"31\" x2=\"32\" y2=\"31\" />\n",
       "  <line x1=\"0\" y1=\"37\" x2=\"32\" y2=\"37\" />\n",
       "  <line x1=\"0\" y1=\"44\" x2=\"32\" y2=\"44\" />\n",
       "  <line x1=\"0\" y1=\"50\" x2=\"32\" y2=\"50\" />\n",
       "  <line x1=\"0\" y1=\"56\" x2=\"32\" y2=\"56\" />\n",
       "  <line x1=\"0\" y1=\"63\" x2=\"32\" y2=\"63\" />\n",
       "  <line x1=\"0\" y1=\"69\" x2=\"32\" y2=\"69\" />\n",
       "  <line x1=\"0\" y1=\"75\" x2=\"32\" y2=\"75\" />\n",
       "  <line x1=\"0\" y1=\"82\" x2=\"32\" y2=\"82\" />\n",
       "  <line x1=\"0\" y1=\"88\" x2=\"32\" y2=\"88\" />\n",
       "  <line x1=\"0\" y1=\"94\" x2=\"32\" y2=\"94\" />\n",
       "  <line x1=\"0\" y1=\"101\" x2=\"32\" y2=\"101\" />\n",
       "  <line x1=\"0\" y1=\"107\" x2=\"32\" y2=\"107\" />\n",
       "  <line x1=\"0\" y1=\"113\" x2=\"32\" y2=\"113\" />\n",
       "  <line x1=\"0\" y1=\"120\" x2=\"32\" y2=\"120\" style=\"stroke-width:2\" />\n",
       "\n",
       "  <!-- Vertical lines -->\n",
       "  <line x1=\"0\" y1=\"0\" x2=\"0\" y2=\"120\" style=\"stroke-width:2\" />\n",
       "  <line x1=\"32\" y1=\"0\" x2=\"32\" y2=\"120\" style=\"stroke-width:2\" />\n",
       "\n",
       "  <!-- Colored Rectangle -->\n",
       "  <polygon points=\"0.0,0.0 32.02435249410096,0.0 32.02435249410096,120.0 0.0,120.0\" style=\"fill:#8B4903A0;stroke-width:0\"/>\n",
       "\n",
       "  <!-- Text -->\n",
       "  <text x=\"16.012176\" y=\"140.000000\" font-size=\"1.0rem\" font-weight=\"100\" text-anchor=\"middle\" >4</text>\n",
       "  <text x=\"52.024352\" y=\"60.000000\" font-size=\"1.0rem\" font-weight=\"100\" text-anchor=\"middle\" transform=\"rotate(-90,52.024352,60.000000)\">120</text>\n",
       "</svg>\n",
       "</td>\n",
       "</tr>\n",
       "</table></div></li></ul></div></li><li class='xr-section-item'><input id='section-10dccef3-0889-44b3-857e-db77196a3dc7' class='xr-section-summary-in' type='checkbox'  ><label for='section-10dccef3-0889-44b3-857e-db77196a3dc7' class='xr-section-summary' >Attributes: <span>(29)</span></label><div class='xr-section-inline-details'></div><div class='xr-section-details'><dl class='xr-attrs'><dt><span>Conventions :</span></dt><dd>CF-1.6, ACDD-1.3</dd><dt><span>acknowledgment :</span></dt><dd>The Australian Government, Bureau of Meteorology; </dd><dt><span>agcd_version :</span></dt><dd>AGCD v2.0.0 Snapshot (1900-01-01 to 2020-05-31)</dd><dt><span>analysis_components :</span></dt><dd>total: the gridded accumulation of rainfall.</dd><dt><span>attribution :</span></dt><dd>Data should be cited as : Australian Bureau of Meteorology (2020), &quot;Australian Gridded Climate Data ( AGCD )  ; v2.0.0 Snapshot (1900-01-01 to 2020-05-31)&quot;. Downloaded from NCI on [date]. The metadata repository for this dataset is </dd><dt><span>cdm_data_type :</span></dt><dd>Grid</dd><dt><span>copyright :</span></dt><dd>(C) Copyright Commonwealth of Australia 2020, Bureau of Meteorology (ABN 92637 533532)</dd><dt><span>data_format :</span></dt><dd>netCDF4 with zlib compression</dd><dt><span>date_created :</span></dt><dd>2020-08-27T21:49:15.867624</dd><dt><span>date_issued :</span></dt><dd>2020-12-14 00:36:44</dd><dt><span>description :</span></dt><dd>This AGCD data is a snapshot of the operational monthly gridded rainfall dataset, updated every 6 months. It covers the most recent version of the complete historical archive, excluding gridscovering the most recent 6 months.  If you require data covering the most recent 6 months or wish to use this data for commercial purposes please contact Bureau of Meteorology Climate Data Services</dd><dt><span>history :</span></dt><dd>Wed Nov 03 11:32:35 2021: /g/data/xv83/dbi599/miniconda3/envs/unseen/bin/python /home/599/dbi599/unseen/cmdline_scripts/preprocess.py /g/data/xv83/dbi599/agcd/data/agcd_v2_precip_total_cafe-grid_monthly_1900-2020.zarr.zip obs /g/data/xv83/dbi599/ag/pr_agcd_1900-2019_A-DEC-mean_wheat-sheep-mean.zarr.zip --metadata_file config/dataset_agcd_monthly.yml --variables pr --spatial_coords -44 -11 113 154 --shapefile /home/599/dbi599/unseen/shapefiles/wheat_sheep.zip --shp_header region --combine_shapes --spatial_agg mean --time_freq A-DEC --time_agg mean --complete_time_agg_periods --units pr=mm/day --input_freq M (git@github.com:AusClimateService/unseen)</dd><dt><span>id :</span></dt><dd>Australian Gridded Climate Data (AGCD)</dd><dt><span>institution :</span></dt><dd>Australian Bureau of Meteorology, GPO Box 1289, Melbourne VIC 3001, Australia</dd><dt><span>keywords :</span></dt><dd>Earth Science, Atmosphere, Precipitation, Precipitation Amount, Liquid Water Equivalent</dd><dt><span>keywords_reference :</span></dt><dd>Global Change Master Directory (GCMD). 2015. GCMD Keywords, Version 8.1. Greenbelt, MD: Global Change Data Center, Science and Exploration Directorate, Goddard Space Flight Center (GSFC) National Aeronautics and Space Administration (NASA). URL:http://gcmd.nasa.gov/learn/keywords.html</dd><dt><span>keywords_vocabulary :</span></dt><dd>GCMD Science Keywords, Version 8.1</dd><dt><span>licence :</span></dt><dd>Data Licence: The grid data files in this AGCD Snapshot are available under the CC-BY-NC 4.0 International Licence. The CC-BY-NC 4.0 International ( Creative Commons Attribution Non-Commercial CC-BY-NC v.4.0 international ) license summary may be found here: [ https://creativecommons.org/licenses/by-nc/4.0/ ]. The full license text may be found here: [ https://creativecommons.org/licenses/by-nc/4.0/legalcode ].  This AGCD snapshot will be available for registered researchers, from NCI</dd><dt><span>naming_authority :</span></dt><dd>au.gov.bom</dd><dt><span>nco_openmp_thread_number :</span></dt><dd>1</dd><dt><span>references :</span></dt><dd>http://www.bom.gov.au/research/publications/researchreports/BRR-041.pdf</dd><dt><span>source :</span></dt><dd>Data is from site-based observation data recorded in the Australian Database for Meteorology and processed using methods described in the references</dd><dt><span>standard_name_vocabulary :</span></dt><dd>CF Standard Names, v28</dd><dt><span>summary :</span></dt><dd>The monthly rainfall data represents the amount of precipitation of any type (including the liquid equivalent of frozen hydrometeors such as hail and snow) observed by means of rain gauges stationed across Australia. These gauges measure millimetres of liquid water depth over a 24-hour period running from 9am local clock time the previous day to 9am on the observed day. Monthly rainfall totals are calculated from the accumulation of the contributing daily rainfall totals at stations, and may incorporate multi-day rainfall totals if observations were missing on any one day. Rainfall data from up to 8000 sites across the country are analysed, with limited quality control, onto 0.01x0.01 degree grids using the statistical interpolation technique described in Evans et al. (2020). Multi-month rainfall totals are calculated from the sum of monthly grids. </dd><dt><span>time_coverage_end :</span></dt><dd>1900-12-31T00:00:00</dd><dt><span>time_coverage_start :</span></dt><dd>1900-01-01T00:00:00</dd><dt><span>title :</span></dt><dd>Interpolated Rain Gauge Precipitation</dd><dt><span>url :</span></dt><dd>http://www.bom.gov.au/climate/</dd><dt><span>uuid :</span></dt><dd>43596dc1-c56e-42a2-ba87-4e3b726a6e60</dd></dl></div></li></ul></div></div>"
      ],
      "text/plain": [
       "<xarray.Dataset>\n",
       "Dimensions:  (region: 4, time: 120)\n",
       "Coordinates:\n",
       "  * region   (region) <U10 'south-west' 'south-east' 'north-east' 'all'\n",
       "  * time     (time) object 1900-12-31 00:00:00 ... 2019-12-31 00:00:00\n",
       "Data variables:\n",
       "    pr       (time, region) float64 dask.array<chunksize=(1, 4), meta=np.ndarray>\n",
       "Attributes: (12/29)\n",
       "    Conventions:               CF-1.6, ACDD-1.3\n",
       "    acknowledgment:            The Australian Government, Bureau of Meteorolo...\n",
       "    agcd_version:              AGCD v2.0.0 Snapshot (1900-01-01 to 2020-05-31)\n",
       "    analysis_components:       total: the gridded accumulation of rainfall.\n",
       "    attribution:               Data should be cited as : Australian Bureau of...\n",
       "    cdm_data_type:             Grid\n",
       "    ...                        ...\n",
       "    summary:                   The monthly rainfall data represents the amoun...\n",
       "    time_coverage_end:         1900-12-31T00:00:00\n",
       "    time_coverage_start:       1900-01-01T00:00:00\n",
       "    title:                     Interpolated Rain Gauge Precipitation\n",
       "    url:                       http://www.bom.gov.au/climate/\n",
       "    uuid:                      43596dc1-c56e-42a2-ba87-4e3b726a6e60"
      ]
     },
     "execution_count": 6,
     "metadata": {},
     "output_type": "execute_result"
    }
   ],
   "source": [
    "agcd_ds"
   ]
  },
  {
   "cell_type": "code",
   "execution_count": 7,
   "id": "1b8ea59f",
   "metadata": {
    "execution": {
     "iopub.execute_input": "2021-11-10T06:40:39.871085Z",
     "iopub.status.busy": "2021-11-10T06:40:39.870212Z",
     "iopub.status.idle": "2021-11-10T06:40:39.875582Z",
     "shell.execute_reply": "2021-11-10T06:40:39.874172Z"
    },
    "papermill": {
     "duration": 0.069952,
     "end_time": "2021-11-10T06:40:39.875854",
     "exception": false,
     "start_time": "2021-11-10T06:40:39.805902",
     "status": "completed"
    },
    "tags": []
   },
   "outputs": [],
   "source": [
    "agcd_ds['pr'] = agcd_ds['pr'] * 365\n",
    "agcd_ds['pr'].attrs['units'] = 'mm yr-1'"
   ]
  },
  {
   "cell_type": "code",
   "execution_count": 8,
   "id": "9c701895",
   "metadata": {
    "execution": {
     "iopub.execute_input": "2021-11-10T06:40:40.012403Z",
     "iopub.status.busy": "2021-11-10T06:40:40.007864Z",
     "iopub.status.idle": "2021-11-10T06:40:40.310342Z",
     "shell.execute_reply": "2021-11-10T06:40:40.309443Z"
    },
    "papermill": {
     "duration": 0.385858,
     "end_time": "2021-11-10T06:40:40.310618",
     "exception": false,
     "start_time": "2021-11-10T06:40:39.924760",
     "status": "completed"
    },
    "tags": []
   },
   "outputs": [],
   "source": [
    "years = agcd_ds['time'].dt.year.values\n",
    "agcd_df = pd.DataFrame(index=years)\n",
    "agcd_df[region] = agcd_ds['pr'].sel(region='all').values"
   ]
  },
  {
   "cell_type": "code",
   "execution_count": 9,
   "id": "1251fa67",
   "metadata": {
    "execution": {
     "iopub.execute_input": "2021-11-10T06:40:40.577006Z",
     "iopub.status.busy": "2021-11-10T06:40:40.575530Z",
     "iopub.status.idle": "2021-11-10T06:40:44.846454Z",
     "shell.execute_reply": "2021-11-10T06:40:44.845152Z"
    },
    "papermill": {
     "duration": 4.484433,
     "end_time": "2021-11-10T06:40:44.846776",
     "exception": false,
     "start_time": "2021-11-10T06:40:40.362343",
     "status": "completed"
    },
    "tags": []
   },
   "outputs": [
    {
     "data": {
      "image/png": "[encoded data removed]",
      "text/plain": [
       "<Figure size 1440x648 with 1 Axes>"
      ]
     },
     "metadata": {
      "needs_background": "light"
     },
     "output_type": "display_data"
    }
   ],
   "source": [
    "agcd_df[region].plot.bar(figsize=[20, 9], width=0.8)\n",
    "plt.ylabel('annual precipitation (mm)')\n",
    "plt.title(f'wheat-sheep ({region}) region')\n",
    "plt.grid(axis='y')\n",
    "plt.savefig(f'/g/data/xv83/dbi599/ag/wheat_sheep_precip_{region}.png', bbox_inches='tight', facecolor='white')\n",
    "plt.show()"
   ]
  },
  {
   "cell_type": "code",
   "execution_count": 10,
   "id": "527ce770",
   "metadata": {
    "execution": {
     "iopub.execute_input": "2021-11-10T06:40:45.044260Z",
     "iopub.status.busy": "2021-11-10T06:40:45.043279Z",
     "iopub.status.idle": "2021-11-10T06:40:45.050025Z",
     "shell.execute_reply": "2021-11-10T06:40:45.048875Z"
    },
    "papermill": {
     "duration": 0.149163,
     "end_time": "2021-11-10T06:40:45.050387",
     "exception": false,
     "start_time": "2021-11-10T06:40:44.901224",
     "status": "completed"
    },
    "tags": []
   },
   "outputs": [
    {
     "data": {
      "text/plain": [
       "2019    246.779661\n",
       "2002    310.594415\n",
       "1902    311.070922\n",
       "1994    323.246636\n",
       "1957    323.559183\n",
       "1944    325.085380\n",
       "2006    342.297344\n",
       "1919    351.863862\n",
       "2018    357.549319\n",
       "1982    357.924929\n",
       "Name: all, dtype: float64"
      ]
     },
     "execution_count": 10,
     "metadata": {},
     "output_type": "execute_result"
    }
   ],
   "source": [
    "ranked_years = agcd_df['all'].sort_values()\n",
    "ranked_years.head(n=10)"
   ]
  },
  {
   "cell_type": "code",
   "execution_count": 11,
   "id": "784c60e9",
   "metadata": {
    "execution": {
     "iopub.execute_input": "2021-11-10T06:40:45.534916Z",
     "iopub.status.busy": "2021-11-10T06:40:45.533989Z",
     "iopub.status.idle": "2021-11-10T06:40:45.538700Z",
     "shell.execute_reply": "2021-11-10T06:40:45.537722Z"
    },
    "papermill": {
     "duration": 0.068924,
     "end_time": "2021-11-10T06:40:45.538940",
     "exception": false,
     "start_time": "2021-11-10T06:40:45.470016",
     "status": "completed"
    },
    "tags": []
   },
   "outputs": [],
   "source": [
    "rank_2019 = ranked_years.index.get_loc(2019) + 1\n",
    "rank_2006 = ranked_years.index.get_loc(2006) + 1"
   ]
  },
  {
   "cell_type": "markdown",
   "id": "7eca1b54",
   "metadata": {
    "papermill": {
     "duration": 0.673738,
     "end_time": "2021-11-10T06:40:46.733191",
     "exception": false,
     "start_time": "2021-11-10T06:40:46.059453",
     "status": "completed"
    },
    "tags": []
   },
   "source": [
    "2019 statistics from observational record: 1 in 119 year event (i.e. 0.8% percentile, 119 year return period)\n",
    "\n",
    "2006 statistics from observational record: 7 in 119 year event (i.e. 5.9% percentile, 17 year return period)"
   ]
  },
  {
   "cell_type": "markdown",
   "id": "d082e6af",
   "metadata": {
    "papermill": {
     "duration": 0.36814,
     "end_time": "2021-11-10T06:40:47.189976",
     "exception": false,
     "start_time": "2021-11-10T06:40:46.821836",
     "status": "completed"
    },
    "tags": []
   },
   "source": [
    "## Model ensemble"
   ]
  },
  {
   "cell_type": "code",
   "execution_count": 12,
   "id": "1620b927",
   "metadata": {
    "execution": {
     "iopub.execute_input": "2021-11-10T06:40:48.051656Z",
     "iopub.status.busy": "2021-11-10T06:40:48.050465Z",
     "iopub.status.idle": "2021-11-10T06:40:48.092690Z",
     "shell.execute_reply": "2021-11-10T06:40:48.091443Z"
    },
    "papermill": {
     "duration": 0.382828,
     "end_time": "2021-11-10T06:40:48.092963",
     "exception": false,
     "start_time": "2021-11-10T06:40:47.710135",
     "status": "completed"
    },
    "tags": []
   },
   "outputs": [],
   "source": [
    "cafe_ds = fileio.open_file(cafe_file)\n",
    "cafe_bc_ds = fileio.open_file(cafe_bc_file)"
   ]
  },
  {
   "cell_type": "code",
   "execution_count": 13,
   "id": "807292f7",
   "metadata": {
    "execution": {
     "iopub.execute_input": "2021-11-10T06:40:48.206876Z",
     "iopub.status.busy": "2021-11-10T06:40:48.206060Z",
     "iopub.status.idle": "2021-11-10T06:40:48.213155Z",
     "shell.execute_reply": "2021-11-10T06:40:48.212273Z"
    },
    "papermill": {
     "duration": 0.066792,
     "end_time": "2021-11-10T06:40:48.213423",
     "exception": false,
     "start_time": "2021-11-10T06:40:48.146631",
     "status": "completed"
    },
    "tags": []
   },
   "outputs": [
    {
     "data": {
      "text/plain": [
       "'mm d-1'"
      ]
     },
     "execution_count": 13,
     "metadata": {},
     "output_type": "execute_result"
    }
   ],
   "source": [
    "cafe_bc_ds['pr'].attrs['units']"
   ]
  },
  {
   "cell_type": "code",
   "execution_count": 14,
   "id": "7cda3ac9",
   "metadata": {
    "execution": {
     "iopub.execute_input": "2021-11-10T06:40:48.759695Z",
     "iopub.status.busy": "2021-11-10T06:40:48.756787Z",
     "iopub.status.idle": "2021-11-10T06:40:48.764608Z",
     "shell.execute_reply": "2021-11-10T06:40:48.763400Z"
    },
    "papermill": {
     "duration": 0.225075,
     "end_time": "2021-11-10T06:40:48.764878",
     "exception": false,
     "start_time": "2021-11-10T06:40:48.539803",
     "status": "completed"
    },
    "tags": []
   },
   "outputs": [],
   "source": [
    "cafe_ds['pr'] = cafe_ds['pr'] * 365\n",
    "cafe_ds['pr'].attrs['units'] = 'mm yr-1'\n",
    "\n",
    "cafe_bc_ds['pr'] = cafe_bc_ds['pr'] * 365\n",
    "cafe_bc_ds['pr'].attrs['units'] = 'mm yr-1'"
   ]
  },
  {
   "cell_type": "code",
   "execution_count": 15,
   "id": "6b311ece",
   "metadata": {
    "execution": {
     "iopub.execute_input": "2021-11-10T06:40:50.246794Z",
     "iopub.status.busy": "2021-11-10T06:40:50.244966Z",
     "iopub.status.idle": "2021-11-10T06:40:50.552109Z",
     "shell.execute_reply": "2021-11-10T06:40:50.550900Z"
    },
    "papermill": {
     "duration": 1.39815,
     "end_time": "2021-11-10T06:40:50.552441",
     "exception": false,
     "start_time": "2021-11-10T06:40:49.154291",
     "status": "completed"
    },
    "tags": []
   },
   "outputs": [
    {
     "data": {
      "image/png": "[encoded data removed]",
      "text/plain": [
       "<Figure size 720x432 with 1 Axes>"
      ]
     },
     "metadata": {
      "needs_background": "light"
     },
     "output_type": "display_data"
    }
   ],
   "source": [
    "fig = plt.figure(figsize=[10, 6])\n",
    "\n",
    "cafe_ds.isel(ensemble=10, init_date=5)['pr'].plot(hue='region')\n",
    "\n",
    "plt.show()"
   ]
  },
  {
   "cell_type": "markdown",
   "id": "1e039e61",
   "metadata": {
    "papermill": {
     "duration": 0.11603,
     "end_time": "2021-11-10T06:40:50.728532",
     "exception": false,
     "start_time": "2021-11-10T06:40:50.612502",
     "status": "completed"
    },
    "tags": []
   },
   "source": [
    "## Bias correction and fidelity testing"
   ]
  },
  {
   "cell_type": "code",
   "execution_count": 16,
   "id": "110c554e",
   "metadata": {
    "execution": {
     "iopub.execute_input": "2021-11-10T06:40:51.903800Z",
     "iopub.status.busy": "2021-11-10T06:40:51.898570Z",
     "iopub.status.idle": "2021-11-10T06:40:54.401195Z",
     "shell.execute_reply": "2021-11-10T06:40:54.402171Z"
    },
    "papermill": {
     "duration": 3.617364,
     "end_time": "2021-11-10T06:40:54.402607",
     "exception": false,
     "start_time": "2021-11-10T06:40:50.785243",
     "status": "completed"
    },
    "tags": []
   },
   "outputs": [
    {
     "data": {
      "image/png": "[encoded data removed]",
      "text/plain": [
       "<Figure size 720x432 with 1 Axes>"
      ]
     },
     "metadata": {
      "needs_background": "light"
     },
     "output_type": "display_data"
    }
   ],
   "source": [
    "fig = plt.figure(figsize=[10, 6])\n",
    "cafe_ds.sel(region=region)['pr'].plot.hist(bins=50, density=True, label='CAFE', alpha=0.7)\n",
    "cafe_bc_ds.sel(region=region)['pr'].plot.hist(bins=50, density=True, label='CAFE BIAS CORRECTED', facecolor='darkblue', alpha=0.7)\n",
    "agcd_ds.sel(region=region)['pr'].plot.hist(bins=50, density=True, label='AGCD', facecolor='green', alpha=0.7)\n",
    "plt.xlabel('annual precipitation (mm)')\n",
    "plt.ylabel('probability')\n",
    "plt.title(f'Average precipitation across the wheat-sheep ({region}) region')\n",
    "plt.legend()\n",
    "plt.savefig(f'/g/data/xv83/dbi599/wheat_sheep_precip_histogram_{region}.png', bbox_inches='tight', facecolor='white')\n",
    "plt.show()"
   ]
  },
  {
   "cell_type": "code",
   "execution_count": 17,
   "id": "8b3f7de0",
   "metadata": {
    "execution": {
     "iopub.execute_input": "2021-11-10T06:40:54.723569Z",
     "iopub.status.busy": "2021-11-10T06:40:54.722018Z",
     "iopub.status.idle": "2021-11-10T06:40:54.742438Z",
     "shell.execute_reply": "2021-11-10T06:40:54.741130Z"
    },
    "papermill": {
     "duration": 0.283108,
     "end_time": "2021-11-10T06:40:54.742819",
     "exception": false,
     "start_time": "2021-11-10T06:40:54.459711",
     "status": "completed"
    },
    "tags": []
   },
   "outputs": [],
   "source": [
    "fidelity_ds = xr.open_zarr(fidelity_file)"
   ]
  },
  {
   "cell_type": "code",
   "execution_count": 18,
   "id": "a21af1f7",
   "metadata": {
    "execution": {
     "iopub.execute_input": "2021-11-10T06:40:54.948914Z",
     "iopub.status.busy": "2021-11-10T06:40:54.946406Z",
     "iopub.status.idle": "2021-11-10T06:40:54.984775Z",
     "shell.execute_reply": "2021-11-10T06:40:54.985886Z"
    },
    "papermill": {
     "duration": 0.109454,
     "end_time": "2021-11-10T06:40:54.986360",
     "exception": false,
     "start_time": "2021-11-10T06:40:54.876906",
     "status": "completed"
    },
    "tags": []
   },
   "outputs": [
    {
     "data": {
      "text/plain": [
       "array([0.20819994, 0.27640568, 0.36216445, 0.23619091, 0.15059655,\n",
       "       0.10878515, 0.11152911, 0.10052024, 0.08058135])"
      ]
     },
     "execution_count": 18,
     "metadata": {},
     "output_type": "execute_result"
    }
   ],
   "source": [
    "fidelity_ds.sel(region='all')['pval'].values"
   ]
  },
  {
   "cell_type": "markdown",
   "id": "1a8210c0",
   "metadata": {
    "papermill": {
     "duration": 0.190392,
     "end_time": "2021-11-10T06:40:55.244791",
     "exception": false,
     "start_time": "2021-11-10T06:40:55.054399",
     "status": "completed"
    },
    "tags": []
   },
   "source": [
    "p > 0.05 at all lead times so the null hypothesis (that the two samples are from the same population) can't be rejected."
   ]
  },
  {
   "cell_type": "markdown",
   "id": "b25bd815",
   "metadata": {
    "papermill": {
     "duration": 0.14207,
     "end_time": "2021-11-10T06:40:56.717385",
     "exception": false,
     "start_time": "2021-11-10T06:40:56.575315",
     "status": "completed"
    },
    "tags": []
   },
   "source": [
    "## Independence testing"
   ]
  },
  {
   "cell_type": "code",
   "execution_count": 19,
   "id": "b819d698",
   "metadata": {
    "execution": {
     "iopub.execute_input": "2021-11-10T06:40:57.962691Z",
     "iopub.status.busy": "2021-11-10T06:40:57.961006Z",
     "iopub.status.idle": "2021-11-10T06:40:57.973323Z",
     "shell.execute_reply": "2021-11-10T06:40:57.972190Z"
    },
    "papermill": {
     "duration": 0.887387,
     "end_time": "2021-11-10T06:40:57.973567",
     "exception": false,
     "start_time": "2021-11-10T06:40:57.086180",
     "status": "completed"
    },
    "tags": []
   },
   "outputs": [
    {
     "data": {
      "image/png": "[encoded data removed]",
      "text/plain": [
       "<IPython.core.display.Image object>"
      ]
     },
     "execution_count": 19,
     "metadata": {},
     "output_type": "execute_result"
    }
   ],
   "source": [
    "Image(filename=independence_plot)"
   ]
  },
  {
   "cell_type": "markdown",
   "id": "692c7b58",
   "metadata": {
    "papermill": {
     "duration": 0.147691,
     "end_time": "2021-11-10T06:40:58.851129",
     "exception": false,
     "start_time": "2021-11-10T06:40:58.703438",
     "status": "completed"
    },
    "tags": []
   },
   "source": [
    "## Exceedance curves"
   ]
  },
  {
   "cell_type": "code",
   "execution_count": 20,
   "id": "f0b0019b",
   "metadata": {
    "execution": {
     "iopub.execute_input": "2021-11-10T06:40:58.986604Z",
     "iopub.status.busy": "2021-11-10T06:40:58.985634Z",
     "iopub.status.idle": "2021-11-10T06:40:59.001520Z",
     "shell.execute_reply": "2021-11-10T06:40:59.002580Z"
    },
    "papermill": {
     "duration": 0.090495,
     "end_time": "2021-11-10T06:40:59.002934",
     "exception": false,
     "start_time": "2021-11-10T06:40:58.912439",
     "status": "completed"
    },
    "tags": []
   },
   "outputs": [],
   "source": [
    "cafe_bc_ds_stacked = cafe_bc_ds.sel(region=region, lead_time=slice(3, None))['pr'].stack({'sample': ['ensemble', 'init_date', 'lead_time']})"
   ]
  },
  {
   "cell_type": "code",
   "execution_count": 21,
   "id": "7d4fdc9e",
   "metadata": {
    "execution": {
     "iopub.execute_input": "2021-11-10T06:40:59.785084Z",
     "iopub.status.busy": "2021-11-10T06:40:59.783731Z",
     "iopub.status.idle": "2021-11-10T06:40:59.791105Z",
     "shell.execute_reply": "2021-11-10T06:40:59.789758Z"
    },
    "papermill": {
     "duration": 0.416649,
     "end_time": "2021-11-10T06:40:59.791362",
     "exception": false,
     "start_time": "2021-11-10T06:40:59.374713",
     "status": "completed"
    },
    "tags": []
   },
   "outputs": [
    {
     "data": {
      "text/plain": [
       "(44928,)"
      ]
     },
     "execution_count": 21,
     "metadata": {},
     "output_type": "execute_result"
    }
   ],
   "source": [
    "cafe_bc_ds_stacked.shape"
   ]
  },
  {
   "cell_type": "code",
   "execution_count": 22,
   "id": "101073b6",
   "metadata": {
    "execution": {
     "iopub.execute_input": "2021-11-10T06:40:59.970173Z",
     "iopub.status.busy": "2021-11-10T06:40:59.965798Z",
     "iopub.status.idle": "2021-11-10T06:45:48.611366Z",
     "shell.execute_reply": "2021-11-10T06:45:48.609960Z"
    },
    "papermill": {
     "duration": 288.738139,
     "end_time": "2021-11-10T06:45:48.611783",
     "exception": false,
     "start_time": "2021-11-10T06:40:59.873644",
     "status": "completed"
    },
    "tags": []
   },
   "outputs": [],
   "source": [
    "cafe_bc_ds_stacked = time_utils.select_time_period(cafe_bc_ds_stacked, ['1990-01-01', '2019-12-31'])"
   ]
  },
  {
   "cell_type": "code",
   "execution_count": 23,
   "id": "433023f0",
   "metadata": {
    "execution": {
     "iopub.execute_input": "2021-11-10T06:45:48.743073Z",
     "iopub.status.busy": "2021-11-10T06:45:48.736473Z",
     "iopub.status.idle": "2021-11-10T06:45:49.285913Z",
     "shell.execute_reply": "2021-11-10T06:45:49.284251Z"
    },
    "papermill": {
     "duration": 0.616942,
     "end_time": "2021-11-10T06:45:49.286397",
     "exception": false,
     "start_time": "2021-11-10T06:45:48.669455",
     "status": "completed"
    },
    "tags": []
   },
   "outputs": [],
   "source": [
    "cafe_bc_ds_stacked = cafe_bc_ds_stacked.dropna(dim='sample')"
   ]
  },
  {
   "cell_type": "code",
   "execution_count": 24,
   "id": "71f0bbf9",
   "metadata": {
    "execution": {
     "iopub.execute_input": "2021-11-10T06:45:49.420129Z",
     "iopub.status.busy": "2021-11-10T06:45:49.418904Z",
     "iopub.status.idle": "2021-11-10T06:45:49.426340Z",
     "shell.execute_reply": "2021-11-10T06:45:49.425090Z"
    },
    "papermill": {
     "duration": 0.07575,
     "end_time": "2021-11-10T06:45:49.426638",
     "exception": false,
     "start_time": "2021-11-10T06:45:49.350888",
     "status": "completed"
    },
    "tags": []
   },
   "outputs": [
    {
     "data": {
      "text/plain": [
       "(34272,)"
      ]
     },
     "execution_count": 24,
     "metadata": {},
     "output_type": "execute_result"
    }
   ],
   "source": [
    "cafe_bc_ds_stacked.shape"
   ]
  },
  {
   "cell_type": "code",
   "execution_count": 25,
   "id": "2bfeb478",
   "metadata": {
    "execution": {
     "iopub.execute_input": "2021-11-10T06:45:50.080125Z",
     "iopub.status.busy": "2021-11-10T06:45:50.078981Z",
     "iopub.status.idle": "2021-11-10T06:45:50.084748Z",
     "shell.execute_reply": "2021-11-10T06:45:50.083341Z"
    },
    "papermill": {
     "duration": 0.388224,
     "end_time": "2021-11-10T06:45:50.085054",
     "exception": false,
     "start_time": "2021-11-10T06:45:49.696830",
     "status": "completed"
    },
    "tags": []
   },
   "outputs": [],
   "source": [
    "def calc_exceedance(ds_stacked):\n",
    "    \"\"\"Calculate exceedance\"\"\"\n",
    "    \n",
    "    data = ds_stacked.compute()\n",
    "    sorted_data = np.sort(data, axis=None)\n",
    "    exceedance = 1.-np.arange(1.,len(data) + 1.)/len(data)\n",
    "    \n",
    "    return sorted_data, exceedance"
   ]
  },
  {
   "cell_type": "code",
   "execution_count": 26,
   "id": "ad23cea6",
   "metadata": {
    "execution": {
     "iopub.execute_input": "2021-11-10T06:45:51.584613Z",
     "iopub.status.busy": "2021-11-10T06:45:51.579167Z",
     "iopub.status.idle": "2021-11-10T06:45:52.134345Z",
     "shell.execute_reply": "2021-11-10T06:45:52.132942Z"
    },
    "papermill": {
     "duration": 1.482582,
     "end_time": "2021-11-10T06:45:52.134682",
     "exception": false,
     "start_time": "2021-11-10T06:45:50.652100",
     "status": "completed"
    },
    "tags": []
   },
   "outputs": [
    {
     "data": {
      "image/png": "[encoded data removed]",
      "text/plain": [
       "<Figure size 576x432 with 1 Axes>"
      ]
     },
     "metadata": {
      "needs_background": "light"
     },
     "output_type": "display_data"
    }
   ],
   "source": [
    "sorted_data, exceedance = calc_exceedance(cafe_bc_ds_stacked)\n",
    "\n",
    "fig = plt.figure(figsize=[8, 6])\n",
    "ax = fig.add_subplot()\n",
    "ax.plot(sorted_data, exceedance * 100)\n",
    "ax.set_title(f'Average precipitation across the wheat-sheep ({region}) region')\n",
    "ax.set_ylabel('likelihood of exceedance (%)')\n",
    "ax.set_xlabel('annual precipitation (mm)')\n",
    "plt.show()"
   ]
  },
  {
   "cell_type": "code",
   "execution_count": 27,
   "id": "b4978634",
   "metadata": {
    "execution": {
     "iopub.execute_input": "2021-11-10T06:45:52.407401Z",
     "iopub.status.busy": "2021-11-10T06:45:52.406024Z",
     "iopub.status.idle": "2021-11-10T06:45:52.411389Z",
     "shell.execute_reply": "2021-11-10T06:45:52.409859Z"
    },
    "papermill": {
     "duration": 0.083872,
     "end_time": "2021-11-10T06:45:52.411694",
     "exception": false,
     "start_time": "2021-11-10T06:45:52.327822",
     "status": "completed"
    },
    "tags": []
   },
   "outputs": [],
   "source": [
    "def calc_likelihood(data, threshold, direction):\n",
    "    \"\"\"Calculate the likelihood of an event\n",
    "    \n",
    "    Args:\n",
    "      data (np.ndarray)\n",
    "      threshold (float)\n",
    "      direction (str) : 'less' or 'greater' than\n",
    "    \"\"\"\n",
    "\n",
    "    n_population = len(data)\n",
    "    if direction == 'less':\n",
    "        n_events = np.sum(data < threshold)\n",
    "    elif direction == 'greater':\n",
    "        n_events = np.sum(data > threshold)\n",
    "    else:\n",
    "        raise ValueError(\"\"\"direction must be 'less' or 'greater'\"\"\")\n",
    "        \n",
    "    likelihood = (n_events / n_population) * 100\n",
    "    \n",
    "    return_period = 1 / (likelihood / 100)\n",
    "    print(f'{threshold} mm: {likelihood}%, {return_period} years')\n",
    "    \n",
    "    return likelihood"
   ]
  },
  {
   "cell_type": "code",
   "execution_count": 28,
   "id": "90d9d50a",
   "metadata": {
    "execution": {
     "iopub.execute_input": "2021-11-10T06:45:52.659826Z",
     "iopub.status.busy": "2021-11-10T06:45:52.659034Z",
     "iopub.status.idle": "2021-11-10T06:45:52.901631Z",
     "shell.execute_reply": "2021-11-10T06:45:52.902494Z"
    },
    "papermill": {
     "duration": 0.430536,
     "end_time": "2021-11-10T06:45:52.902813",
     "exception": false,
     "start_time": "2021-11-10T06:45:52.472277",
     "status": "completed"
    },
    "tags": []
   },
   "outputs": [
    {
     "data": {
      "image/png": "[encoded data removed]",
      "text/plain": [
       "<Figure size 576x432 with 1 Axes>"
      ]
     },
     "metadata": {
      "needs_background": "light"
     },
     "output_type": "display_data"
    }
   ],
   "source": [
    "fig = plt.figure(figsize=[8, 6])\n",
    "ax = fig.add_subplot()\n",
    "ax.plot(sorted_data, 100 - (exceedance * 100))\n",
    "ax.invert_xaxis()\n",
    "ax.set_title(f'Average precipitation across the wheat-sheep ({region}) region')\n",
    "ax.set_ylabel('likelihood of deceedance (%)')\n",
    "ax.set_xlabel('annual precipitation (mm)')\n",
    "#ax.plot(244.0081797, 0, 'o')\n",
    "ax.axvline(246.779661, color='0.5', linestyle='--')\n",
    "ax.axvline(310.594415, color='0.5', linestyle='--')\n",
    "ax.axvline(323.246636, color='0.5', linestyle='--')\n",
    "ax.axvline(342.297344, color='0.5', linestyle='--')\n",
    "plt.show()"
   ]
  },
  {
   "cell_type": "code",
   "execution_count": 29,
   "id": "af3878f5",
   "metadata": {
    "execution": {
     "iopub.execute_input": "2021-11-10T06:45:53.041274Z",
     "iopub.status.busy": "2021-11-10T06:45:53.040161Z",
     "iopub.status.idle": "2021-11-10T06:57:16.967672Z",
     "shell.execute_reply": "2021-11-10T06:57:16.968254Z"
    },
    "papermill": {
     "duration": 684.000222,
     "end_time": "2021-11-10T06:57:16.968642",
     "exception": false,
     "start_time": "2021-11-10T06:45:52.968420",
     "status": "completed"
    },
    "tags": []
   },
   "outputs": [
    {
     "name": "stdout",
     "output_type": "stream",
     "text": [
      "1990-1999\n",
      "246.779661 mm: 0.044515669515669515%, 2246.4 years\n",
      "342.297344 mm: 4.923433048433049%, 20.311030741410487 years\n",
      "2000-2009\n",
      "246.779661 mm: 0.052083333333333336%, 1920.0 years\n",
      "342.297344 mm: 6.770833333333333%, 14.76923076923077 years\n",
      "2010-2019\n",
      "246.779661 mm: 0.043402777777777776%, 2304.0 years\n",
      "342.297344 mm: 7.013888888888889%, 14.257425742574258 years\n"
     ]
    },
    {
     "data": {
      "image/png": "[encoded data removed]",
      "text/plain": [
       "<Figure size 576x432 with 1 Axes>"
      ]
     },
     "metadata": {
      "needs_background": "light"
     },
     "output_type": "display_data"
    }
   ],
   "source": [
    "fig = plt.figure(figsize=[8, 6])\n",
    "ax = fig.add_subplot()\n",
    "\n",
    "for start_year in [1990, 2000, 2010]:\n",
    "    end_year = start_year + 9\n",
    "    start_date = f'{start_year}-01-01'\n",
    "    end_date = f'{end_year}-12-31'\n",
    "    ds_selection = time_utils.select_time_period(cafe_bc_ds_stacked, [start_date, end_date])\n",
    "    ds_selection = ds_selection.dropna('sample')\n",
    "    sorted_data, exceedance = calc_exceedance(ds_selection)\n",
    "    n_years = len(sorted_data)\n",
    "    label = f'{start_year}-{end_year} ({n_years} samples)'\n",
    "    ax.plot(sorted_data, 100 - (exceedance * 100), label=label)\n",
    "    \n",
    "    print(f'{start_year}-{end_year}')\n",
    "    likelihood = calc_likelihood(ds_selection.values, 246.779661, 'less')\n",
    "    likelihood = calc_likelihood(ds_selection.values, 342.297344, 'less')\n",
    "\n",
    "ax.invert_xaxis()\n",
    "ax.set_title(f'Average precipitation across the wheat-sheep ({region}) region')\n",
    "ax.set_ylabel('likelihood of deceedance (%)')\n",
    "ax.set_xlabel('annual precipitation (mm)')\n",
    "ax.legend()\n",
    "#ax.plot(244.0081797, 0, 'o')\n",
    "ax.axvline(246.779661, color='0.5', linestyle='--')\n",
    "ax.axvline(310.594415, color='0.5', linestyle='--')\n",
    "ax.axvline(323.246636, color='0.5', linestyle='--')\n",
    "ax.axvline(342.297344, color='0.5', linestyle='--')\n",
    "\n",
    "plt.show()"
   ]
  },
  {
   "cell_type": "markdown",
   "id": "ad4781ee",
   "metadata": {
    "papermill": {
     "duration": 0.073114,
     "end_time": "2021-11-10T06:57:17.097911",
     "exception": false,
     "start_time": "2021-11-10T06:57:17.024797",
     "status": "completed"
    },
    "tags": []
   },
   "source": [
    "NOTE: That jump from 1990-1999 to the other decades wasn't there when I only used 1990 initial dates onwards..."
   ]
  },
  {
   "cell_type": "code",
   "execution_count": 30,
   "id": "99691939",
   "metadata": {
    "execution": {
     "iopub.execute_input": "2021-11-10T06:57:17.217267Z",
     "iopub.status.busy": "2021-11-10T06:57:17.216591Z",
     "iopub.status.idle": "2021-11-10T06:57:17.219226Z",
     "shell.execute_reply": "2021-11-10T06:57:17.219840Z"
    },
    "papermill": {
     "duration": 0.066242,
     "end_time": "2021-11-10T06:57:17.220014",
     "exception": false,
     "start_time": "2021-11-10T06:57:17.153772",
     "status": "completed"
    },
    "tags": []
   },
   "outputs": [],
   "source": [
    "wheat_import_years = [1994, 2002, 2006, 2019]"
   ]
  },
  {
   "cell_type": "code",
   "execution_count": 31,
   "id": "04d295d4",
   "metadata": {
    "execution": {
     "iopub.execute_input": "2021-11-10T06:57:17.542229Z",
     "iopub.status.busy": "2021-11-10T06:57:17.536899Z",
     "iopub.status.idle": "2021-11-10T06:57:19.040803Z",
     "shell.execute_reply": "2021-11-10T06:57:19.039960Z"
    },
    "papermill": {
     "duration": 1.764925,
     "end_time": "2021-11-10T06:57:19.041001",
     "exception": false,
     "start_time": "2021-11-10T06:57:17.276076",
     "status": "completed"
    },
    "tags": []
   },
   "outputs": [
    {
     "name": "stdout",
     "output_type": "stream",
     "text": [
      "323.246635948967 mm: 3.2183706816059754%, 31.07162284678151 years\n",
      "1994 (323.246635948967 mm): 3.2183706816059754%, 31.07162284678151 years\n",
      "310.5944147899352 mm: 1.9637021475256768%, 50.92421991084696 years\n",
      "2002 (310.5944147899352 mm): 1.9637021475256768%, 50.92421991084696 years\n",
      "342.29734390455957 mm: 6.247082166199814%, 16.007473143390936 years\n",
      "2006 (342.29734390455957 mm): 6.247082166199814%, 16.007473143390936 years\n",
      "246.77966056566456 mm: 0.04668534080298786%, 2142.0 years\n",
      "2019 (246.77966056566456 mm): 0.04668534080298786%, 2142.0 years\n"
     ]
    }
   ],
   "source": [
    "for year in wheat_import_years:\n",
    "    slice_start = f'{year}-01-01'\n",
    "    slice_end = f'{year}-12-31'\n",
    "    threshold = float(agcd_ds['pr'].sel(time=slice(slice_start, slice_end), region='all').values)\n",
    "    likelihood = calc_likelihood(cafe_bc_ds_stacked.values, threshold, 'less')\n",
    "    return_period = 1 / (likelihood / 100)\n",
    "    print(f'{year} ({threshold} mm): {likelihood}%, {return_period} years')"
   ]
  },
  {
   "cell_type": "code",
   "execution_count": 32,
   "id": "44584b6a",
   "metadata": {
    "execution": {
     "iopub.execute_input": "2021-11-10T06:57:19.660630Z",
     "iopub.status.busy": "2021-11-10T06:57:19.659834Z",
     "iopub.status.idle": "2021-11-10T06:57:19.988581Z",
     "shell.execute_reply": "2021-11-10T06:57:19.986911Z"
    },
    "papermill": {
     "duration": 0.867677,
     "end_time": "2021-11-10T06:57:19.988978",
     "exception": false,
     "start_time": "2021-11-10T06:57:19.121301",
     "status": "completed"
    },
    "tags": []
   },
   "outputs": [
    {
     "data": {
      "text/plain": [
       "16"
      ]
     },
     "execution_count": 32,
     "metadata": {},
     "output_type": "execute_result"
    }
   ],
   "source": [
    "np.count_nonzero(cafe_bc_ds_stacked.values < 246.779661)"
   ]
  },
  {
   "cell_type": "code",
   "execution_count": 33,
   "id": "ae87695a",
   "metadata": {
    "execution": {
     "iopub.execute_input": "2021-11-10T06:57:20.662349Z",
     "iopub.status.busy": "2021-11-10T06:57:20.660529Z",
     "iopub.status.idle": "2021-11-10T06:57:20.667600Z",
     "shell.execute_reply": "2021-11-10T06:57:20.665839Z"
    },
    "papermill": {
     "duration": 0.608252,
     "end_time": "2021-11-10T06:57:20.668002",
     "exception": false,
     "start_time": "2021-11-10T06:57:20.059750",
     "status": "completed"
    },
    "tags": []
   },
   "outputs": [
    {
     "data": {
      "text/plain": [
       "0.04668534080298786"
      ]
     },
     "execution_count": 33,
     "metadata": {},
     "output_type": "execute_result"
    }
   ],
   "source": [
    "(16 / 34272) * 100"
   ]
  },
  {
   "cell_type": "markdown",
   "id": "9bd57979",
   "metadata": {
    "papermill": {
     "duration": 0.306883,
     "end_time": "2021-11-10T06:57:21.044906",
     "exception": false,
     "start_time": "2021-11-10T06:57:20.738023",
     "status": "completed"
    },
    "tags": []
   },
   "source": [
    "## Summary\n",
    "\n",
    "2019 was an incredibly rare event (unpreceedented in the observational record, a 1 in 2000 year event in our large ensemble) but years sufficiently dry to require wheat imports (i.e. 2006 rainfall of 342mm) are relatively frequent (1 in 16/17 years in both the model/obs)."
   ]
  },
  {
   "cell_type": "code",
   "execution_count": null,
   "id": "39e4acf0",
   "metadata": {
    "papermill": {
     "duration": 0.850899,
     "end_time": "2021-11-10T06:57:22.233717",
     "exception": false,
     "start_time": "2021-11-10T06:57:21.382818",
     "status": "completed"
    },
    "tags": []
   },
   "outputs": [],
   "source": []
  }
 ],
 "metadata": {
  "kernelspec": {
   "display_name": "Python 3",
   "language": "python",
   "name": "python3"
  },
  "language_info": {
   "codemirror_mode": {
    "name": "ipython",
    "version": 3
   },
   "file_extension": ".py",
   "mimetype": "text/x-python",
   "name": "python",
   "nbconvert_exporter": "python",
   "pygments_lexer": "ipython3",
   "version": "3.9.4"
  },
  "papermill": {
   "default_parameters": {},
   "duration": 1050.737063,
   "end_time": "2021-11-10T06:57:24.018858",
   "environment_variables": {},
   "exception": null,
   "input_path": "ag_analysis.ipynb",
   "output_path": "ag_analysis.ipynb",
   "parameters": {
    "agcd_file": "/g/data/xv83/dbi599/ag/pr_agcd_1900-2019_A-DEC-mean_wheat-sheep-mean.zarr.zip",
    "cafe_bc_file": "/g/data/xv83/dbi599/ag/pr_cafe-c5-d60-pX-f6_19900501-20191101_A-DEC-mean_wheat-sheep-mean_bias-corrected-agcd-additive.zarr.zip",
    "cafe_file": "/g/data/xv83/dbi599/ag/pr_cafe-c5-d60-pX-f6_19811101-20201101_A-DEC-mean_wheat-sheep-mean.zarr.zip",
    "fidelity_file": "/g/data/xv83/dbi599/ag/ks-test_pr_cafe-c5-d60-pX-f6_19900501-20191101_A-DEC-mean_wheat-sheep-mean_bias-corrected-agcd-additive.zarr.zip",
    "independence_plot": "/g/data/xv83/dbi599/ag/independence-test_pr_cafe-c5-d60-pX-f6_19900501-20191101_A-DEC-mean_wheat-sheep-mean_bias-corrected-agcd-additive_region-all.png",
    "region": "all"
   },
   "start_time": "2021-11-10T06:39:53.281795",
   "version": "2.3.3"
  }
 },
 "nbformat": 4,
 "nbformat_minor": 5
}
