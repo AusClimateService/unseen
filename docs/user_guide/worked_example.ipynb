{
 "cells": [
  {
   "cell_type": "code",
   "execution_count": 1,
   "id": "12c718fe",
   "metadata": {},
   "outputs": [],
   "source": [
    "import glob\n",
    "\n",
    "import pandas as pd\n",
    "import cartopy.crs as ccrs\n",
    "import matplotlib.pyplot as plt\n",
    "\n",
    "from unseen import fileio\n",
    "from unseen import independence\n",
    "from unseen import bias_correction\n",
    "from unseen import similarity\n",
    "from unseen import general_utils"
   ]
  },
  {
   "cell_type": "markdown",
   "id": "7bc59b98",
   "metadata": {},
   "source": [
    "## Obs"
   ]
  },
  {
   "cell_type": "code",
   "execution_count": 2,
   "id": "baed72f0",
   "metadata": {},
   "outputs": [],
   "source": [
    "agcd_file = '/g/data/ia39/agcd/post-processed/data/agcd_v2_precip_total_cafe-grid_monthly_1900-2020.zarr.zip'"
   ]
  },
  {
   "cell_type": "code",
   "execution_count": 3,
   "id": "f53d24b7",
   "metadata": {},
   "outputs": [],
   "source": [
    "#agcd_files = glob.glob('/g/data/zv2/agcd/v2/precip/total/r005/01month/agcd_v2_precip_total_r005_month*.nc')\n",
    "#agcd_files.sort()\n",
    "#agcd_files"
   ]
  },
  {
   "cell_type": "code",
   "execution_count": 4,
   "id": "15af0e40",
   "metadata": {},
   "outputs": [],
   "source": [
    "agcd_ds = fileio.open_dataset(agcd_file,\n",
    "    variables=['pr'],\n",
    "    shapefile='wheatbelt.zip',\n",
    "    spatial_agg='mean',\n",
    "    time_freq='A-DEC',\n",
    "    time_agg='sum',\n",
    "    input_freq='M',\n",
    "    metadata_file='../../config/dataset_agcd_monthly.yml',\n",
    "    complete_time_agg_periods=True\n",
    ")"
   ]
  },
  {
   "cell_type": "code",
   "execution_count": 6,
   "id": "b9e10312",
   "metadata": {},
   "outputs": [
    {
     "name": "stdout",
     "output_type": "stream",
     "text": [
      "<xarray.Dataset>\n",
      "Dimensions:  (region: 1, time: 121)\n",
      "Coordinates:\n",
      "  * time     (time) object 1900-12-31 00:00:00 ... 2020-12-31 00:00:00\n",
      "  * region   (region) int64 0\n",
      "Data variables:\n",
      "    pr       (time, region) float64 dask.array<chunksize=(1, 1), meta=np.ndarray>\n",
      "Attributes: (12/29)\n",
      "    Conventions:               CF-1.6, ACDD-1.3\n",
      "    acknowledgment:            The Australian Government, Bureau of Meteorolo...\n",
      "    agcd_version:              AGCD v2.0.0 Snapshot (1900-01-01 to 2020-05-31)\n",
      "    analysis_components:       total: the gridded accumulation of rainfall.\n",
      "    attribution:               Data should be cited as : Australian Bureau of...\n",
      "    cdm_data_type:             Grid\n",
      "    ...                        ...\n",
      "    summary:                   The monthly rainfall data represents the amoun...\n",
      "    time_coverage_end:         1900-12-31T00:00:00\n",
      "    time_coverage_start:       1900-01-01T00:00:00\n",
      "    title:                     Interpolated Rain Gauge Precipitation\n",
      "    url:                       http://www.bom.gov.au/climate/\n",
      "    uuid:                      43596dc1-c56e-42a2-ba87-4e3b726a6e60\n"
     ]
    }
   ],
   "source": [
    "print(agcd_ds)"
   ]
  },
  {
   "cell_type": "code",
   "execution_count": 7,
   "id": "e8f34cb2",
   "metadata": {},
   "outputs": [],
   "source": [
    "agcd_ds = agcd_ds.squeeze(drop=True)\n",
    "agcd_ds = agcd_ds.dropna('time')"
   ]
  },
  {
   "cell_type": "code",
   "execution_count": 8,
   "id": "f7dbb743",
   "metadata": {},
   "outputs": [
    {
     "name": "stdout",
     "output_type": "stream",
     "text": [
      "<xarray.Dataset>\n",
      "Dimensions:  (time: 120)\n",
      "Coordinates:\n",
      "  * time     (time) object 1900-12-31 00:00:00 ... 2019-12-31 00:00:00\n",
      "Data variables:\n",
      "    pr       (time) float64 dask.array<chunksize=(1,), meta=np.ndarray>\n",
      "Attributes: (12/29)\n",
      "    Conventions:               CF-1.6, ACDD-1.3\n",
      "    acknowledgment:            The Australian Government, Bureau of Meteorolo...\n",
      "    agcd_version:              AGCD v2.0.0 Snapshot (1900-01-01 to 2020-05-31)\n",
      "    analysis_components:       total: the gridded accumulation of rainfall.\n",
      "    attribution:               Data should be cited as : Australian Bureau of...\n",
      "    cdm_data_type:             Grid\n",
      "    ...                        ...\n",
      "    summary:                   The monthly rainfall data represents the amoun...\n",
      "    time_coverage_end:         1900-12-31T00:00:00\n",
      "    time_coverage_start:       1900-01-01T00:00:00\n",
      "    title:                     Interpolated Rain Gauge Precipitation\n",
      "    url:                       http://www.bom.gov.au/climate/\n",
      "    uuid:                      43596dc1-c56e-42a2-ba87-4e3b726a6e60\n"
     ]
    }
   ],
   "source": [
    "print(agcd_ds)"
   ]
  },
  {
   "cell_type": "code",
   "execution_count": 9,
   "id": "7685b8ff",
   "metadata": {},
   "outputs": [],
   "source": [
    "agcd_ds = agcd_ds.compute()"
   ]
  },
  {
   "cell_type": "code",
   "execution_count": 10,
   "id": "0f9a6da7",
   "metadata": {},
   "outputs": [],
   "source": [
    "years = agcd_ds['time'].dt.year.values\n",
    "agcd_df = pd.DataFrame(index=years)\n",
    "agcd_df['pr'] = agcd_ds['pr'].values"
   ]
  },
  {
   "cell_type": "code",
   "execution_count": 11,
   "id": "308c5f67",
   "metadata": {},
   "outputs": [
    {
     "data": {
      "image/png": "[encoded data removed]",
      "text/plain": [
       "<Figure size 1440x648 with 1 Axes>"
      ]
     },
     "metadata": {
      "needs_background": "light"
     },
     "output_type": "display_data"
    }
   ],
   "source": [
    "agcd_df['pr'].plot.bar(figsize=[20, 9], width=0.8)\n",
    "#plt.axhline(mean_rainfall, color='0.5', linestyle='--')\n",
    "plt.ylabel('annual precipitation (mm)')\n",
    "plt.title(f'Annual mean precipitation over the Australian wheatbelt')\n",
    "plt.grid(axis='y')\n",
    "plt.show()"
   ]
  },
  {
   "cell_type": "code",
   "execution_count": 12,
   "id": "f8b403d4",
   "metadata": {},
   "outputs": [
    {
     "data": {
      "text/plain": [
       "2019    258.772963\n",
       "2002    331.651974\n",
       "1902    334.037246\n",
       "1944    341.258801\n",
       "1994    341.414517\n",
       "1957    344.510548\n",
       "1940    353.472467\n",
       "2006    357.692126\n",
       "1982    373.436263\n",
       "1919    377.921436\n",
       "Name: pr, dtype: float64"
      ]
     },
     "execution_count": 12,
     "metadata": {},
     "output_type": "execute_result"
    }
   ],
   "source": [
    "ranked_years = agcd_df['pr'].sort_values()\n",
    "ranked_years.head(n=10)"
   ]
  },
  {
   "cell_type": "markdown",
   "id": "72952a71",
   "metadata": {},
   "source": [
    "2019 was the driest year on record for Australia. Do the example UNSEEN analysis on that."
   ]
  },
  {
   "cell_type": "markdown",
   "id": "8e5ae856",
   "metadata": {},
   "source": [
    "## Model"
   ]
  },
  {
   "cell_type": "code",
   "execution_count": 13,
   "id": "5e778150",
   "metadata": {},
   "outputs": [
    {
     "data": {
      "text/plain": [
       "['/g/data/xv83/dcfp/CAFE-f6/c5-d60-pX-f6-19950501/atmos_isobaric_daily.zarr.zip',\n",
       " '/g/data/xv83/dcfp/CAFE-f6/c5-d60-pX-f6-19951101/atmos_isobaric_daily.zarr.zip',\n",
       " '/g/data/xv83/dcfp/CAFE-f6/c5-d60-pX-f6-19960501/atmos_isobaric_daily.zarr.zip',\n",
       " '/g/data/xv83/dcfp/CAFE-f6/c5-d60-pX-f6-19961101/atmos_isobaric_daily.zarr.zip',\n",
       " '/g/data/xv83/dcfp/CAFE-f6/c5-d60-pX-f6-19970501/atmos_isobaric_daily.zarr.zip',\n",
       " '/g/data/xv83/dcfp/CAFE-f6/c5-d60-pX-f6-19971101/atmos_isobaric_daily.zarr.zip',\n",
       " '/g/data/xv83/dcfp/CAFE-f6/c5-d60-pX-f6-19980501/atmos_isobaric_daily.zarr.zip',\n",
       " '/g/data/xv83/dcfp/CAFE-f6/c5-d60-pX-f6-19981101/atmos_isobaric_daily.zarr.zip',\n",
       " '/g/data/xv83/dcfp/CAFE-f6/c5-d60-pX-f6-19990501/atmos_isobaric_daily.zarr.zip',\n",
       " '/g/data/xv83/dcfp/CAFE-f6/c5-d60-pX-f6-19991101/atmos_isobaric_daily.zarr.zip',\n",
       " '/g/data/xv83/dcfp/CAFE-f6/c5-d60-pX-f6-20000501/atmos_isobaric_daily.zarr.zip',\n",
       " '/g/data/xv83/dcfp/CAFE-f6/c5-d60-pX-f6-20001101/atmos_isobaric_daily.zarr.zip',\n",
       " '/g/data/xv83/dcfp/CAFE-f6/c5-d60-pX-f6-20010501/atmos_isobaric_daily.zarr.zip',\n",
       " '/g/data/xv83/dcfp/CAFE-f6/c5-d60-pX-f6-20011101/atmos_isobaric_daily.zarr.zip',\n",
       " '/g/data/xv83/dcfp/CAFE-f6/c5-d60-pX-f6-20020501/atmos_isobaric_daily.zarr.zip',\n",
       " '/g/data/xv83/dcfp/CAFE-f6/c5-d60-pX-f6-20021101/atmos_isobaric_daily.zarr.zip',\n",
       " '/g/data/xv83/dcfp/CAFE-f6/c5-d60-pX-f6-20030501/atmos_isobaric_daily.zarr.zip',\n",
       " '/g/data/xv83/dcfp/CAFE-f6/c5-d60-pX-f6-20031101/atmos_isobaric_daily.zarr.zip',\n",
       " '/g/data/xv83/dcfp/CAFE-f6/c5-d60-pX-f6-20040501/atmos_isobaric_daily.zarr.zip',\n",
       " '/g/data/xv83/dcfp/CAFE-f6/c5-d60-pX-f6-20041101/atmos_isobaric_daily.zarr.zip',\n",
       " '/g/data/xv83/dcfp/CAFE-f6/c5-d60-pX-f6-20050501/atmos_isobaric_daily.zarr.zip',\n",
       " '/g/data/xv83/dcfp/CAFE-f6/c5-d60-pX-f6-20051101/atmos_isobaric_daily.zarr.zip',\n",
       " '/g/data/xv83/dcfp/CAFE-f6/c5-d60-pX-f6-20060501/atmos_isobaric_daily.zarr.zip',\n",
       " '/g/data/xv83/dcfp/CAFE-f6/c5-d60-pX-f6-20061101/atmos_isobaric_daily.zarr.zip',\n",
       " '/g/data/xv83/dcfp/CAFE-f6/c5-d60-pX-f6-20070501/atmos_isobaric_daily.zarr.zip',\n",
       " '/g/data/xv83/dcfp/CAFE-f6/c5-d60-pX-f6-20071101/atmos_isobaric_daily.zarr.zip',\n",
       " '/g/data/xv83/dcfp/CAFE-f6/c5-d60-pX-f6-20080501/atmos_isobaric_daily.zarr.zip',\n",
       " '/g/data/xv83/dcfp/CAFE-f6/c5-d60-pX-f6-20081101/atmos_isobaric_daily.zarr.zip',\n",
       " '/g/data/xv83/dcfp/CAFE-f6/c5-d60-pX-f6-20090501/atmos_isobaric_daily.zarr.zip',\n",
       " '/g/data/xv83/dcfp/CAFE-f6/c5-d60-pX-f6-20091101/atmos_isobaric_daily.zarr.zip',\n",
       " '/g/data/xv83/dcfp/CAFE-f6/c5-d60-pX-f6-20100501/atmos_isobaric_daily.zarr.zip',\n",
       " '/g/data/xv83/dcfp/CAFE-f6/c5-d60-pX-f6-20101101/atmos_isobaric_daily.zarr.zip',\n",
       " '/g/data/xv83/dcfp/CAFE-f6/c5-d60-pX-f6-20110501/atmos_isobaric_daily.zarr.zip',\n",
       " '/g/data/xv83/dcfp/CAFE-f6/c5-d60-pX-f6-20111101/atmos_isobaric_daily.zarr.zip',\n",
       " '/g/data/xv83/dcfp/CAFE-f6/c5-d60-pX-f6-20120501/atmos_isobaric_daily.zarr.zip',\n",
       " '/g/data/xv83/dcfp/CAFE-f6/c5-d60-pX-f6-20121101/atmos_isobaric_daily.zarr.zip',\n",
       " '/g/data/xv83/dcfp/CAFE-f6/c5-d60-pX-f6-20130501/atmos_isobaric_daily.zarr.zip',\n",
       " '/g/data/xv83/dcfp/CAFE-f6/c5-d60-pX-f6-20131101/atmos_isobaric_daily.zarr.zip',\n",
       " '/g/data/xv83/dcfp/CAFE-f6/c5-d60-pX-f6-20140501/atmos_isobaric_daily.zarr.zip',\n",
       " '/g/data/xv83/dcfp/CAFE-f6/c5-d60-pX-f6-20141101/atmos_isobaric_daily.zarr.zip',\n",
       " '/g/data/xv83/dcfp/CAFE-f6/c5-d60-pX-f6-20150501/atmos_isobaric_daily.zarr.zip',\n",
       " '/g/data/xv83/dcfp/CAFE-f6/c5-d60-pX-f6-20151101/atmos_isobaric_daily.zarr.zip',\n",
       " '/g/data/xv83/dcfp/CAFE-f6/c5-d60-pX-f6-20160501/atmos_isobaric_daily.zarr.zip',\n",
       " '/g/data/xv83/dcfp/CAFE-f6/c5-d60-pX-f6-20161101/atmos_isobaric_daily.zarr.zip',\n",
       " '/g/data/xv83/dcfp/CAFE-f6/c5-d60-pX-f6-20170501/atmos_isobaric_daily.zarr.zip',\n",
       " '/g/data/xv83/dcfp/CAFE-f6/c5-d60-pX-f6-20171101/atmos_isobaric_daily.zarr.zip',\n",
       " '/g/data/xv83/dcfp/CAFE-f6/c5-d60-pX-f6-20180501/atmos_isobaric_daily.zarr.zip',\n",
       " '/g/data/xv83/dcfp/CAFE-f6/c5-d60-pX-f6-20181101/atmos_isobaric_daily.zarr.zip',\n",
       " '/g/data/xv83/dcfp/CAFE-f6/c5-d60-pX-f6-20190501/atmos_isobaric_daily.zarr.zip',\n",
       " '/g/data/xv83/dcfp/CAFE-f6/c5-d60-pX-f6-20191101/atmos_isobaric_daily.zarr.zip',\n",
       " '/g/data/xv83/dcfp/CAFE-f6/c5-d60-pX-f6-20200501/atmos_isobaric_daily.zarr.zip',\n",
       " '/g/data/xv83/dcfp/CAFE-f6/c5-d60-pX-f6-20201101/atmos_isobaric_daily.zarr.zip']"
      ]
     },
     "execution_count": 13,
     "metadata": {},
     "output_type": "execute_result"
    }
   ],
   "source": [
    "cafe_files1990s = glob.glob('/g/data/xv83/dcfp/CAFE-f6/c5-d60-pX-f6-199[5,6,7,8,9]*/atmos_isobaric_daily.zarr.zip')\n",
    "cafe_files2000s = glob.glob('/g/data/xv83/dcfp/CAFE-f6/c5-d60-pX-f6-2*/atmos_isobaric_daily.zarr.zip')\n",
    "cafe_files = cafe_files1990s + cafe_files2000s\n",
    "cafe_files.sort()\n",
    "print(cafe_files)"
   ]
  },
  {
   "cell_type": "code",
   "execution_count": 14,
   "id": "f3840581",
   "metadata": {},
   "outputs": [
    {
     "name": "stderr",
     "output_type": "stream",
     "text": [
      "/g/data/xv83/dbi599/miniconda3/envs/unseen/lib/python3.9/site-packages/xarray/core/indexing.py:1385: PerformanceWarning: Slicing is producing a large chunk. To accept the large\n",
      "chunk and silence this warning, set the option\n",
      "    >>> with dask.config.set(**{'array.slicing.split_large_chunks': False}):\n",
      "    ...     array[indexer]\n",
      "\n",
      "To avoid creating the large chunks, set the option\n",
      "    >>> with dask.config.set(**{'array.slicing.split_large_chunks': True}):\n",
      "    ...     array[indexer]\n",
      "  value = value[(slice(None),) * axis + (subkey,)]\n",
      "/g/data/xv83/dbi599/miniconda3/envs/unseen/lib/python3.9/site-packages/xarray/core/indexing.py:1385: PerformanceWarning: Slicing is producing a large chunk. To accept the large\n",
      "chunk and silence this warning, set the option\n",
      "    >>> with dask.config.set(**{'array.slicing.split_large_chunks': False}):\n",
      "    ...     array[indexer]\n",
      "\n",
      "To avoid creating the large chunks, set the option\n",
      "    >>> with dask.config.set(**{'array.slicing.split_large_chunks': True}):\n",
      "    ...     array[indexer]\n",
      "  value = value[(slice(None),) * axis + (subkey,)]\n",
      "/g/data/xv83/dbi599/miniconda3/envs/unseen/lib/python3.9/site-packages/xarray/core/indexing.py:1385: PerformanceWarning: Slicing is producing a large chunk. To accept the large\n",
      "chunk and silence this warning, set the option\n",
      "    >>> with dask.config.set(**{'array.slicing.split_large_chunks': False}):\n",
      "    ...     array[indexer]\n",
      "\n",
      "To avoid creating the large chunks, set the option\n",
      "    >>> with dask.config.set(**{'array.slicing.split_large_chunks': True}):\n",
      "    ...     array[indexer]\n",
      "  value = value[(slice(None),) * axis + (subkey,)]\n",
      "/g/data/xv83/dbi599/miniconda3/envs/unseen/lib/python3.9/site-packages/xarray/core/indexing.py:1385: PerformanceWarning: Slicing is producing a large chunk. To accept the large\n",
      "chunk and silence this warning, set the option\n",
      "    >>> with dask.config.set(**{'array.slicing.split_large_chunks': False}):\n",
      "    ...     array[indexer]\n",
      "\n",
      "To avoid creating the large chunks, set the option\n",
      "    >>> with dask.config.set(**{'array.slicing.split_large_chunks': True}):\n",
      "    ...     array[indexer]\n",
      "  value = value[(slice(None),) * axis + (subkey,)]\n",
      "/g/data/xv83/dbi599/miniconda3/envs/unseen/lib/python3.9/site-packages/xarray/core/indexing.py:1385: PerformanceWarning: Slicing is producing a large chunk. To accept the large\n",
      "chunk and silence this warning, set the option\n",
      "    >>> with dask.config.set(**{'array.slicing.split_large_chunks': False}):\n",
      "    ...     array[indexer]\n",
      "\n",
      "To avoid creating the large chunks, set the option\n",
      "    >>> with dask.config.set(**{'array.slicing.split_large_chunks': True}):\n",
      "    ...     array[indexer]\n",
      "  value = value[(slice(None),) * axis + (subkey,)]\n",
      "/g/data/xv83/dbi599/miniconda3/envs/unseen/lib/python3.9/site-packages/xarray/core/indexing.py:1385: PerformanceWarning: Slicing is producing a large chunk. To accept the large\n",
      "chunk and silence this warning, set the option\n",
      "    >>> with dask.config.set(**{'array.slicing.split_large_chunks': False}):\n",
      "    ...     array[indexer]\n",
      "\n",
      "To avoid creating the large chunks, set the option\n",
      "    >>> with dask.config.set(**{'array.slicing.split_large_chunks': True}):\n",
      "    ...     array[indexer]\n",
      "  value = value[(slice(None),) * axis + (subkey,)]\n",
      "/g/data/xv83/dbi599/miniconda3/envs/unseen/lib/python3.9/site-packages/xarray/core/indexing.py:1385: PerformanceWarning: Slicing is producing a large chunk. To accept the large\n",
      "chunk and silence this warning, set the option\n",
      "    >>> with dask.config.set(**{'array.slicing.split_large_chunks': False}):\n",
      "    ...     array[indexer]\n",
      "\n",
      "To avoid creating the large chunks, set the option\n",
      "    >>> with dask.config.set(**{'array.slicing.split_large_chunks': True}):\n",
      "    ...     array[indexer]\n",
      "  value = value[(slice(None),) * axis + (subkey,)]\n",
      "/g/data/xv83/dbi599/miniconda3/envs/unseen/lib/python3.9/site-packages/xarray/core/indexing.py:1385: PerformanceWarning: Slicing is producing a large chunk. To accept the large\n",
      "chunk and silence this warning, set the option\n",
      "    >>> with dask.config.set(**{'array.slicing.split_large_chunks': False}):\n",
      "    ...     array[indexer]\n",
      "\n",
      "To avoid creating the large chunks, set the option\n",
      "    >>> with dask.config.set(**{'array.slicing.split_large_chunks': True}):\n",
      "    ...     array[indexer]\n",
      "  value = value[(slice(None),) * axis + (subkey,)]\n",
      "/g/data/xv83/dbi599/miniconda3/envs/unseen/lib/python3.9/site-packages/xarray/core/indexing.py:1385: PerformanceWarning: Slicing is producing a large chunk. To accept the large\n",
      "chunk and silence this warning, set the option\n",
      "    >>> with dask.config.set(**{'array.slicing.split_large_chunks': False}):\n",
      "    ...     array[indexer]\n",
      "\n",
      "To avoid creating the large chunks, set the option\n",
      "    >>> with dask.config.set(**{'array.slicing.split_large_chunks': True}):\n",
      "    ...     array[indexer]\n",
      "  value = value[(slice(None),) * axis + (subkey,)]\n",
      "/g/data/xv83/dbi599/miniconda3/envs/unseen/lib/python3.9/site-packages/xarray/core/indexing.py:1385: PerformanceWarning: Slicing is producing a large chunk. To accept the large\n",
      "chunk and silence this warning, set the option\n",
      "    >>> with dask.config.set(**{'array.slicing.split_large_chunks': False}):\n",
      "    ...     array[indexer]\n",
      "\n",
      "To avoid creating the large chunks, set the option\n",
      "    >>> with dask.config.set(**{'array.slicing.split_large_chunks': True}):\n",
      "    ...     array[indexer]\n",
      "  value = value[(slice(None),) * axis + (subkey,)]\n",
      "/g/data/xv83/dbi599/miniconda3/envs/unseen/lib/python3.9/site-packages/xarray/core/indexing.py:1385: PerformanceWarning: Slicing is producing a large chunk. To accept the large\n",
      "chunk and silence this warning, set the option\n",
      "    >>> with dask.config.set(**{'array.slicing.split_large_chunks': False}):\n",
      "    ...     array[indexer]\n",
      "\n",
      "To avoid creating the large chunks, set the option\n",
      "    >>> with dask.config.set(**{'array.slicing.split_large_chunks': True}):\n",
      "    ...     array[indexer]\n",
      "  value = value[(slice(None),) * axis + (subkey,)]\n",
      "/g/data/xv83/dbi599/miniconda3/envs/unseen/lib/python3.9/site-packages/xarray/core/indexing.py:1385: PerformanceWarning: Slicing is producing a large chunk. To accept the large\n",
      "chunk and silence this warning, set the option\n",
      "    >>> with dask.config.set(**{'array.slicing.split_large_chunks': False}):\n",
      "    ...     array[indexer]\n",
      "\n",
      "To avoid creating the large chunks, set the option\n",
      "    >>> with dask.config.set(**{'array.slicing.split_large_chunks': True}):\n",
      "    ...     array[indexer]\n",
      "  value = value[(slice(None),) * axis + (subkey,)]\n",
      "/g/data/xv83/dbi599/miniconda3/envs/unseen/lib/python3.9/site-packages/xarray/core/indexing.py:1385: PerformanceWarning: Slicing is producing a large chunk. To accept the large\n",
      "chunk and silence this warning, set the option\n",
      "    >>> with dask.config.set(**{'array.slicing.split_large_chunks': False}):\n",
      "    ...     array[indexer]\n",
      "\n",
      "To avoid creating the large chunks, set the option\n",
      "    >>> with dask.config.set(**{'array.slicing.split_large_chunks': True}):\n",
      "    ...     array[indexer]\n",
      "  value = value[(slice(None),) * axis + (subkey,)]\n",
      "/g/data/xv83/dbi599/miniconda3/envs/unseen/lib/python3.9/site-packages/xarray/core/indexing.py:1385: PerformanceWarning: Slicing is producing a large chunk. To accept the large\n",
      "chunk and silence this warning, set the option\n",
      "    >>> with dask.config.set(**{'array.slicing.split_large_chunks': False}):\n",
      "    ...     array[indexer]\n",
      "\n",
      "To avoid creating the large chunks, set the option\n",
      "    >>> with dask.config.set(**{'array.slicing.split_large_chunks': True}):\n",
      "    ...     array[indexer]\n",
      "  value = value[(slice(None),) * axis + (subkey,)]\n",
      "/g/data/xv83/dbi599/miniconda3/envs/unseen/lib/python3.9/site-packages/xarray/core/indexing.py:1385: PerformanceWarning: Slicing is producing a large chunk. To accept the large\n",
      "chunk and silence this warning, set the option\n",
      "    >>> with dask.config.set(**{'array.slicing.split_large_chunks': False}):\n",
      "    ...     array[indexer]\n",
      "\n",
      "To avoid creating the large chunks, set the option\n",
      "    >>> with dask.config.set(**{'array.slicing.split_large_chunks': True}):\n",
      "    ...     array[indexer]\n",
      "  value = value[(slice(None),) * axis + (subkey,)]\n",
      "/g/data/xv83/dbi599/miniconda3/envs/unseen/lib/python3.9/site-packages/xarray/core/indexing.py:1385: PerformanceWarning: Slicing is producing a large chunk. To accept the large\n",
      "chunk and silence this warning, set the option\n",
      "    >>> with dask.config.set(**{'array.slicing.split_large_chunks': False}):\n",
      "    ...     array[indexer]\n",
      "\n",
      "To avoid creating the large chunks, set the option\n",
      "    >>> with dask.config.set(**{'array.slicing.split_large_chunks': True}):\n",
      "    ...     array[indexer]\n",
      "  value = value[(slice(None),) * axis + (subkey,)]\n"
     ]
    },
    {
     "name": "stderr",
     "output_type": "stream",
     "text": [
      "/g/data/xv83/dbi599/miniconda3/envs/unseen/lib/python3.9/site-packages/xarray/core/indexing.py:1385: PerformanceWarning: Slicing is producing a large chunk. To accept the large\n",
      "chunk and silence this warning, set the option\n",
      "    >>> with dask.config.set(**{'array.slicing.split_large_chunks': False}):\n",
      "    ...     array[indexer]\n",
      "\n",
      "To avoid creating the large chunks, set the option\n",
      "    >>> with dask.config.set(**{'array.slicing.split_large_chunks': True}):\n",
      "    ...     array[indexer]\n",
      "  value = value[(slice(None),) * axis + (subkey,)]\n",
      "/g/data/xv83/dbi599/miniconda3/envs/unseen/lib/python3.9/site-packages/xarray/core/indexing.py:1385: PerformanceWarning: Slicing is producing a large chunk. To accept the large\n",
      "chunk and silence this warning, set the option\n",
      "    >>> with dask.config.set(**{'array.slicing.split_large_chunks': False}):\n",
      "    ...     array[indexer]\n",
      "\n",
      "To avoid creating the large chunks, set the option\n",
      "    >>> with dask.config.set(**{'array.slicing.split_large_chunks': True}):\n",
      "    ...     array[indexer]\n",
      "  value = value[(slice(None),) * axis + (subkey,)]\n",
      "/g/data/xv83/dbi599/miniconda3/envs/unseen/lib/python3.9/site-packages/xarray/core/indexing.py:1385: PerformanceWarning: Slicing is producing a large chunk. To accept the large\n",
      "chunk and silence this warning, set the option\n",
      "    >>> with dask.config.set(**{'array.slicing.split_large_chunks': False}):\n",
      "    ...     array[indexer]\n",
      "\n",
      "To avoid creating the large chunks, set the option\n",
      "    >>> with dask.config.set(**{'array.slicing.split_large_chunks': True}):\n",
      "    ...     array[indexer]\n",
      "  value = value[(slice(None),) * axis + (subkey,)]\n",
      "/g/data/xv83/dbi599/miniconda3/envs/unseen/lib/python3.9/site-packages/xarray/core/indexing.py:1385: PerformanceWarning: Slicing is producing a large chunk. To accept the large\n",
      "chunk and silence this warning, set the option\n",
      "    >>> with dask.config.set(**{'array.slicing.split_large_chunks': False}):\n",
      "    ...     array[indexer]\n",
      "\n",
      "To avoid creating the large chunks, set the option\n",
      "    >>> with dask.config.set(**{'array.slicing.split_large_chunks': True}):\n",
      "    ...     array[indexer]\n",
      "  value = value[(slice(None),) * axis + (subkey,)]\n",
      "/g/data/xv83/dbi599/miniconda3/envs/unseen/lib/python3.9/site-packages/xarray/core/indexing.py:1385: PerformanceWarning: Slicing is producing a large chunk. To accept the large\n",
      "chunk and silence this warning, set the option\n",
      "    >>> with dask.config.set(**{'array.slicing.split_large_chunks': False}):\n",
      "    ...     array[indexer]\n",
      "\n",
      "To avoid creating the large chunks, set the option\n",
      "    >>> with dask.config.set(**{'array.slicing.split_large_chunks': True}):\n",
      "    ...     array[indexer]\n",
      "  value = value[(slice(None),) * axis + (subkey,)]\n",
      "/g/data/xv83/dbi599/miniconda3/envs/unseen/lib/python3.9/site-packages/xarray/core/indexing.py:1385: PerformanceWarning: Slicing is producing a large chunk. To accept the large\n",
      "chunk and silence this warning, set the option\n",
      "    >>> with dask.config.set(**{'array.slicing.split_large_chunks': False}):\n",
      "    ...     array[indexer]\n",
      "\n",
      "To avoid creating the large chunks, set the option\n",
      "    >>> with dask.config.set(**{'array.slicing.split_large_chunks': True}):\n",
      "    ...     array[indexer]\n",
      "  value = value[(slice(None),) * axis + (subkey,)]\n",
      "/g/data/xv83/dbi599/miniconda3/envs/unseen/lib/python3.9/site-packages/xarray/core/indexing.py:1385: PerformanceWarning: Slicing is producing a large chunk. To accept the large\n",
      "chunk and silence this warning, set the option\n",
      "    >>> with dask.config.set(**{'array.slicing.split_large_chunks': False}):\n",
      "    ...     array[indexer]\n",
      "\n",
      "To avoid creating the large chunks, set the option\n",
      "    >>> with dask.config.set(**{'array.slicing.split_large_chunks': True}):\n",
      "    ...     array[indexer]\n",
      "  value = value[(slice(None),) * axis + (subkey,)]\n",
      "/g/data/xv83/dbi599/miniconda3/envs/unseen/lib/python3.9/site-packages/xarray/core/indexing.py:1385: PerformanceWarning: Slicing is producing a large chunk. To accept the large\n",
      "chunk and silence this warning, set the option\n",
      "    >>> with dask.config.set(**{'array.slicing.split_large_chunks': False}):\n",
      "    ...     array[indexer]\n",
      "\n",
      "To avoid creating the large chunks, set the option\n",
      "    >>> with dask.config.set(**{'array.slicing.split_large_chunks': True}):\n",
      "    ...     array[indexer]\n",
      "  value = value[(slice(None),) * axis + (subkey,)]\n",
      "/g/data/xv83/dbi599/miniconda3/envs/unseen/lib/python3.9/site-packages/xarray/core/indexing.py:1385: PerformanceWarning: Slicing is producing a large chunk. To accept the large\n",
      "chunk and silence this warning, set the option\n",
      "    >>> with dask.config.set(**{'array.slicing.split_large_chunks': False}):\n",
      "    ...     array[indexer]\n",
      "\n",
      "To avoid creating the large chunks, set the option\n",
      "    >>> with dask.config.set(**{'array.slicing.split_large_chunks': True}):\n",
      "    ...     array[indexer]\n",
      "  value = value[(slice(None),) * axis + (subkey,)]\n",
      "/g/data/xv83/dbi599/miniconda3/envs/unseen/lib/python3.9/site-packages/xarray/core/indexing.py:1385: PerformanceWarning: Slicing is producing a large chunk. To accept the large\n",
      "chunk and silence this warning, set the option\n",
      "    >>> with dask.config.set(**{'array.slicing.split_large_chunks': False}):\n",
      "    ...     array[indexer]\n",
      "\n",
      "To avoid creating the large chunks, set the option\n",
      "    >>> with dask.config.set(**{'array.slicing.split_large_chunks': True}):\n",
      "    ...     array[indexer]\n",
      "  value = value[(slice(None),) * axis + (subkey,)]\n",
      "/g/data/xv83/dbi599/miniconda3/envs/unseen/lib/python3.9/site-packages/xarray/core/indexing.py:1385: PerformanceWarning: Slicing is producing a large chunk. To accept the large\n",
      "chunk and silence this warning, set the option\n",
      "    >>> with dask.config.set(**{'array.slicing.split_large_chunks': False}):\n",
      "    ...     array[indexer]\n",
      "\n",
      "To avoid creating the large chunks, set the option\n",
      "    >>> with dask.config.set(**{'array.slicing.split_large_chunks': True}):\n",
      "    ...     array[indexer]\n",
      "  value = value[(slice(None),) * axis + (subkey,)]\n",
      "/g/data/xv83/dbi599/miniconda3/envs/unseen/lib/python3.9/site-packages/xarray/core/indexing.py:1385: PerformanceWarning: Slicing is producing a large chunk. To accept the large\n",
      "chunk and silence this warning, set the option\n",
      "    >>> with dask.config.set(**{'array.slicing.split_large_chunks': False}):\n",
      "    ...     array[indexer]\n",
      "\n",
      "To avoid creating the large chunks, set the option\n",
      "    >>> with dask.config.set(**{'array.slicing.split_large_chunks': True}):\n",
      "    ...     array[indexer]\n",
      "  value = value[(slice(None),) * axis + (subkey,)]\n",
      "/g/data/xv83/dbi599/miniconda3/envs/unseen/lib/python3.9/site-packages/xarray/core/indexing.py:1385: PerformanceWarning: Slicing is producing a large chunk. To accept the large\n",
      "chunk and silence this warning, set the option\n",
      "    >>> with dask.config.set(**{'array.slicing.split_large_chunks': False}):\n",
      "    ...     array[indexer]\n",
      "\n",
      "To avoid creating the large chunks, set the option\n",
      "    >>> with dask.config.set(**{'array.slicing.split_large_chunks': True}):\n",
      "    ...     array[indexer]\n",
      "  value = value[(slice(None),) * axis + (subkey,)]\n",
      "/g/data/xv83/dbi599/miniconda3/envs/unseen/lib/python3.9/site-packages/xarray/core/indexing.py:1385: PerformanceWarning: Slicing is producing a large chunk. To accept the large\n",
      "chunk and silence this warning, set the option\n",
      "    >>> with dask.config.set(**{'array.slicing.split_large_chunks': False}):\n",
      "    ...     array[indexer]\n",
      "\n",
      "To avoid creating the large chunks, set the option\n",
      "    >>> with dask.config.set(**{'array.slicing.split_large_chunks': True}):\n",
      "    ...     array[indexer]\n",
      "  value = value[(slice(None),) * axis + (subkey,)]\n",
      "/g/data/xv83/dbi599/miniconda3/envs/unseen/lib/python3.9/site-packages/xarray/core/indexing.py:1385: PerformanceWarning: Slicing is producing a large chunk. To accept the large\n",
      "chunk and silence this warning, set the option\n",
      "    >>> with dask.config.set(**{'array.slicing.split_large_chunks': False}):\n",
      "    ...     array[indexer]\n",
      "\n",
      "To avoid creating the large chunks, set the option\n",
      "    >>> with dask.config.set(**{'array.slicing.split_large_chunks': True}):\n",
      "    ...     array[indexer]\n",
      "  value = value[(slice(None),) * axis + (subkey,)]\n",
      "/g/data/xv83/dbi599/miniconda3/envs/unseen/lib/python3.9/site-packages/xarray/core/indexing.py:1385: PerformanceWarning: Slicing is producing a large chunk. To accept the large\n",
      "chunk and silence this warning, set the option\n",
      "    >>> with dask.config.set(**{'array.slicing.split_large_chunks': False}):\n",
      "    ...     array[indexer]\n",
      "\n",
      "To avoid creating the large chunks, set the option\n",
      "    >>> with dask.config.set(**{'array.slicing.split_large_chunks': True}):\n",
      "    ...     array[indexer]\n",
      "  value = value[(slice(None),) * axis + (subkey,)]\n"
     ]
    },
    {
     "name": "stderr",
     "output_type": "stream",
     "text": [
      "/g/data/xv83/dbi599/miniconda3/envs/unseen/lib/python3.9/site-packages/xarray/core/indexing.py:1385: PerformanceWarning: Slicing is producing a large chunk. To accept the large\n",
      "chunk and silence this warning, set the option\n",
      "    >>> with dask.config.set(**{'array.slicing.split_large_chunks': False}):\n",
      "    ...     array[indexer]\n",
      "\n",
      "To avoid creating the large chunks, set the option\n",
      "    >>> with dask.config.set(**{'array.slicing.split_large_chunks': True}):\n",
      "    ...     array[indexer]\n",
      "  value = value[(slice(None),) * axis + (subkey,)]\n",
      "/g/data/xv83/dbi599/miniconda3/envs/unseen/lib/python3.9/site-packages/xarray/core/indexing.py:1385: PerformanceWarning: Slicing is producing a large chunk. To accept the large\n",
      "chunk and silence this warning, set the option\n",
      "    >>> with dask.config.set(**{'array.slicing.split_large_chunks': False}):\n",
      "    ...     array[indexer]\n",
      "\n",
      "To avoid creating the large chunks, set the option\n",
      "    >>> with dask.config.set(**{'array.slicing.split_large_chunks': True}):\n",
      "    ...     array[indexer]\n",
      "  value = value[(slice(None),) * axis + (subkey,)]\n",
      "/g/data/xv83/dbi599/miniconda3/envs/unseen/lib/python3.9/site-packages/xarray/core/indexing.py:1385: PerformanceWarning: Slicing is producing a large chunk. To accept the large\n",
      "chunk and silence this warning, set the option\n",
      "    >>> with dask.config.set(**{'array.slicing.split_large_chunks': False}):\n",
      "    ...     array[indexer]\n",
      "\n",
      "To avoid creating the large chunks, set the option\n",
      "    >>> with dask.config.set(**{'array.slicing.split_large_chunks': True}):\n",
      "    ...     array[indexer]\n",
      "  value = value[(slice(None),) * axis + (subkey,)]\n",
      "/g/data/xv83/dbi599/miniconda3/envs/unseen/lib/python3.9/site-packages/xarray/core/indexing.py:1385: PerformanceWarning: Slicing is producing a large chunk. To accept the large\n",
      "chunk and silence this warning, set the option\n",
      "    >>> with dask.config.set(**{'array.slicing.split_large_chunks': False}):\n",
      "    ...     array[indexer]\n",
      "\n",
      "To avoid creating the large chunks, set the option\n",
      "    >>> with dask.config.set(**{'array.slicing.split_large_chunks': True}):\n",
      "    ...     array[indexer]\n",
      "  value = value[(slice(None),) * axis + (subkey,)]\n",
      "/g/data/xv83/dbi599/miniconda3/envs/unseen/lib/python3.9/site-packages/xarray/core/indexing.py:1385: PerformanceWarning: Slicing is producing a large chunk. To accept the large\n",
      "chunk and silence this warning, set the option\n",
      "    >>> with dask.config.set(**{'array.slicing.split_large_chunks': False}):\n",
      "    ...     array[indexer]\n",
      "\n",
      "To avoid creating the large chunks, set the option\n",
      "    >>> with dask.config.set(**{'array.slicing.split_large_chunks': True}):\n",
      "    ...     array[indexer]\n",
      "  value = value[(slice(None),) * axis + (subkey,)]\n",
      "/g/data/xv83/dbi599/miniconda3/envs/unseen/lib/python3.9/site-packages/xarray/core/indexing.py:1385: PerformanceWarning: Slicing is producing a large chunk. To accept the large\n",
      "chunk and silence this warning, set the option\n",
      "    >>> with dask.config.set(**{'array.slicing.split_large_chunks': False}):\n",
      "    ...     array[indexer]\n",
      "\n",
      "To avoid creating the large chunks, set the option\n",
      "    >>> with dask.config.set(**{'array.slicing.split_large_chunks': True}):\n",
      "    ...     array[indexer]\n",
      "  value = value[(slice(None),) * axis + (subkey,)]\n",
      "/g/data/xv83/dbi599/miniconda3/envs/unseen/lib/python3.9/site-packages/xarray/core/indexing.py:1385: PerformanceWarning: Slicing is producing a large chunk. To accept the large\n",
      "chunk and silence this warning, set the option\n",
      "    >>> with dask.config.set(**{'array.slicing.split_large_chunks': False}):\n",
      "    ...     array[indexer]\n",
      "\n",
      "To avoid creating the large chunks, set the option\n",
      "    >>> with dask.config.set(**{'array.slicing.split_large_chunks': True}):\n",
      "    ...     array[indexer]\n",
      "  value = value[(slice(None),) * axis + (subkey,)]\n",
      "/g/data/xv83/dbi599/miniconda3/envs/unseen/lib/python3.9/site-packages/xarray/core/indexing.py:1385: PerformanceWarning: Slicing is producing a large chunk. To accept the large\n",
      "chunk and silence this warning, set the option\n",
      "    >>> with dask.config.set(**{'array.slicing.split_large_chunks': False}):\n",
      "    ...     array[indexer]\n",
      "\n",
      "To avoid creating the large chunks, set the option\n",
      "    >>> with dask.config.set(**{'array.slicing.split_large_chunks': True}):\n",
      "    ...     array[indexer]\n",
      "  value = value[(slice(None),) * axis + (subkey,)]\n",
      "/g/data/xv83/dbi599/miniconda3/envs/unseen/lib/python3.9/site-packages/xarray/core/indexing.py:1385: PerformanceWarning: Slicing is producing a large chunk. To accept the large\n",
      "chunk and silence this warning, set the option\n",
      "    >>> with dask.config.set(**{'array.slicing.split_large_chunks': False}):\n",
      "    ...     array[indexer]\n",
      "\n",
      "To avoid creating the large chunks, set the option\n",
      "    >>> with dask.config.set(**{'array.slicing.split_large_chunks': True}):\n",
      "    ...     array[indexer]\n",
      "  value = value[(slice(None),) * axis + (subkey,)]\n",
      "/g/data/xv83/dbi599/miniconda3/envs/unseen/lib/python3.9/site-packages/xarray/core/indexing.py:1385: PerformanceWarning: Slicing is producing a large chunk. To accept the large\n",
      "chunk and silence this warning, set the option\n",
      "    >>> with dask.config.set(**{'array.slicing.split_large_chunks': False}):\n",
      "    ...     array[indexer]\n",
      "\n",
      "To avoid creating the large chunks, set the option\n",
      "    >>> with dask.config.set(**{'array.slicing.split_large_chunks': True}):\n",
      "    ...     array[indexer]\n",
      "  value = value[(slice(None),) * axis + (subkey,)]\n",
      "/g/data/xv83/dbi599/miniconda3/envs/unseen/lib/python3.9/site-packages/xarray/core/indexing.py:1385: PerformanceWarning: Slicing is producing a large chunk. To accept the large\n",
      "chunk and silence this warning, set the option\n",
      "    >>> with dask.config.set(**{'array.slicing.split_large_chunks': False}):\n",
      "    ...     array[indexer]\n",
      "\n",
      "To avoid creating the large chunks, set the option\n",
      "    >>> with dask.config.set(**{'array.slicing.split_large_chunks': True}):\n",
      "    ...     array[indexer]\n",
      "  value = value[(slice(None),) * axis + (subkey,)]\n",
      "/g/data/xv83/dbi599/miniconda3/envs/unseen/lib/python3.9/site-packages/xarray/core/indexing.py:1385: PerformanceWarning: Slicing is producing a large chunk. To accept the large\n",
      "chunk and silence this warning, set the option\n",
      "    >>> with dask.config.set(**{'array.slicing.split_large_chunks': False}):\n",
      "    ...     array[indexer]\n",
      "\n",
      "To avoid creating the large chunks, set the option\n",
      "    >>> with dask.config.set(**{'array.slicing.split_large_chunks': True}):\n",
      "    ...     array[indexer]\n",
      "  value = value[(slice(None),) * axis + (subkey,)]\n",
      "/g/data/xv83/dbi599/miniconda3/envs/unseen/lib/python3.9/site-packages/xarray/core/indexing.py:1385: PerformanceWarning: Slicing is producing a large chunk. To accept the large\n",
      "chunk and silence this warning, set the option\n",
      "    >>> with dask.config.set(**{'array.slicing.split_large_chunks': False}):\n",
      "    ...     array[indexer]\n",
      "\n",
      "To avoid creating the large chunks, set the option\n",
      "    >>> with dask.config.set(**{'array.slicing.split_large_chunks': True}):\n",
      "    ...     array[indexer]\n",
      "  value = value[(slice(None),) * axis + (subkey,)]\n",
      "/g/data/xv83/dbi599/miniconda3/envs/unseen/lib/python3.9/site-packages/xarray/core/indexing.py:1385: PerformanceWarning: Slicing is producing a large chunk. To accept the large\n",
      "chunk and silence this warning, set the option\n",
      "    >>> with dask.config.set(**{'array.slicing.split_large_chunks': False}):\n",
      "    ...     array[indexer]\n",
      "\n",
      "To avoid creating the large chunks, set the option\n",
      "    >>> with dask.config.set(**{'array.slicing.split_large_chunks': True}):\n",
      "    ...     array[indexer]\n",
      "  value = value[(slice(None),) * axis + (subkey,)]\n",
      "/g/data/xv83/dbi599/miniconda3/envs/unseen/lib/python3.9/site-packages/xarray/core/indexing.py:1385: PerformanceWarning: Slicing is producing a large chunk. To accept the large\n",
      "chunk and silence this warning, set the option\n",
      "    >>> with dask.config.set(**{'array.slicing.split_large_chunks': False}):\n",
      "    ...     array[indexer]\n",
      "\n",
      "To avoid creating the large chunks, set the option\n",
      "    >>> with dask.config.set(**{'array.slicing.split_large_chunks': True}):\n",
      "    ...     array[indexer]\n",
      "  value = value[(slice(None),) * axis + (subkey,)]\n",
      "/g/data/xv83/dbi599/miniconda3/envs/unseen/lib/python3.9/site-packages/xarray/core/indexing.py:1385: PerformanceWarning: Slicing is producing a large chunk. To accept the large\n",
      "chunk and silence this warning, set the option\n",
      "    >>> with dask.config.set(**{'array.slicing.split_large_chunks': False}):\n",
      "    ...     array[indexer]\n",
      "\n",
      "To avoid creating the large chunks, set the option\n",
      "    >>> with dask.config.set(**{'array.slicing.split_large_chunks': True}):\n",
      "    ...     array[indexer]\n",
      "  value = value[(slice(None),) * axis + (subkey,)]\n"
     ]
    },
    {
     "name": "stderr",
     "output_type": "stream",
     "text": [
      "/g/data/xv83/dbi599/miniconda3/envs/unseen/lib/python3.9/site-packages/xarray/core/indexing.py:1385: PerformanceWarning: Slicing is producing a large chunk. To accept the large\n",
      "chunk and silence this warning, set the option\n",
      "    >>> with dask.config.set(**{'array.slicing.split_large_chunks': False}):\n",
      "    ...     array[indexer]\n",
      "\n",
      "To avoid creating the large chunks, set the option\n",
      "    >>> with dask.config.set(**{'array.slicing.split_large_chunks': True}):\n",
      "    ...     array[indexer]\n",
      "  value = value[(slice(None),) * axis + (subkey,)]\n",
      "/g/data/xv83/dbi599/miniconda3/envs/unseen/lib/python3.9/site-packages/xarray/core/indexing.py:1385: PerformanceWarning: Slicing is producing a large chunk. To accept the large\n",
      "chunk and silence this warning, set the option\n",
      "    >>> with dask.config.set(**{'array.slicing.split_large_chunks': False}):\n",
      "    ...     array[indexer]\n",
      "\n",
      "To avoid creating the large chunks, set the option\n",
      "    >>> with dask.config.set(**{'array.slicing.split_large_chunks': True}):\n",
      "    ...     array[indexer]\n",
      "  value = value[(slice(None),) * axis + (subkey,)]\n",
      "/g/data/xv83/dbi599/miniconda3/envs/unseen/lib/python3.9/site-packages/xarray/core/indexing.py:1385: PerformanceWarning: Slicing is producing a large chunk. To accept the large\n",
      "chunk and silence this warning, set the option\n",
      "    >>> with dask.config.set(**{'array.slicing.split_large_chunks': False}):\n",
      "    ...     array[indexer]\n",
      "\n",
      "To avoid creating the large chunks, set the option\n",
      "    >>> with dask.config.set(**{'array.slicing.split_large_chunks': True}):\n",
      "    ...     array[indexer]\n",
      "  value = value[(slice(None),) * axis + (subkey,)]\n",
      "/g/data/xv83/dbi599/miniconda3/envs/unseen/lib/python3.9/site-packages/xarray/core/indexing.py:1385: PerformanceWarning: Slicing is producing a large chunk. To accept the large\n",
      "chunk and silence this warning, set the option\n",
      "    >>> with dask.config.set(**{'array.slicing.split_large_chunks': False}):\n",
      "    ...     array[indexer]\n",
      "\n",
      "To avoid creating the large chunks, set the option\n",
      "    >>> with dask.config.set(**{'array.slicing.split_large_chunks': True}):\n",
      "    ...     array[indexer]\n",
      "  value = value[(slice(None),) * axis + (subkey,)]\n"
     ]
    }
   ],
   "source": [
    "cafe_ds = fileio.open_mfforecast(cafe_files,\n",
    "    variables=['pr'],\n",
    "    spatial_coords=[-44, -11, 113, 154],\n",
    "    shapefile='wheatbelt.zip',\n",
    "    spatial_agg='mean',\n",
    "    time_freq='A-DEC',\n",
    "    time_agg='sum',\n",
    "    input_freq='D',\n",
    "    reset_times=True,\n",
    "    metadata_file='../../config/dataset_cafe_monthly.yml',\n",
    "    complete_time_agg_periods=True,\n",
    "    units={'pr': 'mm day-1'},\n",
    "    units_timing='middle'\n",
    ")"
   ]
  },
  {
   "cell_type": "code",
   "execution_count": 15,
   "id": "af6574a3",
   "metadata": {},
   "outputs": [],
   "source": [
    "cafe_ds = cafe_ds.squeeze(drop=True)"
   ]
  },
  {
   "cell_type": "code",
   "execution_count": 16,
   "id": "7b280ecf",
   "metadata": {},
   "outputs": [
    {
     "name": "stdout",
     "output_type": "stream",
     "text": [
      "<xarray.Dataset>\n",
      "Dimensions:    (ensemble: 96, init_date: 52, lead_time: 11)\n",
      "Coordinates:\n",
      "  * lead_time  (lead_time) int64 0 1 2 3 4 5 6 7 8 9 10\n",
      "  * ensemble   (ensemble) int64 1 2 3 4 5 6 7 8 9 ... 88 89 90 91 92 93 94 95 96\n",
      "  * init_date  (init_date) object 1995-05-01 00:00:00 ... 2020-11-01 00:00:00\n",
      "    time       (lead_time, init_date) object 1995-05-01 12:00:00 ... 2030-11-...\n",
      "Data variables:\n",
      "    pr         (init_date, lead_time, ensemble) float64 dask.array<chunksize=(1, 1, 96), meta=np.ndarray>\n",
      "Attributes:\n",
      "    comment:    pressure level interpolator, version 3.0, precision=double\n",
      "    filename:   atmos_isobaric_daily.zarr\n",
      "    grid_tile:  N/A\n",
      "    grid_type:  regular\n",
      "    title:      AccessOcean-AM2\n"
     ]
    }
   ],
   "source": [
    "print(cafe_ds)"
   ]
  },
  {
   "cell_type": "code",
   "execution_count": 17,
   "id": "d26b8c7f",
   "metadata": {},
   "outputs": [],
   "source": [
    "cafe_ds = cafe_ds.compute()"
   ]
  },
  {
   "cell_type": "code",
   "execution_count": 18,
   "id": "3b37ed7c",
   "metadata": {},
   "outputs": [
    {
     "data": {
      "text/plain": [
       "array([         nan, 295.25228011, 324.1255393 , 450.45456505,\n",
       "       709.29127258, 628.22588415, 367.16031342, 536.08827853,\n",
       "       683.38194972, 381.03136122,          nan])"
      ]
     },
     "execution_count": 18,
     "metadata": {},
     "output_type": "execute_result"
    }
   ],
   "source": [
    "cafe_ds['pr'].isel({'ensemble': 1, 'init_date': 2}).values"
   ]
  },
  {
   "cell_type": "markdown",
   "id": "d8ed1c5a",
   "metadata": {},
   "source": [
    "## Independence testing"
   ]
  },
  {
   "cell_type": "code",
   "execution_count": 26,
   "id": "6fc37e4d",
   "metadata": {},
   "outputs": [],
   "source": [
    "mean_correlations, null_correlation_bounds = independence.run_tests(cafe_ds['pr'])"
   ]
  },
  {
   "cell_type": "code",
   "execution_count": 27,
   "id": "eb3ddc27",
   "metadata": {},
   "outputs": [
    {
     "name": "stdout",
     "output_type": "stream",
     "text": [
      "{5: <xarray.DataArray (lead_time: 11)>\n",
      "dask.array<mean_agg-aggregate, shape=(11,), dtype=float64, chunksize=(11,), chunktype=numpy.ndarray>\n",
      "Coordinates:\n",
      "  * lead_time  (lead_time) int64 0 1 2 3 4 5 6 7 8 9 10, 11: <xarray.DataArray (lead_time: 11)>\n",
      "dask.array<mean_agg-aggregate, shape=(11,), dtype=float64, chunksize=(11,), chunktype=numpy.ndarray>\n",
      "Coordinates:\n",
      "  * lead_time  (lead_time) int64 0 1 2 3 4 5 6 7 8 9 10}\n"
     ]
    }
   ],
   "source": [
    "print(mean_correlations)"
   ]
  },
  {
   "cell_type": "code",
   "execution_count": 28,
   "id": "a84c90b1",
   "metadata": {},
   "outputs": [
    {
     "data": {
      "image/png": "[encoded data removed]",
      "text/plain": [
       "<Figure size 432x288 with 1 Axes>"
      ]
     },
     "metadata": {
      "needs_background": "light"
     },
     "output_type": "display_data"
    }
   ],
   "source": [
    "independence.create_plot(\n",
    "    mean_correlations,\n",
    "    null_correlation_bounds,\n",
    "    'wheatbelt_independence.png'\n",
    ")"
   ]
  },
  {
   "cell_type": "markdown",
   "id": "f406f9d3",
   "metadata": {},
   "source": [
    "So we should drop the first two lead times (TODO: We need a function where we can drop a different number of lead times for each init date)."
   ]
  },
  {
   "cell_type": "code",
   "execution_count": 29,
   "id": "9e5b43c5",
   "metadata": {},
   "outputs": [],
   "source": [
    "cafe_da_indep = cafe_ds['pr'].dropna('lead_time').sel({'lead_time': slice(3, None)})"
   ]
  },
  {
   "cell_type": "markdown",
   "id": "10bdac97",
   "metadata": {},
   "source": [
    "## Bias correction"
   ]
  },
  {
   "cell_type": "code",
   "execution_count": 30,
   "id": "1c575d96",
   "metadata": {},
   "outputs": [],
   "source": [
    "correction_method = 'additive'\n",
    "baseline_period = ['2004-01-01', '2019-12-31']"
   ]
  },
  {
   "cell_type": "code",
   "execution_count": 31,
   "id": "8bf25d36",
   "metadata": {},
   "outputs": [
    {
     "name": "stdout",
     "output_type": "stream",
     "text": [
      "<xarray.DataArray 'pr' (month: 2, lead_time: 4)>\n",
      "array([[-79.73348325, -66.94647375, -51.25970312, -54.93298978],\n",
      "       [-65.09246704, -73.51923507, -52.91778398, -45.92252261]])\n",
      "Coordinates:\n",
      "  * lead_time  (lead_time) int64 3 4 5 6\n",
      "  * month      (month) int64 5 11\n",
      "Attributes:\n",
      "    cell_methods:            time: mean\n",
      "    interp_method:           conserve_order1\n",
      "    long_name:               Total precipitation rate\n",
      "    time_avg_info:           average_T1,average_T2,average_DT\n",
      "    units:                   mm d-1\n",
      "    climatological_period:   ['2004-01-01', '2019-12-31']\n",
      "    bias_correction_method:  additive\n",
      "    bias_correction_period:  2004-01-01-2019-12-31\n"
     ]
    }
   ],
   "source": [
    "bias = bias_correction.get_bias(\n",
    "    cafe_da_indep,\n",
    "    agcd_ds['pr'],\n",
    "    correction_method,\n",
    "    time_rounding='A',\n",
    "    time_period=baseline_period\n",
    ")\n",
    "print(bias)"
   ]
  },
  {
   "cell_type": "code",
   "execution_count": 32,
   "id": "c96d8c5d",
   "metadata": {},
   "outputs": [],
   "source": [
    "cafe_da_bc = bias_correction.remove_bias(cafe_da_indep, bias, correction_method)"
   ]
  },
  {
   "cell_type": "code",
   "execution_count": 33,
   "id": "792a3982",
   "metadata": {},
   "outputs": [
    {
     "name": "stdout",
     "output_type": "stream",
     "text": [
      "<xarray.DataArray 'pr' (init_date: 52, lead_time: 4, ensemble: 96)>\n",
      "array([[[524.34334892, 423.72240775, 345.6981328 , ..., 497.035067  ,\n",
      "         720.96984647, 487.41822556],\n",
      "        [756.71922122, 502.66832049, 631.11286809, ..., 484.01885366,\n",
      "         731.01379997, 715.73901964],\n",
      "        [453.42650452, 448.40739659, 385.7836385 , ..., 548.08953024,\n",
      "         371.65384747, 390.75545565],\n",
      "        [542.21469085, 482.31088959, 323.34694558, ..., 406.47430173,\n",
      "         461.33903561, 397.1072783 ]],\n",
      "\n",
      "       [[407.50722943, 421.50461423, 518.35997067, ..., 297.58475869,\n",
      "         659.85189933, 672.84788334],\n",
      "        [403.60118008, 414.98532039, 515.22784631, ..., 412.39009997,\n",
      "         578.01441685, 892.4359766 ],\n",
      "        [543.2960911 , 489.84362415, 433.60395736, ..., 378.36371688,\n",
      "         586.4444975 , 582.87564883],\n",
      "        [362.98479252, 449.51819413, 362.15578742, ..., 575.48779724,\n",
      "         464.06530109, 495.22348724]],\n",
      "\n",
      "       [[558.07571911, 530.18804829, 450.71580517, ..., 423.00590152,\n",
      "         456.17735185, 425.51927929],\n",
      "...\n",
      "        [345.60143427, 334.04914425, 327.68144788, ..., 519.94604012,\n",
      "         430.80118904, 571.08569926]],\n",
      "\n",
      "       [[415.75985892, 569.56351895, 449.04647941, ..., 393.57719303,\n",
      "         519.68391963, 580.76227266],\n",
      "        [394.04100601, 620.66823959, 578.65183231, ..., 354.13143612,\n",
      "         685.31122851, 388.72430185],\n",
      "        [344.93246388, 389.69111341, 586.74638938, ..., 401.40055621,\n",
      "         408.7341096 , 570.26030185],\n",
      "        [542.46865809, 391.31546375, 436.55173299, ..., 477.11777622,\n",
      "         466.61268569, 432.16756657]],\n",
      "\n",
      "       [[459.2477907 , 639.16943187, 449.38528168, ..., 475.85687061,\n",
      "         370.39289592, 484.87328554],\n",
      "        [470.16246576, 410.63016871, 520.03726131, ..., 481.67510786,\n",
      "         483.21805158, 503.53687751],\n",
      "        [649.88213876, 487.37815317, 396.97786293, ..., 362.92193668,\n",
      "         585.09520584, 428.34504556],\n",
      "        [385.72187119, 723.75014851, 440.03893141, ..., 316.36601749,\n",
      "         533.30090701, 423.55287866]]])\n",
      "Coordinates:\n",
      "  * lead_time  (lead_time) int64 3 4 5 6\n",
      "  * ensemble   (ensemble) int64 1 2 3 4 5 6 7 8 9 ... 88 89 90 91 92 93 94 95 96\n",
      "  * init_date  (init_date) object 1995-05-01 00:00:00 ... 2020-11-01 00:00:00\n",
      "    time       (lead_time, init_date) object 1998-05-01 12:00:00 ... 2026-11-...\n",
      "Attributes:\n",
      "    cell_methods:            time: mean\n",
      "    interp_method:           conserve_order1\n",
      "    long_name:               Total precipitation rate\n",
      "    time_avg_info:           average_T1,average_T2,average_DT\n",
      "    units:                   mm d-1\n",
      "    bias_correction_method:  additive\n",
      "    bias_correction_period:  2004-01-01-2019-12-31\n"
     ]
    }
   ],
   "source": [
    "print(cafe_da_bc)"
   ]
  },
  {
   "cell_type": "code",
   "execution_count": 34,
   "id": "456ef9c0",
   "metadata": {},
   "outputs": [],
   "source": [
    "cafe_da_bc = cafe_da_bc.compute()"
   ]
  },
  {
   "cell_type": "markdown",
   "id": "8dd4c55f",
   "metadata": {},
   "source": [
    "## Similarity testing"
   ]
  },
  {
   "cell_type": "code",
   "execution_count": 35,
   "id": "24fae65f",
   "metadata": {},
   "outputs": [
    {
     "data": {
      "image/png": "[encoded data removed]",
      "text/plain": [
       "<Figure size 720x432 with 1 Axes>"
      ]
     },
     "metadata": {
      "needs_background": "light"
     },
     "output_type": "display_data"
    }
   ],
   "source": [
    "fig = plt.figure(figsize=[10, 6])\n",
    "cafe_da_indep.plot.hist(\n",
    "    bins=50, density=True, label='CAFE', alpha=0.7\n",
    ")\n",
    "cafe_da_bc.plot.hist(\n",
    "    bins=50, density=True, label='CAFE BIAS CORRECTED', facecolor='darkblue', alpha=0.7\n",
    ")\n",
    "agcd_ds['pr'].plot.hist(\n",
    "    bins=50, density=True, label='AGCD', facecolor='green', alpha=0.7\n",
    ")\n",
    "plt.xlabel('annual precipitation (mm)')\n",
    "plt.ylabel('probability')\n",
    "plt.title(f'Average precipitation across the Australian wheatbelt')\n",
    "plt.legend()\n",
    "plt.savefig('wheatbelt_precip_histogram.png',\n",
    "            bbox_inches='tight', facecolor='white', dpi=200)\n",
    "plt.show()"
   ]
  },
  {
   "cell_type": "code",
   "execution_count": 36,
   "id": "92fc4536",
   "metadata": {},
   "outputs": [
    {
     "name": "stdout",
     "output_type": "stream",
     "text": [
      "[6.25815783e-04 4.22842520e-04 2.35883442e-05 1.61185358e-05]\n"
     ]
    }
   ],
   "source": [
    "time_slice = general_utils.date_pair_to_time_slice(baseline_period)\n",
    "\n",
    "similarity_ds = similarity.univariate_ks_test(cafe_da_bc, agcd_ds, 'pr')\n",
    "print(similarity_ds['pval'].values)"
   ]
  },
  {
   "cell_type": "code",
   "execution_count": 37,
   "id": "e8a2adfb",
   "metadata": {},
   "outputs": [
    {
     "data": {
      "text/plain": [
       "array([0.18361378, 0.18802083, 0.21766827, 0.22127404])"
      ]
     },
     "execution_count": 37,
     "metadata": {},
     "output_type": "execute_result"
    }
   ],
   "source": [
    "similarity_ds['ks'].values"
   ]
  },
  {
   "cell_type": "code",
   "execution_count": 38,
   "id": "51f87bd7",
   "metadata": {},
   "outputs": [
    {
     "data": {
      "image/png": "[encoded data removed]",
      "text/plain": [
       "<Figure size 720x432 with 1 Axes>"
      ]
     },
     "metadata": {
      "needs_background": "light"
     },
     "output_type": "display_data"
    }
   ],
   "source": [
    "fig = plt.figure(figsize=[10, 6])\n",
    "cafe_da_indep.plot.hist(\n",
    "    bins=50, density=True, label='CAFE', alpha=0.7\n",
    ")\n",
    "cafe_da_bc.plot.hist(\n",
    "    bins=50, density=True, label='CAFE BIAS CORRECTED', facecolor='darkblue', alpha=0.7\n",
    ")\n",
    "agcd_ds['pr'].sel({'time': time_slice}).plot.hist(\n",
    "    bins=50, density=True, label='AGCD', facecolor='green', alpha=0.7,\n",
    ")\n",
    "plt.xlabel('annual precipitation (mm)')\n",
    "plt.ylabel('probability')\n",
    "plt.title(f'Average precipitation across the Australian wheatbelt')\n",
    "plt.legend()\n",
    "plt.show()"
   ]
  },
  {
   "cell_type": "code",
   "execution_count": 39,
   "id": "0e2b1f22",
   "metadata": {},
   "outputs": [
    {
     "data": {
      "text/plain": [
       "array([0.72392362, 0.64508239, 0.46874995, 0.39093143])"
      ]
     },
     "execution_count": 39,
     "metadata": {},
     "output_type": "execute_result"
    }
   ],
   "source": [
    "similarity.univariate_ks_test(\n",
    "    cafe_da_bc,\n",
    "    agcd_ds.sel({'time': time_slice}),\n",
    "    'pr'\n",
    ")['pval'].values"
   ]
  },
  {
   "cell_type": "code",
   "execution_count": 40,
   "id": "ee0a4f31",
   "metadata": {},
   "outputs": [
    {
     "data": {
      "text/plain": [
       "array([0.16426282, 0.17588141, 0.20272436, 0.21594551])"
      ]
     },
     "execution_count": 40,
     "metadata": {},
     "output_type": "execute_result"
    }
   ],
   "source": [
    "similarity.univariate_ks_test(\n",
    "    cafe_da_bc,\n",
    "    agcd_ds.sel({'time': time_slice}),\n",
    "    'pr'\n",
    ")['ks'].values"
   ]
  },
  {
   "cell_type": "code",
   "execution_count": 60,
   "id": "0c2211c4",
   "metadata": {},
   "outputs": [],
   "source": [
    "test = '/g/data/xv83/dbi599/ag/data/ks-test_pr_cafe-c5-d60-pX-f6_19950501-20191101_A-DEC_wheat-sheep-mean_bias-corrected-agcd-additive.zarr.zip'"
   ]
  },
  {
   "cell_type": "code",
   "execution_count": 61,
   "id": "6a19fd69",
   "metadata": {},
   "outputs": [],
   "source": [
    "test_ds = fileio.open_dataset(test)"
   ]
  },
  {
   "cell_type": "code",
   "execution_count": 80,
   "id": "76bb86f8",
   "metadata": {},
   "outputs": [
    {
     "data": {
      "text/plain": [
       "array([0.29851961, 0.48370353, 0.80555645, 0.764961  , 0.53110914,\n",
       "       0.5026992 , 0.49506207, 0.46504714, 0.45281131])"
      ]
     },
     "execution_count": 80,
     "metadata": {},
     "output_type": "execute_result"
    }
   ],
   "source": [
    "test_ds.sel({'region': 'all'})['pval'].values"
   ]
  },
  {
   "cell_type": "code",
   "execution_count": 81,
   "id": "d4a7ee13",
   "metadata": {},
   "outputs": [
    {
     "data": {
      "text/plain": [
       "array([0.23397436, 0.20032051, 0.15164263, 0.15805288, 0.19290865,\n",
       "       0.19731571, 0.19851763, 0.20332532, 0.20532853])"
      ]
     },
     "execution_count": 81,
     "metadata": {},
     "output_type": "execute_result"
    }
   ],
   "source": [
    "test_ds.sel({'region': 'all'})['ks'].values"
   ]
  },
  {
   "cell_type": "code",
   "execution_count": null,
   "id": "824593a9",
   "metadata": {},
   "outputs": [],
   "source": []
  }
 ],
 "metadata": {
  "kernelspec": {
   "display_name": "Python 3",
   "language": "python",
   "name": "python3"
  },
  "language_info": {
   "codemirror_mode": {
    "name": "ipython",
    "version": 3
   },
   "file_extension": ".py",
   "mimetype": "text/x-python",
   "name": "python",
   "nbconvert_exporter": "python",
   "pygments_lexer": "ipython3",
   "version": "3.9.4"
  }
 },
 "nbformat": 4,
 "nbformat_minor": 5
}
